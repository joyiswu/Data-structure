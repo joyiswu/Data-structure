{
 "cells": [
  {
   "cell_type": "markdown",
   "metadata": {},
   "source": [
    "# 冒泡排序"
   ]
  },
  {
   "cell_type": "code",
   "execution_count": 2,
   "metadata": {},
   "outputs": [],
   "source": [
    "a = 1"
   ]
  },
  {
   "cell_type": "code",
   "execution_count": null,
   "metadata": {},
   "outputs": [],
   "source": []
  },
  {
   "cell_type": "code",
   "execution_count": 8,
   "metadata": {},
   "outputs": [
    {
     "name": "stdout",
     "output_type": "stream",
     "text": [
      "[1, 3, 3, 5, 5, 5, 6, 9]\n"
     ]
    }
   ],
   "source": [
    "def merge_two_sorted_list(list_a, list_b):\n",
    "    result_list = []\n",
    "    l, r = 0, 0\n",
    "    while l<len(list_a) and r<len(list_b):\n",
    "        if list_a[l]<=list_b[r]:\n",
    "            result_list.append(list_a[l])\n",
    "            l+=1\n",
    "        else:\n",
    "            result_list.append(list_b[r])\n",
    "            r+=1\n",
    "            \n",
    "    if l<len(list_a): result_list = result_list + list_a[l:]\n",
    "    if r<len(list_b): result_list = result_list + list_b[r:]\n",
    "    \n",
    "    return result_list\n",
    "\n",
    "list_a = [1, 3, 5, 6]\n",
    "list_b = [3, 5, 5, 9]\n",
    "\n",
    "result_list = merge_two_sorted_list(list_a, list_b)\n",
    "print(result_list)"
   ]
  },
  {
   "cell_type": "code",
   "execution_count": 14,
   "metadata": {},
   "outputs": [
    {
     "name": "stdout",
     "output_type": "stream",
     "text": [
      "[-23, -3, 0, 0, 1, 1, 3, 3, 4, 4, 5, 34, 89, 90, 100, 123]\n",
      "True\n"
     ]
    }
   ],
   "source": [
    "\n",
    "def merge_sort(li):\n",
    "    \n",
    "    if len(li) == 1: return li\n",
    "    \n",
    "    middle = len(li)//2\n",
    "    l,r = li[:middle], li[middle:]\n",
    "    ll, lr = merge_sort(l), merge_sort(r)\n",
    "    return merge(ll, lr)\n",
    "\n",
    "\n",
    "# Sort two sorted list as one sorted list \n",
    "def merge(ll, lr):\n",
    "    \n",
    "    result = []\n",
    "    while len(ll)>0 and len(lr)>0:\n",
    "        if ll[0] <= lr[0]: \n",
    "            result.append(ll.pop(0))\n",
    "        else: result.append(lr.pop(0))\n",
    "            \n",
    "    result += ll\n",
    "    result += lr\n",
    "    \n",
    "    return result\n",
    "\n",
    "\n",
    "if __name__ == '__main__':\n",
    "    list = [5,3,4,90,34,1,100,0,-3,89,-23,123,0,1,3,4]\n",
    "    list_sorted = merge_sort(list)\n",
    "    list_sorted_verify = sorted(list_sorted)\n",
    "    print(list_sorted)\n",
    "    print(list_sorted == list_sorted_verify)"
   ]
  },
  {
   "cell_type": "code",
   "execution_count": 15,
   "metadata": {},
   "outputs": [
    {
     "data": {
      "text/plain": [
       "[1, 2]"
      ]
     },
     "execution_count": 15,
     "metadata": {},
     "output_type": "execute_result"
    }
   ],
   "source": [
    "a = [1,2,34]\n",
    "a.pop()\n",
    "a"
   ]
  },
  {
   "cell_type": "code",
   "execution_count": 55,
   "metadata": {},
   "outputs": [
    {
     "name": "stdout",
     "output_type": "stream",
     "text": [
      "0\n",
      "2\n",
      "4\n"
     ]
    }
   ],
   "source": [
    "a = range(0,5,2)\n",
    "for i in a: print(i)\n"
   ]
  },
  {
   "cell_type": "code",
   "execution_count": 62,
   "metadata": {},
   "outputs": [
    {
     "name": "stdout",
     "output_type": "stream",
     "text": [
      "2\n",
      "4\n",
      "6\n",
      "8\n"
     ]
    }
   ],
   "source": [
    "\n",
    "for i in range(2,10,2): print(i)\n"
   ]
  },
  {
   "cell_type": "code",
   "execution_count": 92,
   "metadata": {},
   "outputs": [
    {
     "data": {
      "text/plain": [
       "[13, 27, 49, 55, 4, 49, 38, 65, 97, 76]"
      ]
     },
     "execution_count": 92,
     "metadata": {},
     "output_type": "execute_result"
    }
   ],
   "source": [
    "def shell_insert_sort(a,dk):\n",
    "    n = len(a)\n",
    "    for k in range(dk): # 间距取dk，一共可以组成dk个子序列\n",
    "        for i in range(k+dk,n,dk):#第0，dk,2dk....为一组\n",
    "            temp = a[i] # current value\n",
    "            position = i \n",
    "            while position>k and a[position-dk]>temp:# 寻找插入的位置\n",
    "                a[position] = a[position-dk]\n",
    "                position = position-dk\n",
    "            a[position] = temp # 插入\n",
    "\n",
    "a = [49,38,65,97,76,13,27,49,55,4]\n",
    "shell_insert_sort(a, 5)\n",
    "a"
   ]
  },
  {
   "cell_type": "code",
   "execution_count": 93,
   "metadata": {},
   "outputs": [
    {
     "data": {
      "text/plain": [
       "[13, 27, 49, 55, 4, 49, 38, 65, 97, 76]"
      ]
     },
     "execution_count": 93,
     "metadata": {},
     "output_type": "execute_result"
    }
   ],
   "source": [
    "def shell_insert_sort(a,dk):\n",
    "    n = len(a)\n",
    "    for k in range(dk): # 间距取dk，一共可以组成dk个子序列\n",
    "        for i in range(k+dk,n,dk):#第0，dk,2dk....为一组\n",
    "            temp = a[i] # 记录待插入的元素值\n",
    "            j = i - dk # 子序列的前一个元素\n",
    "            while j>=k and a[j]>temp:# 寻找插入的位置\n",
    "                a[j+dk] = a[j]\n",
    "                j = j - dk\n",
    "            a[j+dk] = temp # 插入\n",
    "        \n",
    "a = [49,38,65,97,76,13,27,49,55,4]\n",
    "shell_insert_sort(a, 5)\n",
    "a"
   ]
  },
  {
   "cell_type": "code",
   "execution_count": null,
   "metadata": {},
   "outputs": [],
   "source": []
  },
  {
   "cell_type": "code",
   "execution_count": null,
   "metadata": {},
   "outputs": [],
   "source": []
  },
  {
   "cell_type": "code",
   "execution_count": null,
   "metadata": {},
   "outputs": [],
   "source": []
  },
  {
   "cell_type": "code",
   "execution_count": null,
   "metadata": {},
   "outputs": [],
   "source": []
  },
  {
   "cell_type": "code",
   "execution_count": null,
   "metadata": {},
   "outputs": [],
   "source": []
  },
  {
   "cell_type": "code",
   "execution_count": null,
   "metadata": {},
   "outputs": [],
   "source": []
  }
 ],
 "metadata": {
  "kernelspec": {
   "display_name": "Python 3",
   "language": "python",
   "name": "python3"
  },
  "language_info": {
   "codemirror_mode": {
    "name": "ipython",
    "version": 3
   },
   "file_extension": ".py",
   "mimetype": "text/x-python",
   "name": "python",
   "nbconvert_exporter": "python",
   "pygments_lexer": "ipython3",
   "version": "3.6.4"
  }
 },
 "nbformat": 4,
 "nbformat_minor": 2
}
