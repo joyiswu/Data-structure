{
 "cells": [
  {
   "cell_type": "markdown",
   "metadata": {},
   "source": [
    "# 冒泡排序"
   ]
  },
  {
   "cell_type": "code",
   "execution_count": 17,
   "metadata": {},
   "outputs": [
    {
     "name": "stdout",
     "output_type": "stream",
     "text": [
      "[1, 3, 3, 5, 5, 5, 6, 9]\n"
     ]
    }
   ],
   "source": [
    "def merge_two_sorted_list(list_a, list_b):\n",
    "    result_list = []\n",
    "    l, r = 0, 0\n",
    "    while l<len(list_a) and r<len(list_b):\n",
    "        if list_a[l]<=list_b[r]:\n",
    "            result_list.append(list_a[l])\n",
    "            l+=1\n",
    "        else:\n",
    "            result_list.append(list_b[r])\n",
    "            r+=1\n",
    "            \n",
    "    if l<len(list_a): result_list = result_list + list_a[l:]\n",
    "    if r<len(list_b): result_list = result_list + list_b[r:]\n",
    "    \n",
    "    return result_list\n",
    "\n",
    "list_a = [1, 3, 5, 6]\n",
    "list_b = [3, 5, 5, 9]\n",
    "\n",
    "result_list = merge_two_sorted_list(list_a, list_b)\n",
    "print(result_list)"
   ]
  },
  {
   "cell_type": "code",
   "execution_count": 18,
   "metadata": {},
   "outputs": [
    {
     "name": "stdout",
     "output_type": "stream",
     "text": [
      "[-23, -3, 0, 0, 1, 1, 3, 3, 4, 4, 5, 34, 89, 90, 100, 123]\n",
      "True\n"
     ]
    }
   ],
   "source": [
    "\n",
    "def merge_sort(li):\n",
    "    \n",
    "    if len(li) == 1: return li\n",
    "    \n",
    "    middle = len(li)//2\n",
    "    l,r = li[:middle], li[middle:]\n",
    "    ll, lr = merge_sort(l), merge_sort(r)\n",
    "    return merge(ll, lr)\n",
    "\n",
    "\n",
    "# Sort two sorted list as one sorted list \n",
    "def merge(ll, lr):\n",
    "    \n",
    "    result = []\n",
    "    while len(ll)>0 and len(lr)>0:\n",
    "        if ll[0] <= lr[0]: \n",
    "            result.append(ll.pop(0))\n",
    "        else: result.append(lr.pop(0))\n",
    "            \n",
    "    result += ll\n",
    "    result += lr\n",
    "    \n",
    "    return result\n",
    "\n",
    "\n",
    "if __name__ == '__main__':\n",
    "    list = [5,3,4,90,34,1,100,0,-3,89,-23,123,0,1,3,4]\n",
    "    list_sorted = merge_sort(list)\n",
    "    list_sorted_verify = sorted(list_sorted)\n",
    "    print(list_sorted)\n",
    "    print(list_sorted == list_sorted_verify)"
   ]
  },
  {
   "cell_type": "code",
   "execution_count": 19,
   "metadata": {},
   "outputs": [
    {
     "data": {
      "text/plain": [
       "[13, 27, 49, 55, 4, 49, 38, 65, 97, 76]"
      ]
     },
     "execution_count": 19,
     "metadata": {},
     "output_type": "execute_result"
    }
   ],
   "source": [
    "def shell_insert_sort(a,dk):\n",
    "    n = len(a)\n",
    "    for k in range(dk): # 间距取dk，一共可以组成dk个子序列\n",
    "        for i in range(k+dk,n,dk):#第0，dk,2dk....为一组\n",
    "            temp = a[i] # current value\n",
    "            position = i \n",
    "            while position>k and a[position-dk]>temp:# 寻找插入的位置\n",
    "                a[position] = a[position-dk]\n",
    "                position = position-dk\n",
    "            a[position] = temp # 插入\n",
    "\n",
    "a = [49,38,65,97,76,13,27,49,55,4]\n",
    "shell_insert_sort(a, 5)\n",
    "a"
   ]
  },
  {
   "cell_type": "code",
   "execution_count": 20,
   "metadata": {},
   "outputs": [
    {
     "data": {
      "text/plain": [
       "[13, 27, 49, 55, 4, 49, 38, 65, 97, 76]"
      ]
     },
     "execution_count": 20,
     "metadata": {},
     "output_type": "execute_result"
    }
   ],
   "source": [
    "def shell_insert_sort(a,dk):\n",
    "    n = len(a)\n",
    "    for k in range(dk): # 间距取dk，一共可以组成dk个子序列\n",
    "        for i in range(k+dk,n,dk):#第0，dk,2dk....为一组\n",
    "            temp = a[i] # 记录待插入的元素值\n",
    "            j = i - dk # 子序列的前一个元素\n",
    "            while j>=k and a[j]>temp:# 寻找插入的位置\n",
    "                a[j+dk] = a[j]\n",
    "                j = j - dk\n",
    "            a[j+dk] = temp # 插入\n",
    "        \n",
    "a = [49,38,65,97,76,13,27,49,55,4]\n",
    "shell_insert_sort(a, 5)\n",
    "a"
   ]
  },
  {
   "cell_type": "code",
   "execution_count": 16,
   "metadata": {},
   "outputs": [
    {
     "data": {
      "text/plain": [
       "[1, 2, 3, 1]"
      ]
     },
     "execution_count": 16,
     "metadata": {},
     "output_type": "execute_result"
    }
   ],
   "source": [
    "def f(b):\n",
    "    b += [1]\n",
    "\n",
    "a = [1,2,3]\n",
    "f(a)\n",
    "a"
   ]
  },
  {
   "cell_type": "markdown",
   "metadata": {},
   "source": [
    "# 快速排序变形"
   ]
  },
  {
   "cell_type": "markdown",
   "metadata": {},
   "source": [
    "### 原地递归快排"
   ]
  },
  {
   "cell_type": "code",
   "execution_count": 47,
   "metadata": {},
   "outputs": [],
   "source": [
    "def quick_sort(li, l, r):\n",
    "    if l<r:\n",
    "        mid = partition(li, l, r)\n",
    "        quick_sort(li, l, mid-1)\n",
    "        quick_sort(li, mid+1, r)        \n",
    "        "
   ]
  },
  {
   "cell_type": "code",
   "execution_count": 63,
   "metadata": {},
   "outputs": [],
   "source": [
    "def partition(li, l, r):\n",
    "    \n",
    "    while l<r:\n",
    "        \n",
    "        key = li[r]\n",
    "        \n",
    "        for i in range(l, r):\n",
    "            if li[i] > key:\n",
    "                li[l], li[r], l = li[r], li[l], i\n",
    "                break      \n",
    "            if i == r-1: l = r\n",
    "                \n",
    "        for j in range(r, l, -1):\n",
    "            if li[j] < key:\n",
    "                li[l], li[r], r = li[r], li[l], j\n",
    "                break     \n",
    "            if j == l+1: r = l\n",
    "    return r\n",
    "    "
   ]
  },
  {
   "cell_type": "markdown",
   "metadata": {},
   "source": [
    "test"
   ]
  },
  {
   "cell_type": "code",
   "execution_count": 100,
   "metadata": {},
   "outputs": [
    {
     "name": "stdout",
     "output_type": "stream",
     "text": [
      "right\n",
      "right\n",
      "right\n",
      "right\n",
      "right\n",
      "right\n",
      "right\n",
      "right\n",
      "right\n",
      "right\n"
     ]
    }
   ],
   "source": [
    "\n",
    "import random\n",
    "\n",
    "for j in range(10):\n",
    "    a = [random.randint(-100,10) for i in range(10)]\n",
    "    a_sort = sorted(a)\n",
    "    quick_sort(a, 0, len(a)-1)\n",
    "\n",
    "    if a == a_sort: print('right')"
   ]
  },
  {
   "cell_type": "markdown",
   "metadata": {},
   "source": [
    "### 非递归快排 "
   ]
  },
  {
   "cell_type": "markdown",
   "metadata": {},
   "source": [
    "快速排序非递归的执行过程中，只需要一个堆栈空间，其运行过程如下：\n",
    "1. 对原数组进行一次划分，分别将左边的 Record 和 右边的 Record 入栈 stack。\n",
    "2. 判断 stack 是否为空，若是，直接结束；若不是，将栈顶 Record 取出，进行一次划分。\n",
    "3. 判断左边的 Record 长度（这里指 record.right - record.left + 1）大于 1，将左边的 Record 入栈；同理，右边的 Record。\n",
    "4. 循环步骤 2、3。"
   ]
  },
  {
   "cell_type": "code",
   "execution_count": 111,
   "metadata": {},
   "outputs": [
    {
     "name": "stdout",
     "output_type": "stream",
     "text": [
      "initial [4, 0]\n",
      "index: 0 l: 0 r: 4\n",
      "l []\n",
      "r [4, 1]\n",
      "index: 4 l: 1 r: 4\n",
      "l [3, 1]\n",
      "r [3, 1]\n",
      "index: 1 l: 1 r: 3\n",
      "l []\n",
      "r [3, 2]\n",
      "index: 2 l: 2 r: 3\n",
      "l []\n",
      "r []\n"
     ]
    }
   ],
   "source": [
    "def quick_sort(arr):\n",
    "\n",
    "    if len(arr) < 2:\n",
    "        return arr\n",
    "    stack = []\n",
    "    stack.append(len(arr)-1)\n",
    "    stack.append(0)\n",
    "    \n",
    "    print('initial', stack)\n",
    "    while stack:\n",
    "        l = stack.pop()\n",
    "        r = stack.pop()\n",
    "        index = partition(arr, l, r)\n",
    "        print('index:', index, 'l:', l, 'r:', r)\n",
    "        if l < index - 1:\n",
    "            stack.append(index - 1)\n",
    "            stack.append(l)\n",
    "        print('l', stack)\n",
    "        if r > index + 1:\n",
    "            stack.append(r)\n",
    "            stack.append(index + 1)\n",
    "        print('r', stack)\n",
    "def partition(li, l, r):\n",
    "    \n",
    "    while l<r:\n",
    "        \n",
    "        key = li[r]\n",
    "        \n",
    "        for i in range(l, r):\n",
    "            if li[i] > key:\n",
    "                li[l], li[r], l = li[r], li[l], i\n",
    "                break      \n",
    "            if i == r-1: l = r\n",
    "                \n",
    "        for j in range(r, l, -1):\n",
    "            if li[j] < key:\n",
    "                li[l], li[r], r = li[r], li[l], j\n",
    "                break     \n",
    "            if j == l+1: r = l\n",
    "    return r\n",
    " \n",
    "quick_sort([9, 8, 0, 1, -2])"
   ]
  },
  {
   "cell_type": "code",
   "execution_count": 103,
   "metadata": {},
   "outputs": [
    {
     "name": "stdout",
     "output_type": "stream",
     "text": [
      "right\n",
      "right\n",
      "right\n",
      "right\n",
      "right\n",
      "right\n",
      "right\n",
      "right\n",
      "right\n",
      "right\n"
     ]
    }
   ],
   "source": [
    "import random\n",
    "\n",
    "for j in range(10):\n",
    "    a = [random.randint(-100,10) for i in range(10)]\n",
    "    a_sort = sorted(a)\n",
    "    quick_sort(a)\n",
    "\n",
    "    if a == a_sort: print('right')"
   ]
  },
  {
   "cell_type": "code",
   "execution_count": null,
   "metadata": {},
   "outputs": [],
   "source": []
  },
  {
   "cell_type": "code",
   "execution_count": null,
   "metadata": {},
   "outputs": [],
   "source": []
  },
  {
   "cell_type": "code",
   "execution_count": null,
   "metadata": {},
   "outputs": [],
   "source": []
  },
  {
   "cell_type": "code",
   "execution_count": null,
   "metadata": {},
   "outputs": [],
   "source": []
  },
  {
   "cell_type": "code",
   "execution_count": 179,
   "metadata": {},
   "outputs": [],
   "source": [
    "class equipment():\n",
    "    def __init__(self, name=None, w=None, time=None):        \n",
    "        self.name, self.w, self.time = name, w, time\n",
    "        \n",
    "    def change_time(self, time):\n",
    "        self.time = time\n",
    "        \n",
    "    def change_w(self, w):\n",
    "        self.w = w\n",
    "        \n",
    "    def get_kwh(self):\n",
    "        return self.time*self.w/1000\n",
    "        \n",
    "    def get_money(self):\n",
    "        return self.get_kwh()*1.3"
   ]
  },
  {
   "cell_type": "code",
   "execution_count": 180,
   "metadata": {},
   "outputs": [
    {
     "data": {
      "text/plain": [
       "494.52"
      ]
     },
     "execution_count": 180,
     "metadata": {},
     "output_type": "execute_result"
    }
   ],
   "source": [
    "air_condition = equipment('air_condition', 1585, 8*30)\n",
    "air_condition.get_money()"
   ]
  },
  {
   "cell_type": "code",
   "execution_count": 172,
   "metadata": {},
   "outputs": [
    {
     "data": {
      "text/plain": [
       "189.0"
      ]
     },
     "execution_count": 172,
     "metadata": {},
     "output_type": "execute_result"
    }
   ],
   "source": [
    "shower = equipment('air_condition', 2100, 2*30)\n",
    "shower.get_money()\n"
   ]
  },
  {
   "cell_type": "code",
   "execution_count": 174,
   "metadata": {},
   "outputs": [
    {
     "data": {
      "text/plain": [
       "189.0"
      ]
     },
     "execution_count": 174,
     "metadata": {},
     "output_type": "execute_result"
    }
   ],
   "source": [
    "shower = equipment('air_condition', 2100, 2*30)\n",
    "shower.get_money()\n"
   ]
  }
 ],
 "metadata": {
  "kernelspec": {
   "display_name": "Python 3",
   "language": "python",
   "name": "python3"
  },
  "language_info": {
   "codemirror_mode": {
    "name": "ipython",
    "version": 3
   },
   "file_extension": ".py",
   "mimetype": "text/x-python",
   "name": "python",
   "nbconvert_exporter": "python",
   "pygments_lexer": "ipython3",
   "version": "3.6.4"
  }
 },
 "nbformat": 4,
 "nbformat_minor": 2
}
