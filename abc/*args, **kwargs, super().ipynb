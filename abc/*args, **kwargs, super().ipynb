{
 "cells": [
  {
   "cell_type": "markdown",
   "metadata": {},
   "source": [
    "# *args"
   ]
  },
  {
   "cell_type": "markdown",
   "metadata": {},
   "source": [
    "多个实参，放在一个元组里，以*开头，可以传多个参数"
   ]
  },
  {
   "cell_type": "markdown",
   "metadata": {},
   "source": [
    "*args: 表示的就是将实参中按照位置传值，多出来的值都给args，并且以元组的方式呈现。"
   ]
  },
  {
   "cell_type": "code",
   "execution_count": 1,
   "metadata": {},
   "outputs": [
    {
     "name": "stdout",
     "output_type": "stream",
     "text": [
      "1\n",
      "(2, 3, 4, 5)\n"
     ]
    }
   ],
   "source": [
    "def foo(x, *args):\n",
    "    print(x)\n",
    "    print(args)\n",
    "    \n",
    "foo(1, 2 ,3, 4, 5)"
   ]
  },
  {
   "cell_type": "markdown",
   "metadata": {},
   "source": [
    "### args和位置参数和默认参数混合的情况"
   ]
  },
  {
   "cell_type": "markdown",
   "metadata": {},
   "source": [
    "##### Example 1\n",
    "三者顺序（位置参数，默认参数，*args）"
   ]
  },
  {
   "cell_type": "code",
   "execution_count": 2,
   "metadata": {},
   "outputs": [
    {
     "name": "stdout",
     "output_type": "stream",
     "text": [
      "1\n",
      "2\n",
      "(3, 4, 5)\n"
     ]
    }
   ],
   "source": [
    "def foo(x, y=1, *args):\n",
    "    print(x)\n",
    "    print(y)\n",
    "    print(args)\n",
    "    \n",
    "foo(1,2,3,4,5)#其中的x为1，y=1的值被2重置了，3,4,5都给了args"
   ]
  },
  {
   "cell_type": "markdown",
   "metadata": {},
   "source": [
    "##### Example 2 \n",
    "三者顺序 （位置参数，args, 默认参数）"
   ]
  },
  {
   "cell_type": "code",
   "execution_count": 3,
   "metadata": {},
   "outputs": [
    {
     "name": "stdout",
     "output_type": "stream",
     "text": [
      "1\n",
      "(2, 3, 4, 5)\n",
      "1\n"
     ]
    }
   ],
   "source": [
    "def foo(x,*args,y=1):\n",
    "    print(x)\n",
    "    print(args)\n",
    "    print(y)\n",
    " \n",
    "foo(1,2,3,4,5)#其中的x为1，2,3,4,5都给了args,y按照默认参数依旧为1"
   ]
  },
  {
   "cell_type": "markdown",
   "metadata": {},
   "source": [
    "### 其中关于*，可以从2个角度来看（需要拆分来看）："
   ]
  },
  {
   "cell_type": "markdown",
   "metadata": {},
   "source": [
    "##### 从形参的角度来看："
   ]
  },
  {
   "cell_type": "code",
   "execution_count": 6,
   "metadata": {},
   "outputs": [
    {
     "name": "stdout",
     "output_type": "stream",
     "text": [
      "(1, 2, 3, 4, 5)\n"
     ]
    }
   ],
   "source": [
    "def foo(*args):#其实这一操作相当于def foo（a,b,c,d,e):\n",
    "    print(args)\n",
    "foo(1,2,3,4,5)#其中的1，2,3,4,5都按照位置传值分别传给了a,b,c,d,e"
   ]
  },
  {
   "cell_type": "markdown",
   "metadata": {},
   "source": [
    "##### 从实参的角度来看："
   ]
  },
  {
   "cell_type": "code",
   "execution_count": 7,
   "metadata": {},
   "outputs": [
    {
     "name": "stdout",
     "output_type": "stream",
     "text": [
      "1\n",
      "2\n",
      "3\n"
     ]
    }
   ],
   "source": [
    "def foo(x,y,z):\n",
    "    print(x)\n",
    "    print(y)\n",
    "    print(z)\n",
    "\n",
    "#其中的*（1,2,3）拆开来看就是：foo（1,2,3），\n",
    "#都按照位置传值分别传给了x,y,z\n",
    "foo(*(1,2,3))"
   ]
  },
  {
   "cell_type": "markdown",
   "metadata": {},
   "source": [
    "# **kwargs"
   ]
  },
  {
   "cell_type": "code",
   "execution_count": 8,
   "metadata": {},
   "outputs": [
    {
     "name": "stdout",
     "output_type": "stream",
     "text": [
      "1\n",
      "{'y': 1, 'a': 2, 'b': 3, 'c': 4}\n"
     ]
    }
   ],
   "source": [
    "def foo(x,**kwargs):\n",
    "    print(x)\n",
    "    print(kwargs)\n",
    "foo(1,y=1,a=2,b=3,c=4)#将y=1,a=2,b=3,c=4以字典的方式给了kwargs"
   ]
  },
  {
   "cell_type": "markdown",
   "metadata": {},
   "source": [
    "### 关于**kwargs与位置参数、*args、默认参数混着用的问题：（注意顺序)\n",
    "位置参数、*args、**kwargs三者的顺序必须是位置参数、*args、**kwargs，不然就会报错："
   ]
  },
  {
   "cell_type": "code",
   "execution_count": 9,
   "metadata": {},
   "outputs": [
    {
     "name": "stdout",
     "output_type": "stream",
     "text": [
      "1\n",
      "(2, 3, 4)\n",
      "{'y': 1, 'a': 2, 'b': 3, 'c': 4}\n"
     ]
    }
   ],
   "source": [
    "def foo(x,*args,**kwargs):\n",
    "    print(x)\n",
    "    print(args)\n",
    "    print(kwargs)\n",
    "    \n",
    "    \n",
    "\"\"\"将1传给了x，将2,3,4以元组方式传给了args，\n",
    "y=1,a=2,b=3,c=4以字典的方式给了kwargs\"\"\"\n",
    "foo(1,2,3,4,y=1,a=2,b=3,c=4)"
   ]
  },
  {
   "cell_type": "markdown",
   "metadata": {},
   "source": [
    "位置参数、默认参数、**kwargs三者的顺序必须是位置参数、默认参数、**kwargs，不然就会报错："
   ]
  },
  {
   "cell_type": "code",
   "execution_count": 23,
   "metadata": {},
   "outputs": [
    {
     "name": "stdout",
     "output_type": "stream",
     "text": [
      "3\n",
      "1\n",
      "{'a': 2, 'b': 3, 'c': 4}\n"
     ]
    }
   ],
   "source": [
    "def foo(x,y=1,**kwargs):\n",
    "    print(x)\n",
    "    print(y)\n",
    "    print(kwargs)\n",
    "    \n",
    "\"\"\"将1按照位置传值给x，y按照默认参数为1，a=2,b=3,c=4以字典的方式给了kwargs\"\"\"\n",
    "foo(x = 3,a=2,b=3,c=4)\n"
   ]
  },
  {
   "cell_type": "code",
   "execution_count": 33,
   "metadata": {},
   "outputs": [
    {
     "data": {
      "text/plain": [
       "True"
      ]
     },
     "execution_count": 33,
     "metadata": {},
     "output_type": "execute_result"
    }
   ],
   "source": [
    "a = {}\n",
    "a[str((1,2,3,4))] = 2\n",
    "a\n",
    "str((1,2,3,4)) in a"
   ]
  },
  {
   "cell_type": "markdown",
   "metadata": {},
   "source": [
    "### 关于**"
   ]
  },
  {
   "cell_type": "markdown",
   "metadata": {},
   "source": [
    "从形式参数角度"
   ]
  },
  {
   "cell_type": "code",
   "execution_count": 12,
   "metadata": {},
   "outputs": [
    {
     "name": "stdout",
     "output_type": "stream",
     "text": [
      "{'y': 1, 'a': 2, 'b': 3, 'c': 4}\n"
     ]
    }
   ],
   "source": [
    "def foo(**kwargs):#其实就是相当于def foo(y,a,b,c)\n",
    "    print(kwargs)\n",
    "foo(y=1,a=2,b=3,c=4)"
   ]
  },
  {
   "cell_type": "markdown",
   "metadata": {},
   "source": [
    "从实参的角度"
   ]
  },
  {
   "cell_type": "code",
   "execution_count": 13,
   "metadata": {},
   "outputs": [
    {
     "name": "stdout",
     "output_type": "stream",
     "text": [
      "2\n",
      "3\n",
      "4\n",
      "5\n"
     ]
    }
   ],
   "source": [
    "def foo(a,b,c,d):\n",
    "    print(a)\n",
    "    print(b)\n",
    "    print(c)\n",
    "    print(d)\n",
    "#**{\"a\":2,\"b\":3,\"c\":4,\"d\":5}是将字典里的每个值按照关键字传值的方式传给\n",
    "foo(**{\"a\":2,\"b\":3,\"c\":4,\"d\":5})"
   ]
  },
  {
   "cell_type": "code",
   "execution_count": 14,
   "metadata": {},
   "outputs": [
    {
     "name": "stdout",
     "output_type": "stream",
     "text": [
      "2\n",
      "3\n",
      "4\n",
      "1\n"
     ]
    }
   ],
   "source": [
    "def foo(a,b,c,d=1):\n",
    "    print(a)\n",
    "    print(b)\n",
    "    print(c)\n",
    "    print(d)\n",
    "foo(**{\"a\":2,\"b\":3,\"c\":4})"
   ]
  },
  {
   "cell_type": "markdown",
   "metadata": {},
   "source": [
    "# super（）"
   ]
  },
  {
   "cell_type": "markdown",
   "metadata": {},
   "source": [
    "# 描述\n",
    "super() 函数是用于调用父类(超类)的一个方法。\n",
    "\n",
    "super 是用来解决多重继承问题的，直接用类名调用父类方法在使用单继承的时候没问题，但是如果使用多继承，会涉及到查找顺序（MRO）、重复调用（钻石继承）等种种问题。\n",
    "\n",
    "MRO 就是类的方法解析顺序表, 其实也就是继承父类方法时的顺序表。\n",
    "\n"
   ]
  },
  {
   "cell_type": "markdown",
   "metadata": {},
   "source": [
    "### 语法\n",
    "super(type[, object-or-type])"
   ]
  },
  {
   "cell_type": "markdown",
   "metadata": {},
   "source": [
    "### 参数\n",
    "type -- 类。\n",
    "object-or-type -- 类，一般是 self"
   ]
  },
  {
   "cell_type": "markdown",
   "metadata": {},
   "source": [
    "Python3.x 和 Python2.x 的一个区别是: Python 3 可以使用直接使用 super().xxx 代替 super(Class, self).xxx :"
   ]
  },
  {
   "cell_type": "markdown",
   "metadata": {},
   "source": [
    "Python3"
   ]
  },
  {
   "cell_type": "code",
   "execution_count": 15,
   "metadata": {},
   "outputs": [],
   "source": [
    "class A:\n",
    "    pass\n",
    "class B(A):\n",
    "    def add(self, x):\n",
    "        super().add(x)"
   ]
  },
  {
   "cell_type": "markdown",
   "metadata": {},
   "source": [
    "python2"
   ]
  },
  {
   "cell_type": "code",
   "execution_count": 16,
   "metadata": {},
   "outputs": [],
   "source": [
    "class A(object):   # Python2.x 记得继承 object\n",
    "    pass\n",
    "class B(A):\n",
    "    def add(self, x):\n",
    "        super(B, self).add(x)"
   ]
  },
  {
   "cell_type": "markdown",
   "metadata": {},
   "source": [
    "### Example"
   ]
  },
  {
   "cell_type": "code",
   "execution_count": 17,
   "metadata": {},
   "outputs": [
    {
     "name": "stdout",
     "output_type": "stream",
     "text": [
      "Parent\n",
      "Child\n",
      "HelloWorld from Parent\n",
      "Child bar fuction\n",
      "I'm the parent.\n"
     ]
    }
   ],
   "source": [
    "#!/usr/bin/python\n",
    "# -*- coding: UTF-8 -*-\n",
    " \n",
    "class FooParent(object):\n",
    "    def __init__(self):\n",
    "        self.parent = 'I\\'m the parent.'\n",
    "        print ('Parent')\n",
    "    \n",
    "    def bar(self,message):\n",
    "        print (\"%s from Parent\" % message)\n",
    " \n",
    "class FooChild(FooParent):\n",
    "    def __init__(self):\n",
    "        # super(FooChild,self) 首先找到 FooChild 的父类（就是类 FooParent），然后把类B的对象 FooChild 转换为类 FooParent 的对象\n",
    "        super(FooChild,self).__init__()    \n",
    "        print ('Child')\n",
    "        \n",
    "    def bar(self,message):\n",
    "        super(FooChild, self).bar(message)\n",
    "        print ('Child bar fuction')\n",
    "        print (self.parent)\n",
    " \n",
    "if __name__ == '__main__':\n",
    "    fooChild = FooChild()\n",
    "    fooChild.bar('HelloWorld')"
   ]
  }
 ],
 "metadata": {
  "kernelspec": {
   "display_name": "Python 3",
   "language": "python",
   "name": "python3"
  },
  "language_info": {
   "codemirror_mode": {
    "name": "ipython",
    "version": 3
   },
   "file_extension": ".py",
   "mimetype": "text/x-python",
   "name": "python",
   "nbconvert_exporter": "python",
   "pygments_lexer": "ipython3",
   "version": "3.6.4"
  }
 },
 "nbformat": 4,
 "nbformat_minor": 2
}
