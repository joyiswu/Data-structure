{
 "cells": [
  {
   "cell_type": "markdown",
   "metadata": {},
   "source": [
    "问题：python的class(类)中的object是什么意思"
   ]
  },
  {
   "cell_type": "code",
   "execution_count": 3,
   "metadata": {},
   "outputs": [
    {
     "name": "stdout",
     "output_type": "stream",
     "text": [
      "Person ['__class__', '__delattr__', '__dict__', '__dir__', '__doc__', '__eq__', '__format__', '__ge__', '__getattribute__', '__gt__', '__hash__', '__init__', '__init_subclass__', '__le__', '__lt__', '__module__', '__ne__', '__new__', '__reduce__', '__reduce_ex__', '__repr__', '__setattr__', '__sizeof__', '__str__', '__subclasshook__', '__weakref__', 'name']\n",
      "Animal ['__class__', '__delattr__', '__dict__', '__dir__', '__doc__', '__eq__', '__format__', '__ge__', '__getattribute__', '__gt__', '__hash__', '__init__', '__init_subclass__', '__le__', '__lt__', '__module__', '__ne__', '__new__', '__reduce__', '__reduce_ex__', '__repr__', '__setattr__', '__sizeof__', '__str__', '__subclasshook__', '__weakref__', 'name']\n"
     ]
    }
   ],
   "source": [
    "class Person:\n",
    "    \"\"\"\n",
    "    不带object\n",
    "    \"\"\"\n",
    "    name = \"zhengtong\"\n",
    " \n",
    " \n",
    "class Animal(object):\n",
    "    \"\"\"\n",
    "    带有object\n",
    "    \"\"\"\n",
    "    name = \"chonghong\"\n",
    " \n",
    "if __name__ == \"__main__\":\n",
    "    x = Person()\n",
    "    print(\"Person\", dir(x))\n",
    " \n",
    "    y = Animal()\n",
    "    print(\"Animal\", dir(x))\n"
   ]
  },
  {
   "cell_type": "markdown",
   "metadata": {},
   "source": [
    "在python 2中\n",
    "Person类很明显能够看出区别，不继承object对象，只拥有了__doc__ , __module__ 和 自己定义的name变量, 也就是说这个类的命名空间只有三个对象可以操作.\n",
    "Animal类继承了object对象，拥有了好多可操作对象，这些都是类中的高级特性。\n",
    "\n",
    "但是在在python 3中，已经自动帮助我们加上object"
   ]
  },
  {
   "cell_type": "markdown",
   "metadata": {},
   "source": [
    "# 链表(linked list)"
   ]
  },
  {
   "attachments": {
    "image.png": {
     "image/png": "[encoded data removed]"
    }
   },
   "cell_type": "markdown",
   "metadata": {},
   "source": [
    "链表(linked list)是由一组被称为结点的数据元素组成的数据结构，每个结点都包含结点本身的信息和指向下一个结点的地址。由于每个结点都包含了可以链接起来的地址信息，所以用一个变量就能够访问整个结点序列。也就是说，结点包含两部分信息：一部分用于存储数据元素的值，称为信息域；另一部分用于存储下一个数据元素地址的指针，称为指针域。  \n",
    "\n",
    "链表中的第一个结点的地址存储在一个单独的结点中，称为头结点或首结点。\n",
    "\n",
    "链表中的最后一个结点没有后继元素，其指针域为空。\n",
    "![image.png](attachment:image.png)\n"
   ]
  },
  {
   "cell_type": "markdown",
   "metadata": {},
   "source": [
    "## 用Python实现链表"
   ]
  },
  {
   "cell_type": "code",
   "execution_count": 4,
   "metadata": {},
   "outputs": [],
   "source": [
    "# define Node\n",
    "class Node:\n",
    "    '''\n",
    "    data: 节点保存的数据\n",
    "    _next: 保存下一个节点对象\n",
    "    '''\n",
    "    def __init__(self, data, pnext=None):\n",
    "        self.data = data\n",
    "        self._next = pnext\n",
    "\n",
    "    def __repr__(self):\n",
    "        '''\n",
    "        用来定义Node的字符输出，\n",
    "        print为输出data\n",
    "        '''\n",
    "        return str(self.data)"
   ]
  },
  {
   "cell_type": "markdown",
   "metadata": {},
   "source": [
    "然后，定义链表类：\n",
    "\n",
    "链表要包括：\n",
    "\n",
    "属性：\n",
    "\n",
    "链表头：head\n",
    "\n",
    "链表长度：length"
   ]
  },
  {
   "cell_type": "code",
   "execution_count": 8,
   "metadata": {},
   "outputs": [],
   "source": [
    "class ChainTable(object):\n",
    "    def __init__(self):\n",
    "        self.head = None\n",
    "        self.length = 0\n",
    "\n",
    "    # 判断链表是否为空\n",
    "    def isEmpty(self):\n",
    "        return (self.length == 0)\n",
    "    \n",
    "    # 增加节点\n",
    "    def append(self, dataOrNode):\n",
    "        item = None\n",
    "        \n",
    "        # isinstance() 函数来判断一个对象是否是一个已知的类型，类似 type()。\n",
    "        # 在这里判断 dataOrNode 是不是 Node 类型\n",
    "        if isinstance(dataOrNode, Node):\n",
    "            item = dataOrNode\n",
    "        else:\n",
    "            item = Node(dataOrNode)\n",
    "\n",
    "        if not self.head:\n",
    "            # If this the first point\n",
    "            self.head = item\n",
    "            self.length += 1\n",
    "        else:\n",
    "            # 从head节点一只找到 next = null的那个node，也就最后一位\n",
    "            node = self.head\n",
    "            while node._next:\n",
    "                node = node._next\n",
    "            # 将最后一个node 的 next 指向新的节点\n",
    "            node._next = item\n",
    "            self.length += 1\n",
    "   \n",
    "    # 删除节点\n",
    "    def delete(self, index):\n",
    "        if self.isEmpty():\n",
    "            print(\"this chain table is empty.\") \n",
    "            return\n",
    "\n",
    "        if index < 0 or index >= self.length:\n",
    "            print('error: out of index') \n",
    "            return\n",
    "\n",
    "        if index == 0:\n",
    "            self.head = self.head._next\n",
    "            self.length -= 1\n",
    "            return\n",
    "\n",
    "        j = 0\n",
    "        node = self.head\n",
    "        prev = self.head\n",
    "        while node._next and j < index:\n",
    "            prev = node\n",
    "            node = node._next\n",
    "            j += 1\n",
    "\n",
    "        if j == index:\n",
    "            prev._next = node._next\n",
    "            self.length -= 1"
   ]
  },
  {
   "cell_type": "code",
   "execution_count": 10,
   "metadata": {},
   "outputs": [],
   "source": [
    "chaiin = ChainTable()\n",
    "chaiin.append(1)"
   ]
  },
  {
   "cell_type": "code",
   "execution_count": 11,
   "metadata": {},
   "outputs": [
    {
     "data": {
      "text/plain": [
       "<__main__.ChainTable at 0x108908550>"
      ]
     },
     "execution_count": 11,
     "metadata": {},
     "output_type": "execute_result"
    }
   ],
   "source": [
    "chaiin"
   ]
  },
  {
   "cell_type": "code",
   "execution_count": 22,
   "metadata": {},
   "outputs": [],
   "source": [
    "# -*- coding:utf8 -*-\n",
    "#/usr/bin/env python\n",
    "\n",
    "class Node(object):\n",
    "    def __init__(self, data, pnext = None):\n",
    "        self.data = data\n",
    "        self._next = pnext\n",
    "\n",
    "    def __repr__(self):\n",
    "        return str(self.data)\n",
    "\n",
    "class ChainTable(object):\n",
    "    def __init__(self):\n",
    "        self.head = None\n",
    "        self.length = 0\n",
    "\n",
    "    def isEmpty(self):\n",
    "        return (self.length == 0)\n",
    "\n",
    "    def append(self, dataOrNode):\n",
    "        item = None\n",
    "        if isinstance(dataOrNode, Node):\n",
    "            item = dataOrNode\n",
    "        else:\n",
    "            item = Node(dataOrNode)\n",
    "\n",
    "        if not self.head:\n",
    "            self.head = item\n",
    "            self.length += 1\n",
    "\n",
    "        else:\n",
    "            node = self.head\n",
    "            while node._next:\n",
    "                node = node._next\n",
    "            node._next = item\n",
    "            self.length += 1\n",
    "\n",
    "    def delete(self, index):\n",
    "        if self.isEmpty():\n",
    "            print(\"this chain table is empty.\") \n",
    "            return\n",
    "\n",
    "        if index < 0 or index >= self.length:\n",
    "            print('error: out of index') \n",
    "            return\n",
    "\n",
    "        if index == 0:\n",
    "            self.head = self.head._next\n",
    "            self.length -= 1\n",
    "            return\n",
    "\n",
    "        j = 0\n",
    "        node = self.head\n",
    "        prev = self.head\n",
    "        \n",
    "        # 为什么这里要加 node._next 不等 null\n",
    "        while node._next and j < index:\n",
    "            prev = node\n",
    "            node = node._next\n",
    "            j += 1\n",
    "\n",
    "        if j == index:\n",
    "            prev._next = node._next\n",
    "            self.length -= 1\n",
    "\n",
    "    def insert(self, index, dataOrNode):\n",
    "        if self.isEmpty():\n",
    "            print(\"this chain tabale is empty\") \n",
    "            return\n",
    "\n",
    "        if index < 0 or index >= self.length:\n",
    "            print(\"error: out of index\")\n",
    "            return\n",
    "\n",
    "        item = None\n",
    "        if isinstance(dataOrNode, Node):\n",
    "            item = dataOrNode\n",
    "        else:\n",
    "            item = Node(dataOrNode)\n",
    "\n",
    "        if index == 0:\n",
    "            item._next = self.head\n",
    "            self.head = item\n",
    "            self.length += 1\n",
    "            return\n",
    "\n",
    "        j = 0\n",
    "        node = self.head\n",
    "        prev = self.head\n",
    "        while node._next and j < index:\n",
    "            prev = node\n",
    "            node = node._next\n",
    "            j += 1\n",
    "\n",
    "        if j == index:\n",
    "            item._next = node\n",
    "            prev._next = item\n",
    "            self.length += 1\n",
    "\n",
    "    def update(self, index, data):\n",
    "        if self.isEmpty() or index < 0 or index >= self.length:\n",
    "            print('error: out of index')\n",
    "            return\n",
    "        j = 0\n",
    "        node = self.head\n",
    "        while node._next and j < index:\n",
    "            node = node._next\n",
    "            j += 1\n",
    "\n",
    "        if j == index:\n",
    "            node.data = data\n",
    "\n",
    "    def getItem(self, index):\n",
    "        if self.isEmpty() or index < 0 or index >= self.length:\n",
    "            print(\"error: out of index\") \n",
    "            return\n",
    "        j = 0\n",
    "        node = self.head\n",
    "        while node._next and j < index:\n",
    "            node = node._next\n",
    "            j += 1\n",
    "\n",
    "        return node.data\n",
    "\n",
    "\n",
    "    def getIndex(self, data):\n",
    "        j = 0\n",
    "        if self.isEmpty():\n",
    "            print(\"this chain table is empty\") \n",
    "            return\n",
    "        node = self.head\n",
    "        while node:\n",
    "            if node.data == data:\n",
    "                return j\n",
    "            node = node._next\n",
    "            j += 1\n",
    "\n",
    "        if j == self.length:\n",
    "            print(\"%s not found\" % str(data)) \n",
    "            return\n",
    "\n",
    "    def clear(self):\n",
    "        self.head = None\n",
    "        self.length = 0\n",
    "\n",
    "    def __repr__(self):\n",
    "        if self.isEmpty():\n",
    "            return \"empty chain table\"\n",
    "        node = self.head\n",
    "        nlist = ''\n",
    "        while node:\n",
    "            nlist += str(node.data) + ' '\n",
    "            node = node._next\n",
    "        return nlist\n",
    "\n",
    "    def __getitem__(self, ind):\n",
    "        if self.isEmpty() or ind < 0 or ind >= self.length:\n",
    "            print(\"error: out of index\")\n",
    "            return\n",
    "        return self.getItem(ind)\n",
    "\n",
    "    def __setitem__(self, ind, val):\n",
    "        if self.isEmpty() or ind < 0 or ind >= self.length:\n",
    "            print(\"error: out of index\")\n",
    "            return\n",
    "        self.update(ind, val)\n",
    "\n",
    "    def __len__(self):\n",
    "        return self.length\n"
   ]
  },
  {
   "cell_type": "code",
   "execution_count": 23,
   "metadata": {},
   "outputs": [],
   "source": [
    "chaiin = ChainTable()\n",
    "for i in range(10):\n",
    "    chaiin.append(i)"
   ]
  },
  {
   "cell_type": "code",
   "execution_count": 24,
   "metadata": {},
   "outputs": [
    {
     "data": {
      "text/plain": [
       "0 1 2 3 4 5 6 7 8 9 "
      ]
     },
     "execution_count": 24,
     "metadata": {},
     "output_type": "execute_result"
    }
   ],
   "source": [
    "chaiin"
   ]
  }
 ],
 "metadata": {
  "kernelspec": {
   "display_name": "Python 3",
   "language": "python",
   "name": "python3"
  },
  "language_info": {
   "codemirror_mode": {
    "name": "ipython",
    "version": 3
   },
   "file_extension": ".py",
   "mimetype": "text/x-python",
   "name": "python",
   "nbconvert_exporter": "python",
   "pygments_lexer": "ipython3",
   "version": "3.6.4"
  }
 },
 "nbformat": 4,
 "nbformat_minor": 2
}
