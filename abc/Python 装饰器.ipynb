{
 "cells": [
  {
   "cell_type": "markdown",
   "metadata": {},
   "source": [
    "http://python.jobbole.com/81683/"
   ]
  },
  {
   "cell_type": "markdown",
   "metadata": {},
   "source": [
    "Python Decorators"
   ]
  },
  {
   "cell_type": "markdown",
   "metadata": {},
   "source": [
    "## 1. 函数\n"
   ]
  },
  {
   "cell_type": "markdown",
   "metadata": {},
   "source": [
    "函数通过def关键字、函数名和可选的参数列表定义。通过return关键字返回值。"
   ]
  },
  {
   "cell_type": "code",
   "execution_count": 1,
   "metadata": {},
   "outputs": [
    {
     "data": {
      "text/plain": [
       "1"
      ]
     },
     "execution_count": 1,
     "metadata": {},
     "output_type": "execute_result"
    }
   ],
   "source": [
    "def foo():\n",
    "     return 1\n",
    "foo()"
   ]
  },
  {
   "cell_type": "markdown",
   "metadata": {},
   "source": [
    "## 2. 作用域"
   ]
  },
  {
   "cell_type": "markdown",
   "metadata": {},
   "source": [
    "在python中，函数有自己的命名空间（作用域）。这意味着在函数内部碰到一个变量的时候函数会优先在自己的命名空间里面去寻找。"
   ]
  },
  {
   "cell_type": "code",
   "execution_count": 1,
   "metadata": {},
   "outputs": [
    {
     "name": "stdout",
     "output_type": "stream",
     "text": [
      "{'a': 1}\n"
     ]
    }
   ],
   "source": [
    "a_string = \"This is a global variable\"\n",
    "def foo():\n",
    "    a = 1\n",
    "    print(locals())\n",
    "# print(globals()) # doctest: +ELLIPSIS\n",
    "foo()"
   ]
  },
  {
   "cell_type": "markdown",
   "metadata": {},
   "source": [
    "## 3. 变量解析规则"
   ]
  },
  {
   "cell_type": "markdown",
   "metadata": {},
   "source": [
    "在python的作用域规则里面，创建变量一定会一定会在当前作用域里创建一个变量，但是访问或者修改变量时会先在当前作用域查找变量，没有找到匹配变量的话会依次向上在闭合的作用域里面进行查看找。所以如果我们修改函数foo的实现让它打印全局的作用域里的变量也是可以的："
   ]
  },
  {
   "cell_type": "code",
   "execution_count": 6,
   "metadata": {},
   "outputs": [
    {
     "name": "stdout",
     "output_type": "stream",
     "text": [
      "This is a global variable\n"
     ]
    },
    {
     "data": {
      "text/plain": [
       "1"
      ]
     },
     "execution_count": 6,
     "metadata": {},
     "output_type": "execute_result"
    }
   ],
   "source": [
    "a_string = \"This is a global variable\"\n",
    "b = 1\n",
    "def foo():\n",
    "    a = 1\n",
    "    print(a_string) #1\n",
    "    b = 3\n",
    "\n",
    "# print(globals()) # doctest: +ELLIPSIS\n",
    "foo()\n",
    "b"
   ]
  },
  {
   "cell_type": "markdown",
   "metadata": {},
   "source": [
    "#### 在函数内部给全局变量赋值，结果却和我们想的不一样："
   ]
  },
  {
   "cell_type": "code",
   "execution_count": 7,
   "metadata": {},
   "outputs": [
    {
     "name": "stdout",
     "output_type": "stream",
     "text": [
      "test\n",
      "This is a global variable\n"
     ]
    }
   ],
   "source": [
    "a_string = 'This is a global variable'\n",
    "def foo():\n",
    "    a_string = 'test' #2\n",
    "    a = 1\n",
    "    print(a_string)\n",
    "# print(globals()) # doctest: +ELLIPSIS\n",
    "foo()\n",
    "print(a_string)"
   ]
  },
  {
   "cell_type": "markdown",
   "metadata": {},
   "source": [
    "我们能够看到，全局变量能够被访问到（如果是可变数据类型(像list,dict这些)甚至能够被更改）但是赋值不行。在函数内部的#1处，我们实际上新创建了一个局部变量，隐藏全局作用域中的同名变量。我们可以通过打印出局部命名空间中的内容得出这个结论。我们也能看到在#2处打印出来的变量a_string的值并没有改变。"
   ]
  },
  {
   "cell_type": "markdown",
   "metadata": {},
   "source": [
    "#### 如果是可变数据类型(像list,dict这些)可以被更改"
   ]
  },
  {
   "cell_type": "code",
   "execution_count": 26,
   "metadata": {},
   "outputs": [
    {
     "name": "stdout",
     "output_type": "stream",
     "text": [
      "[1, 'test', 3]\n",
      "[1, 'test', 3]\n"
     ]
    }
   ],
   "source": [
    "a_string = [1,2,3]\n",
    "def foo():\n",
    "    a_string[1] = 'test' #2\n",
    "    a = 1\n",
    "    print(a_string)\n",
    "# print(globals()) # doctest: +ELLIPSIS\n",
    "foo()\n",
    "print(a_string)"
   ]
  },
  {
   "cell_type": "markdown",
   "metadata": {},
   "source": [
    "## 4. 变量生存周期"
   ]
  },
  {
   "cell_type": "code",
   "execution_count": 8,
   "metadata": {},
   "outputs": [
    {
     "ename": "NameError",
     "evalue": "name 'x' is not defined",
     "output_type": "error",
     "traceback": [
      "\u001b[0;31m---------------------------------------------------------------------------\u001b[0m",
      "\u001b[0;31mNameError\u001b[0m                                 Traceback (most recent call last)",
      "\u001b[0;32m<ipython-input-8-1a55d60286b2>\u001b[0m in \u001b[0;36m<module>\u001b[0;34m()\u001b[0m\n\u001b[1;32m      2\u001b[0m      \u001b[0mx\u001b[0m \u001b[0;34m=\u001b[0m \u001b[0;36m1\u001b[0m\u001b[0;34m\u001b[0m\u001b[0m\n\u001b[1;32m      3\u001b[0m \u001b[0mfoo\u001b[0m\u001b[0;34m(\u001b[0m\u001b[0;34m)\u001b[0m\u001b[0;34m\u001b[0m\u001b[0m\n\u001b[0;32m----> 4\u001b[0;31m \u001b[0mprint\u001b[0m\u001b[0;34m(\u001b[0m\u001b[0mx\u001b[0m\u001b[0;34m)\u001b[0m \u001b[0;31m# 1\u001b[0m\u001b[0;34m\u001b[0m\u001b[0m\n\u001b[0m",
      "\u001b[0;31mNameError\u001b[0m: name 'x' is not defined"
     ]
    }
   ],
   "source": [
    "def foo():\n",
    "     x = 1\n",
    "foo()\n",
    "print(x) # 1\n"
   ]
  },
  {
   "cell_type": "markdown",
   "metadata": {},
   "source": [
    "# 5. 函数参数\n",
    "\n"
   ]
  },
  {
   "cell_type": "code",
   "execution_count": 30,
   "metadata": {},
   "outputs": [
    {
     "name": "stdout",
     "output_type": "stream",
     "text": [
      "{'x': 1}\n"
     ]
    }
   ],
   "source": [
    "def foo(x):\n",
    "     print(locals())\n",
    "foo(1)\n"
   ]
  },
  {
   "cell_type": "markdown",
   "metadata": {},
   "source": [
    "## 6. 嵌套函数\n",
    "\n"
   ]
  },
  {
   "cell_type": "markdown",
   "metadata": {},
   "source": [
    "Python允许创建嵌套函数。这意味着我们可以在函数里面定义函数而且现有的作用域和变量生存周期依旧适用。\n",
    "\n"
   ]
  },
  {
   "cell_type": "code",
   "execution_count": 33,
   "metadata": {},
   "outputs": [
    {
     "name": "stdout",
     "output_type": "stream",
     "text": [
      "1\n"
     ]
    }
   ],
   "source": [
    "def outer():\n",
    "    x = 1\n",
    "    def inner():\n",
    "        print(x) # 1\n",
    "    inner() # 2\n",
    " \n",
    "outer()"
   ]
  },
  {
   "cell_type": "markdown",
   "metadata": {},
   "source": [
    "## 7. 函数是python世界里的一级类对象"
   ]
  },
  {
   "cell_type": "code",
   "execution_count": 35,
   "metadata": {},
   "outputs": [
    {
     "data": {
      "text/plain": [
       "3"
      ]
     },
     "execution_count": 35,
     "metadata": {},
     "output_type": "execute_result"
    }
   ],
   "source": [
    "def add(x, y):\n",
    "     return x + y\n",
    "def sub(x, y):\n",
    "     return x - y\n",
    "def apply(func, x, y): # 1\n",
    "     return func(x, y) # 2\n",
    "apply(add, 2, 1) # 3\n",
    "# apply(sub, 2, 1)\n"
   ]
  },
  {
   "cell_type": "markdown",
   "metadata": {},
   "source": [
    "#### 把函数当做返回值"
   ]
  },
  {
   "cell_type": "code",
   "execution_count": 17,
   "metadata": {},
   "outputs": [
    {
     "name": "stdout",
     "output_type": "stream",
     "text": [
      "Inside inner\n"
     ]
    }
   ],
   "source": [
    "def outer():\n",
    "    def inner():\n",
    "        print(\"Inside inner\")\n",
    "    return inner # 1\n",
    " \n",
    "foo = outer() #2\n",
    "foo()\n",
    "\n"
   ]
  },
  {
   "cell_type": "code",
   "execution_count": 5,
   "metadata": {},
   "outputs": [
    {
     "name": "stdout",
     "output_type": "stream",
     "text": [
      "Inside inner\n"
     ]
    }
   ],
   "source": [
    "def outer():\n",
    "    x = \"Inside inner\"\n",
    "    def inner():\n",
    "        print(x)\n",
    "    return inner # 1\n",
    " \n",
    "foo = outer() #2\n",
    "foo()"
   ]
  },
  {
   "cell_type": "markdown",
   "metadata": {},
   "source": [
    "## 8. 闭包\n",
    "\n"
   ]
  },
  {
   "cell_type": "markdown",
   "metadata": {},
   "source": [
    "闭包： \n",
    "\n",
    "　　在一个外函数中定义了一个内函数，内函数里运用了外函数的临时变量，并且外函数的返回值是内函数的引用。这样就构成了一个闭包。"
   ]
  },
  {
   "cell_type": "code",
   "execution_count": 60,
   "metadata": {},
   "outputs": [
    {
     "name": "stdout",
     "output_type": "stream",
     "text": [
      "1\n"
     ]
    },
    {
     "data": {
      "text/plain": [
       "(<cell at 0x10687d2e8: int object at 0x1038b9550>,)"
      ]
     },
     "execution_count": 60,
     "metadata": {},
     "output_type": "execute_result"
    }
   ],
   "source": [
    "def outer():\n",
    "    x = 1\n",
    "    def inner():\n",
    "\n",
    "        print(x) # 1\n",
    "    # The return value is a function    \n",
    "    return inner\n",
    "foo = outer()\n",
    "foo()\n",
    "foo.__closure__ # doctest: +ELLIPSIS\n"
   ]
  },
  {
   "cell_type": "code",
   "execution_count": 61,
   "metadata": {},
   "outputs": [
    {
     "name": "stdout",
     "output_type": "stream",
     "text": [
      "1\n",
      "2\n"
     ]
    }
   ],
   "source": [
    "\n",
    "def outer(x):\n",
    "    def inner():\n",
    "        print(x) # 1\n",
    "    return inner\n",
    "print1 = outer(1)\n",
    "print2 = outer(2)\n",
    "print1()\n",
    "print2()\n"
   ]
  },
  {
   "cell_type": "markdown",
   "metadata": {},
   "source": [
    "一般情况下，在我们认知当中，如果一个函数结束，函数的内部所有东西都会释放掉，还给内存，局部变量都会消失。但是闭包是一种特殊情况，如果外函数在结束的时候发现有自己的临时变量将来会在内部函数中用到，就把这个临时变量绑定给了内部函数，然后自己再结束。"
   ]
  },
  {
   "cell_type": "code",
   "execution_count": 57,
   "metadata": {},
   "outputs": [
    {
     "name": "stdout",
     "output_type": "stream",
     "text": [
      "15\n",
      "17\n"
     ]
    }
   ],
   "source": [
    "#闭包函数的实例\n",
    "# outer是外部函数 a和b都是外函数的临时变量\n",
    "def outer(a):\n",
    "    b = 10\n",
    "    # inner是内函数\n",
    "    def inner():\n",
    "        #在内函数中 用到了外函数的临时变量\n",
    "        print(a+b)\n",
    "    # 外函数的返回值是内函数的引用\n",
    "    return inner\n",
    "\n",
    "if __name__ == '__main__':\n",
    "    # 在这里我们调用外函数传入参数5\n",
    "    #此时外函数两个临时变量 a是5 b是10 ，并创建了内函数，然后把内函数的引用返回存给了demo\n",
    "    # 外函数结束的时候发现内部函数将会用到自己的临时变量，这两个临时变量就不会释放，会绑定给这个内部函数\n",
    "    demo = outer(5)\n",
    "    # 我们调用内部函数，看一看内部函数是不是能使用外部函数的临时变量\n",
    "    # demo存了外函数的返回值，也就是inner函数的引用，这里相当于执行inner函数\n",
    "    demo() # 15\n",
    "\n",
    "    # 一个函数，如果函数名后紧跟一对括号，\n",
    "    # 相当于现在我就要调用这个函数，如果不跟括号，\n",
    "    # 相当于只是一个函数的名字，里面存了函数所在位置的引用。\n",
    "    demo2 = outer(7)\n",
    "    demo2()#17"
   ]
  },
  {
   "cell_type": "markdown",
   "metadata": {},
   "source": [
    "2 外函数把临时变量绑定给内函数：\n",
    "\n",
    "　　按照我们正常的认知，一个函数结束的时候，会把自己的临时变量都释放还给内存，之后变量都不存在了。一般情况下，确实是这样的。但是闭包是一个特别的情况。外部函数发现，自己的临时变量会在将来的内部函数中用到，自己在结束的时候，返回内函数的同时，会把外函数的临时变量送给内函数绑定在一起。所以外函数已经结束了，调用内函数的时候仍然能够使用外函数的临时变量。\n",
    "\n",
    "　　在我编写的实例中，我两次调用外部函数outer,分别传入的值是5和7。内部函数只定义了一次，我们发现调用的时候，内部函数是能识别外函数的临时变量是不一样的。python中一切都是对象，虽然函数我们只定义了一次，但是外函数在运行的时候，实际上是按照里面代码执行的，外函数里创建了一个函数，我们每次调用外函数，它都创建一个内函数，虽然代码一样，但是却创建了不同的对象，并且把每次传入的临时变量数值绑定给内函数，再把内函数引用返回。虽然内函数代码是一样的，但其实，我们每次调用外函数，都返回不同的实例对象的引用，他们的功能是一样的，但是它们实际上不是同一个函数对象。"
   ]
  },
  {
   "cell_type": "markdown",
   "metadata": {},
   "source": [
    "闭包中内函数修改外函数局部变量：\n",
    "\n",
    "在闭包内函数中，我们可以随意使用外函数绑定来的临时变量，但是如果我们想修改外函数临时变量数值的时候发现出问题了！咋回事捏？？！！（哇哇大哭）\n",
    "\n",
    "在基本的python语法当中，一个函数可以随意读取全局数据，但是要修改全局数据的时候有两种方法:1 global 声明全局变量 2 全局变量是可变类型数据的时候可以修改\n",
    "\n",
    "在闭包内函数也是类似的情况。在内函数中想修改闭包变量（外函数绑定给内函数的局部变量）的时候：\n",
    "\n",
    "　　　　1 在python3中，可以用nonlocal 关键字声明 一个变量， 表示这个变量不是局部变量空间的变量，需要向上一层变量空间找这个变量。\n",
    "\n",
    "　　　　2 在python2中，没有nonlocal这个关键字，我们可以把闭包变量改成可变类型数据进行修改，比如列表。"
   ]
  },
  {
   "cell_type": "code",
   "execution_count": 62,
   "metadata": {},
   "outputs": [
    {
     "name": "stdout",
     "output_type": "stream",
     "text": [
      "6\n",
      "11\n"
     ]
    }
   ],
   "source": [
    "#修改闭包变量的实例\n",
    "# outer是外部函数 a和b都是外函数的临时变量\n",
    "def outer( a ):\n",
    "    b = 10  # a和b都是闭包变量\n",
    "    c = [a] #这里对应修改闭包变量的方法2\n",
    "    # inner是内函数\n",
    "    def inner():\n",
    "        #内函数中想修改闭包变量\n",
    "        # 方法1 nonlocal关键字声明\n",
    "        nonlocal  b\n",
    "        b+=1\n",
    "        # 方法二，把闭包变量修改成可变数据类型 比如列表\n",
    "        c[0] += 1\n",
    "        print(c[0])\n",
    "        print(b)\n",
    "    # 外函数的返回值是内函数的引用\n",
    "    return inner\n",
    "\n",
    "if __name__ == '__main__':\n",
    "\n",
    "    demo = outer(5)\n",
    "    demo() # 6  11"
   ]
  },
  {
   "cell_type": "markdown",
   "metadata": {},
   "source": [
    "使用闭包的过程中，一旦外函数被调用一次返回了内函数的引用，虽然每次调用内函数，是开启一个函数执行过后消亡，但是闭包变量实际上只有一份，每次开启内函数都在使用同一份闭包变量"
   ]
  },
  {
   "cell_type": "code",
   "execution_count": 24,
   "metadata": {},
   "outputs": [
    {
     "name": "stdout",
     "output_type": "stream",
     "text": [
      "3\n",
      "6\n"
     ]
    }
   ],
   "source": [
    "#coding:utf8\n",
    "def outer(x):\n",
    "    def inner(y):\n",
    "        nonlocal x\n",
    "        x+=y\n",
    "        return x\n",
    "    return inner\n",
    "\n",
    "\n",
    "a = outer(2)\n",
    "print(a(1)) #11\n",
    "print(a(3)) #14"
   ]
  },
  {
   "cell_type": "markdown",
   "metadata": {},
   "source": [
    "闭包的作用：\n",
    "\n",
    "1. 装饰器！！！装饰器是做什么的？？其中一个应用就是，我们工作中写了一个登录功能，我们想统计这个功能执行花了多长时间，我们可以用装饰器装饰这个登录模块，装饰器帮我们完成登录函数执行之前和之后取时间。\n",
    "\n",
    "2. 面向对象！！！经历了上面的分析，我们发现外函数的临时变量送给了内函数。大家回想一下类对象的情况，对象有好多类似的属性和方法，所以我们创建类，用类创建出来的对象都具有相同的属性方法。闭包也是实现面向对象的方法之一。在python当中虽然我们不这样用，在其他编程语言入比如avaScript中，经常用闭包来实现面向对象编程\n",
    "\n",
    "3. 实现单利模式！！ 其实这也是装饰器的应用。单利模式毕竟比较高大，，需要有一定项目经验才能理解单利模式到底是干啥用的，我们就不探讨了。\n",
    "\n",
    " \n"
   ]
  },
  {
   "cell_type": "markdown",
   "metadata": {},
   "source": [
    "## 装饰器"
   ]
  },
  {
   "cell_type": "markdown",
   "metadata": {},
   "source": [
    "装饰器是运用闭包的基本原理，对一个目标函数进行装饰。即是在执行一个目标函数之前、之后执行一些特定的事情。"
   ]
  },
  {
   "cell_type": "code",
   "execution_count": 74,
   "metadata": {},
   "outputs": [
    {
     "name": "stdout",
     "output_type": "stream",
     "text": [
      "装饰器函数中。。目标函数执行之前的操作！！\n",
      "目标函数接受到参数:10\n",
      "装饰器函数中。。目标函数执行之后的操作！！\n",
      "目标函数的返回值10\n"
     ]
    }
   ],
   "source": [
    "#装饰器函数 传入目标函数做参数\n",
    "def decorator( func ):\n",
    "    #实际调用目标函数会发生调用inner，\n",
    "    # 所以我们让inner接收不定参数，我们再把不定参数传给目标函数func\n",
    "    #这样不论我们传入什么参数目标函数都能接收到！！\n",
    "    def inner(*args, **kwargs):\n",
    "        print(\"装饰器函数中。。目标函数执行之前的操作！！\")\n",
    "        # 我们设置一个变量接收目标函数的返回值，在inner结束的时候再把返回值返回去\n",
    "        # python不同于其他语言，即使我们没有编写func的返回值，也会默认返回None，所以这里不会报错\n",
    "        res = func(*args, **kwargs)\n",
    "        print(\"装饰器函数中。。目标函数执行之后的操作！！\")\n",
    "        return res\n",
    "    return inner\n",
    "#这样编写的装饰器，在外部看来，我们就可以传入参数给目标函数\n",
    "# 同时也可以正常接收目标函数返回的参数!!!\n",
    "\n",
    "@decorator  #实际上会发生 destination = decorator( destination )\n",
    "            # 把目标函数传入装饰器函数返回了inner给destination\n",
    "            # 此后我们再调用destination 实际上调用了inner函数的一个对象\n",
    "def destination(a):\n",
    "    print(\"目标函数接受到参数:%s\"%a)\n",
    "    return \"目标函数的返回值%s\"%a\n",
    "\n",
    "if __name__ == '__main__':\n",
    "    # 这里实际上调用了inner函数的对象，我们传入参数和接收返回值都没有问题了！\n",
    "    res = destination(10)\n",
    "    # 打印一下返回值！\n",
    "    print(res)\n"
   ]
  },
  {
   "cell_type": "markdown",
   "metadata": {},
   "source": [
    "#### 多层装饰器嵌套"
   ]
  },
  {
   "cell_type": "code",
   "execution_count": 75,
   "metadata": {},
   "outputs": [
    {
     "name": "stdout",
     "output_type": "stream",
     "text": [
      "外装饰器前置操作。。。。。。。。。\n",
      "内装饰器前置操作。。。。。。。。。\n",
      "目标函数！\n",
      "内装饰器后置操作..............\n",
      "外装饰器后置操作..............\n"
     ]
    }
   ],
   "source": [
    "#多层装饰器的嵌套\n",
    "\n",
    "#外层装饰器函数\n",
    "def decorator_out(func ):\n",
    "    def inner( *args , **kwargs ):\n",
    "        print(\"外装饰器前置操作。。。。。。。。。\")\n",
    "        res = func( *args , **kwargs)\n",
    "        print(\"外装饰器后置操作..............\")\n",
    "        return res\n",
    "    return inner\n",
    "\n",
    "#内层装饰器函数\n",
    "def decorator_in( func ):\n",
    "    def inner( *args , **kwargs ):\n",
    "        print(\"内装饰器前置操作。。。。。。。。。\")\n",
    "        res = func( *args , **kwargs)\n",
    "        print(\"内装饰器后置操作..............\")\n",
    "        return res\n",
    "    return inner\n",
    "\n",
    "#目标函数被两个装饰器装饰\n",
    "'''\n",
    "这里实际上会发生的情况是 login = decorator_out( decorator_in( destination )   )\n",
    "先in装饰器装饰目标函数之后，把inner返回给destination,\n",
    "然后 out装饰器 再对新的destination进行装饰，out里的func 存了 in装饰器装饰过的destination函数\n",
    "    又把inner返回给destination\n",
    "\n",
    "这时候再执行目标函数destination() 实际上\n",
    "    1 执行out装饰器的inner() 执行到func的时候 执行in装饰器的inner\n",
    "    2 在内装饰器inner中执行func才是原来的目标函数\n",
    "    3 目标函数执行完跳出到in装饰器的inner\n",
    "    4 in装饰器函数inner执行完 相当于out装饰器的func执行完 跳到out装饰器的inner中\n",
    "    5 out装饰器执行结束，全部过程结束\n",
    "\n",
    "'''\n",
    "@decorator_out\n",
    "@decorator_in\n",
    "def destination():\n",
    "    print(\"目标函数！\")\n",
    "\n",
    "if __name__ == '__main__':\n",
    "    destination()\n"
   ]
  },
  {
   "cell_type": "markdown",
   "metadata": {},
   "source": [
    "当多层装饰器嵌套的时候，实际上先内层装饰器装饰目标函数\n",
    "\n",
    "外层装饰器会对内层装饰器装饰的结果进行再装饰"
   ]
  },
  {
   "cell_type": "markdown",
   "metadata": {},
   "source": [
    "#### 可选择装饰器："
   ]
  },
  {
   "cell_type": "markdown",
   "metadata": {},
   "source": [
    "团队中一个人写了装饰器，大家一块用，之前的代码中，我写的装饰器，都是对目标函数执行之前和之后都有一些操作。如果某一个功能不需要之前或者之后的操作，只需要一个操作怎么办？？\n",
    "\n",
    "这时候用到三层闭包嵌套。我们来一段代码理解一下"
   ]
  },
  {
   "cell_type": "code",
   "execution_count": 76,
   "metadata": {},
   "outputs": [
    {
     "name": "stdout",
     "output_type": "stream",
     "text": [
      "装饰器前置操作。。。。。。。。\n",
      "目标函数！\n",
      "我是后置操作\n",
      "装饰器前置操作。。。。。。。。\n",
      "目标函数2\n"
     ]
    }
   ],
   "source": [
    "#我们传入一个flag决定是不是要执行目标函数之后的操作\n",
    "def flagOperation( flag ):\n",
    "    def decorator(func):\n",
    "        def inner(*args , **kwargs):\n",
    "            print(\"装饰器前置操作。。。。。。。。\")\n",
    "            res = func(*args , **kwargs)\n",
    "            if flag :   #如果传入flag是真则执行后置操作 否则不执行\n",
    "                print(\"我是后置操作\")\n",
    "            return res\n",
    "        return inner\n",
    "    return decorator\n",
    "\n",
    "\n",
    "\n",
    "'''\n",
    "@flagOperation(True) 这里实际上先执行了flagOperation(True) ，返回了decorator装饰器，\n",
    "        并且把flag的值是True绑定给了他\n",
    "    这时候用带着flag的decorator 对目标函数进行装饰\n",
    "    相当于@decorator  带着一个flag\n",
    "'''\n",
    "@flagOperation(True)\n",
    "def destination():\n",
    "    print(\"目标函数！\")\n",
    "\n",
    "@flagOperation(False)\n",
    "def desti2():\n",
    "    print(\"目标函数2\")\n",
    "\n",
    "if __name__ == '__main__':\n",
    "    destination()\n",
    "    '''\n",
    "    结果：\n",
    "        装饰器前置操作。。。。。。。。\n",
    "        目标函数！\n",
    "        我是后置操作\n",
    "    '''\n",
    "    desti2()\n",
    "    '''\n",
    "    结果：\n",
    "        装饰器前置操作。。。。。。。。\n",
    "        目标函数2\n",
    "    '''"
   ]
  },
  {
   "cell_type": "markdown",
   "metadata": {},
   "source": [
    "#### 类实现装饰器"
   ]
  },
  {
   "cell_type": "code",
   "execution_count": 21,
   "metadata": {},
   "outputs": [
    {
     "name": "stdout",
     "output_type": "stream",
     "text": [
      "类装饰器前操作\n",
      "login now\n",
      "类装饰器后操作\n",
      "类装饰器前操作\n",
      "log off now\n",
      "类装饰器后操作\n"
     ]
    }
   ],
   "source": [
    "#类装配期\n",
    "class Decorator:\n",
    "    def __init__(self,func):\n",
    "        self.func = func\n",
    "    def __call__(self):\n",
    "        print(\"类装饰器前操作\")\n",
    "        self.func()\n",
    "        print(\"类装饰器后操作\")\n",
    "\n",
    "\n",
    "\n",
    "@Decorator\n",
    "def login():\n",
    "    print(\"login now\")\n",
    "    \n",
    "@Decorator    \n",
    "def logoff():\n",
    "    print(\"log off now\")\n",
    "\n",
    "if __name__ == '__main__':\n",
    "    login()\n",
    "    logoff()"
   ]
  }
 ],
 "metadata": {
  "kernelspec": {
   "display_name": "Python 3",
   "language": "python",
   "name": "python3"
  },
  "language_info": {
   "codemirror_mode": {
    "name": "ipython",
    "version": 3
   },
   "file_extension": ".py",
   "mimetype": "text/x-python",
   "name": "python",
   "nbconvert_exporter": "python",
   "pygments_lexer": "ipython3",
   "version": "3.6.4"
  }
 },
 "nbformat": 4,
 "nbformat_minor": 2
}
