{
 "cells": [
  {
   "cell_type": "markdown",
   "metadata": {},
   "source": [
    "# 给两个排序好链表，把他们重新组合起来"
   ]
  },
  {
   "cell_type": "markdown",
   "metadata": {},
   "source": [
    "这里的两个链表其实是已经排序好的，所以要充分利用这一信息。"
   ]
  },
  {
   "cell_type": "markdown",
   "metadata": {},
   "source": [
    "### Code:(Normal method)"
   ]
  },
  {
   "cell_type": "code",
   "execution_count": null,
   "metadata": {},
   "outputs": [],
   "source": [
    "# Definition for singly-linked list.\n",
    "# class ListNode:\n",
    "#     def __init__(self, x):\n",
    "#         self.val = x\n",
    "#         self.next = None\n",
    "\n",
    "class Solution:\n",
    "    def mergeTwoLists(self, l1, l2):\n",
    "        \"\"\"\n",
    "        :type l1: ListNode\n",
    "        :type l2: ListNode\n",
    "        :rtype: ListNode\n",
    "        \"\"\"\n",
    "        \n",
    "        res = cur = ListNode(0)\n",
    "        \n",
    "        \n",
    "        while l1 and l2:\n",
    "            if l1.val <= l2.val:\n",
    " \n",
    "                cur.next = ListNode(l1.val)\n",
    "                cur = cur.next\n",
    "                l1 = l1.next   \n",
    "            \n",
    "            else:\n",
    "                cur.next = ListNode(l2.val)\n",
    "                cur = cur.next\n",
    "                l2 = l2.next        \n",
    "                \n",
    "        while l1:\n",
    "            cur.next = ListNode(l1.val)\n",
    "            cur = cur.next\n",
    "            l1 = l1.next   \n",
    "                \n",
    "        while l2:\n",
    "            cur.next = ListNode(l2.val)\n",
    "            cur = cur.next\n",
    "            l2 = l2.next  \n",
    "                \n",
    "        return res.next\n",
    "                "
   ]
  },
  {
   "cell_type": "markdown",
   "metadata": {},
   "source": [
    "### 递归解法"
   ]
  }
 ],
 "metadata": {
  "kernelspec": {
   "display_name": "Python 3",
   "language": "python",
   "name": "python3"
  },
  "language_info": {
   "codemirror_mode": {
    "name": "ipython",
    "version": 3
   },
   "file_extension": ".py",
   "mimetype": "text/x-python",
   "name": "python",
   "nbconvert_exporter": "python",
   "pygments_lexer": "ipython3",
   "version": "3.6.4"
  }
 },
 "nbformat": 4,
 "nbformat_minor": 2
}
