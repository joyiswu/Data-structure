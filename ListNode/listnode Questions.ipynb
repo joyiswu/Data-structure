{
 "cells": [
  {
   "cell_type": "markdown",
   "metadata": {},
   "source": [
    "# 1. 单链表闭环问题"
   ]
  },
  {
   "cell_type": "markdown",
   "metadata": {},
   "source": [
    "#### 如何判断一个链表是不是这类链表？"
   ]
  },
  {
   "cell_type": "markdown",
   "metadata": {},
   "source": [
    "设置两个指针(fast, slow)，初始值都指向头，slow每次前进一步，fast每次前进二步，如果链表存在环，则fast必定先进入环，而slow后进入环，两个指针必定相遇。(当然，fast先行头到尾部为NULL，则为无环链表)\n",
    "\n",
    "\n",
    "\n",
    "\n",
    "\n"
   ]
  },
  {
   "cell_type": "code",
   "execution_count": 5,
   "metadata": {},
   "outputs": [
    {
     "name": "stdout",
     "output_type": "stream",
     "text": [
      "True\n"
     ]
    }
   ],
   "source": [
    "class Node(): \n",
    "    def __init__(self,value=None):\n",
    "        self.value = value\n",
    "        self.next = None\n",
    "        \n",
    "def detect_cycle(head):\n",
    "    \n",
    "    slow_ptr = head \n",
    "    fast_ptr = head\n",
    "    \n",
    "    loop_exist = False\n",
    "    \n",
    "    if head == None: return False\n",
    "    \n",
    "    while fast_ptr.next != None and fast_ptr.next.next != None:\n",
    "        slow_ptr = slow_ptr.next\n",
    "        fast_ptr = fast_ptr.next.next\n",
    "        if slow_ptr == fast_ptr:\n",
    "            loop_exist = True \n",
    "            break\n",
    "            \n",
    "    return loop_exist\n",
    "    \n",
    "    \n",
    "    \n",
    "if __name__ == \"__main__\":\n",
    "    node1 = Node(1)\n",
    "    node2 = Node(2)\n",
    "    node3 = Node(3)\n",
    "    node4 = Node(4)\n",
    "    node5 = Node(5)\n",
    "    node1.next = node2\n",
    "    node2.next = node3\n",
    "    node3.next = node4\n",
    "    node4.next = node5\n",
    "    node5.next = node2\n",
    "    print(detect_cycle(node1))\n"
   ]
  },
  {
   "cell_type": "markdown",
   "metadata": {},
   "source": [
    "#### 2、如果链表为存在环，如果找到环的入口点？"
   ]
  },
  {
   "cell_type": "markdown",
   "metadata": {},
   "source": [
    "当fast若与slow相遇时，slow肯定没有走遍历完链表，而fast已经在环内循环了n圈(1<=n)。假设slow走了s步，则 fast走了2s步（fast步数还等于s 加上在环上多转的n圈），设环长为r，则：\n",
    "\n",
    "2s = s + nr \n",
    "\n",
    "s= nr\n",
    "\n",
    "设整个链表长L，入口环与相遇点距离为x，起点到环入口点的距离为a。\n",
    "\n",
    " a + x = nr\n",
    "\n",
    " a + x = (n – 1)r +r = (n-1)r + L - a\n",
    "\n",
    "a = (n-1)r + (L – a – x)\n",
    "\n",
    "(L – a – x)为相遇点到环入口点的距离，由此可知，从链表头到环入口点等于(n-1)循环内环+相遇点到环入口点，于是我们从链表头、与相遇点分别设一个指针，每次各走一步，两个指针必定相遇，且相遇第一点为环入口点。\n"
   ]
  },
  {
   "cell_type": "code",
   "execution_count": 11,
   "metadata": {},
   "outputs": [
    {
     "name": "stdout",
     "output_type": "stream",
     "text": [
      "<__main__.Node object at 0x106256860>\n"
     ]
    }
   ],
   "source": [
    "class Node(): \n",
    "    def __init__(self,value=None):\n",
    "        self.value = value\n",
    "        self.next = None\n",
    "        \n",
    "def detect_cycle(head):\n",
    "    \n",
    "    slow_ptr = head \n",
    "    fast_ptr = head\n",
    "    \n",
    "    loop_exist = False\n",
    "    \n",
    "    if head == None: return False\n",
    "    \n",
    "    while fast_ptr.next != None and fast_ptr.next.next != None:\n",
    "        slow_ptr = slow_ptr.next\n",
    "        fast_ptr = fast_ptr.next.next\n",
    "        if slow_ptr == fast_ptr:\n",
    "            loop_exist = True\n",
    "            \n",
    "            slow_ptr = head \n",
    "            while slow_ptr != fast_ptr:\n",
    "                fast_ptr = fast_ptr.next\n",
    "                slow_ptr = slow_ptr.next\n",
    "                \n",
    "            return slow_ptr\n",
    "        \n",
    "\n",
    "            \n",
    "    return loop_exist\n",
    "    \n",
    "    \n",
    "    \n",
    "if __name__ == \"__main__\":\n",
    "    node1 = Node(1)\n",
    "    node2 = Node(2)\n",
    "    node3 = Node(3)\n",
    "    node4 = Node(4)\n",
    "    node5 = Node(5)\n",
    "    node1.next = node2\n",
    "    node2.next = node3\n",
    "    node3.next = node4\n",
    "    node4.next = node5\n",
    "    node5.next = node2\n",
    "    print(detect_cycle(node1))"
   ]
  },
  {
   "cell_type": "markdown",
   "metadata": {},
   "source": [
    "# 2.链表排序"
   ]
  },
  {
   "cell_type": "code",
   "execution_count": null,
   "metadata": {},
   "outputs": [],
   "source": []
  },
  {
   "cell_type": "markdown",
   "metadata": {},
   "source": [
    "#### Python 插入法实现链表排序"
   ]
  },
  {
   "cell_type": "code",
   "execution_count": 12,
   "metadata": {},
   "outputs": [],
   "source": [
    "class Solution(object):\n",
    "    def insertionSortList(self, head):\n",
    "        cur = dummy = ListNode(-1)\n",
    "        while head:\n",
    "            while cur.next and cur.next.val<head.val:   #找到插入点\n",
    "                cur = cur.next\n",
    "            #插入新的结点\n",
    "            cur_next = cur.next\n",
    "            head_next = head.next\n",
    "            cur.next = head\n",
    "            cur.next.next = cur_next\n",
    "            head = head_next\n",
    "            \n",
    "            cur = dummy #将指针返回到结果的头部\n",
    "            \n",
    "        return dummy.next\n"
   ]
  },
  {
   "cell_type": "markdown",
   "metadata": {},
   "source": [
    "# 3.节点交换"
   ]
  },
  {
   "cell_type": "markdown",
   "metadata": {},
   "source": [
    "    headNode->node1->node2->node3-.>...->tailNode\n",
    "    比如你要交换node1和node2：\n",
    "    headNode->node2->node1->node3->...->tailNode\n",
    "    Node tempNode=null; //临时结点，用于保存结点2\n",
    "    tempNode=node1->next; //将临时结点指向结点2\n",
    "    node1->next=node2->next; //将结点1的后继结点设为结点3\n",
    "    node2->next=headNode->next; //将结点2的后继结点设为结点1\n",
    "    headNode->next=tempNode; //头结点指向结点2"
   ]
  }
 ],
 "metadata": {
  "kernelspec": {
   "display_name": "Python 3",
   "language": "python",
   "name": "python3"
  },
  "language_info": {
   "codemirror_mode": {
    "name": "ipython",
    "version": 3
   },
   "file_extension": ".py",
   "mimetype": "text/x-python",
   "name": "python",
   "nbconvert_exporter": "python",
   "pygments_lexer": "ipython3",
   "version": "3.6.4"
  }
 },
 "nbformat": 4,
 "nbformat_minor": 2
}
