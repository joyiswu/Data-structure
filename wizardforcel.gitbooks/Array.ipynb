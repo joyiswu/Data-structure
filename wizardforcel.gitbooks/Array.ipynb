{
 "cells": [
  {
   "cell_type": "markdown",
   "metadata": {},
   "source": [
    "解决面试编程题的有几种常用思路。首先一般考虑“万能的”暴力穷举（递归、回溯），如求n个数的全排列或八皇后（N皇后问题）。但因为穷举时间复杂度通常过高，所以需要考虑更好的方法，如分治法（通过分而治之，然后归并），以及空间换时间（如活用哈希表）。\n",
    "\n",
    "此外，选择合适的数据结构可以显著提升效率，如寻找最小的k个数中，用堆代替数组。\n",
    "再有，如果题目允许排序，则可以考虑排序。\n",
    "\n",
    "比如，寻找和为定值的两个数中，先排序，然后用前后两个指针往中间扫。而如果如果已经排好序了（如杨氏矩阵查找中），则想想有无必要二分。但是，如果题目不允许排序呢？这个时候，我们可以考虑不改变数列顺序的贪心算法（如最小生成树Prim、Kruskal及最短路dijkstra），或动态规划（如 01背包问题，每一步都在决策）。\n",
    "\n",
    "最后，注意细节处理，不要忽略边界条件，如字符串转换成整数。\n"
   ]
  },
  {
   "cell_type": "markdown",
   "metadata": {},
   "source": [
    "## 1. 输入n个整数，输出其中最小的k个。\n"
   ]
  },
  {
   "cell_type": "markdown",
   "metadata": {},
   "source": [
    "输入n个整数，输出其中最小的k个。\n",
    "\n"
   ]
  },
  {
   "cell_type": "markdown",
   "metadata": {},
   "source": [
    "#### 解法1： 完整排序（快排）"
   ]
  },
  {
   "cell_type": "code",
   "execution_count": 5,
   "metadata": {},
   "outputs": [
    {
     "name": "stdout",
     "output_type": "stream",
     "text": [
      "[-1, 1, 4, 5, 6, 7, 123, 123, 324, 4534]\n"
     ]
    }
   ],
   "source": [
    "def quick_sort(li):\n",
    "    \n",
    "    if len(li)<=1: return li\n",
    "    middle = li.pop()\n",
    "    l, r = [], []\n",
    "    for i in li:\n",
    "        if i>=middle: r.append(i)\n",
    "        else: l.append(i)\n",
    "    return quick_sort(l)+[middle]+quick_sort(r)\n",
    "    \n",
    "    \n",
    "print(quick_sort([1,-1,4,5,6,7,123,324,4534,123]))"
   ]
  },
  {
   "cell_type": "markdown",
   "metadata": {},
   "source": [
    "我想你可能会第一时间想到快速排序（我们知道，快速排序平均所费时间为n*logn），然后再遍历序列中前k个元素输出即可。\n",
    "\n",
    "因此，总的时间复杂度：O（n * log n)+O(k)=O（n * log n）。"
   ]
  },
  {
   "cell_type": "markdown",
   "metadata": {},
   "source": [
    "#### 解法2"
   ]
  },
  {
   "cell_type": "markdown",
   "metadata": {},
   "source": [
    "咱们再进一步想想，题目没有要求最小的k个数有序，也没要求最后n-k个数有序。既然如此，就没有必要对所有元素进行排序。\n",
    "\n",
    "这时，咱们想到了用选择或交换排序，即：\n",
    "\n",
    "    1、遍历n个数，把最先遍历到的k个数存入到大小为k的数组中，假设它们即是最小的k个数；\n",
    "    2、对这k个数，利用选择或交换排序找到这k个元素中的最大值kmax（找最大值需要遍历这k个数，时间复杂度为O（k））；\n",
    "    3、继续遍历剩余n-k个数。假设每一次遍历到的新的元素的值为x，把x与kmax比较：如果x < kmax ，用x替换kmax，并回到第二步重新找出k个元素的数组中最大元素kmax‘；如果x >= kmax，则继续遍历不更新数组。\n",
    "    每次遍历，更新或不更新数组的所用的时间为O（k）或O（0）。故整趟下来，时间复杂度为n*O（k）=O（n*k）。"
   ]
  },
  {
   "cell_type": "code",
   "execution_count": 27,
   "metadata": {},
   "outputs": [
    {
     "name": "stdout",
     "output_type": "stream",
     "text": [
      "[1, 3]\n"
     ]
    }
   ],
   "source": [
    "def Slection_sort(input_list, k):\n",
    "    \n",
    "    for i in range(k-1):\n",
    "        index = None\n",
    "        for j in range(i, len(input_list)):\n",
    "            if index == None: index = j\n",
    "            if input_list[j]<input_list[index]:\n",
    "                index = j\n",
    "        input_list[i], input_list[index] = \\\n",
    "        input_list[index],input_list[i]\n",
    "            \n",
    "    return input_list[:k]\n",
    "    \n",
    "list = [5,3,4,90,34,1,100]\n",
    "print(Slection_sort(list, 2))"
   ]
  },
  {
   "cell_type": "markdown",
   "metadata": {},
   "source": [
    "#### 解法3: 维护容量为k的最大堆，原理跟解法二的方法相似："
   ]
  },
  {
   "cell_type": "markdown",
   "metadata": {},
   "source": [
    "    1、用容量为k的最大堆存储最先遍历到的k个数，同样假设它们即是最小的k个数；\n",
    "    2、堆中元素是有序的，令k1<k2<...<kmax（kmax设为最大堆中的最大元素）\n",
    "    3、遍历剩余n-k个数。假设每一次遍历到的新的元素的值为x，把x与堆顶元素kmax比较：如果x < kmax，用x替换kmax，然后更新堆（用时logk）；否则不更新堆。\n",
    "这样下来，总的时间复杂度:O（k+（n-k）*logk）=O（n*logk）。此方法得益于堆中进行查找和更新的时间复杂度均为：O(logk)（若使用解法二：在数组中找出最大元素，时间复杂度：O（k））。"
   ]
  },
  {
   "cell_type": "markdown",
   "metadata": {},
   "source": [
    "## 2. 寻找和为定值的两个数"
   ]
  },
  {
   "cell_type": "markdown",
   "metadata": {},
   "source": [
    "输入一个数组和一个数字，在数组中查找两个数，使得它们的和正好是输入的那个数字。\n",
    "要求时间复杂度是O(N)。\n",
    "\n",
    "如果有多对数字的和等于输入的数字，输出任意一对即可。\n",
    "例如输入数组1、2、4、7、11、15和数字15。由于4+11=15，因此输出4和11。"
   ]
  },
  {
   "cell_type": "markdown",
   "metadata": {},
   "source": [
    "### 分析和解法"
   ]
  },
  {
   "cell_type": "markdown",
   "metadata": {},
   "source": [
    "咱们试着一步一步解决这个问题（注意阐述中数列有序无序的区别）：\n",
    "\n",
    "直接穷举，从数组中任意选取两个数，判定它们的和是否为输入的那个数字。此举复杂度为O(N^2)。很显然，我们要寻找效率更高的解法\n",
    "题目相当于，对每个a[i]，查找sum-a[i]是否也在原始序列中，每一次要查找的时间都要花费为O(N)，这样下来，最终找到两个数还是需要O（N^2）的复杂度。那如何提高查找判断的速度呢？\n",
    "\n",
    "答案是二分查找，可以将O(N)的查找时间提高到O(log N)，这样对于N个a[i]，都要花logN的时间去查找相对应的sum-a[i]是否在原始序列中，总的时间复杂度已降为O(N log N)，且空间复杂度为O(1)。 \n",
    "\n",
    "（如果有序，直接二分O(N log N)，如果无序，先排序后二分，复杂度同样为O（N log N + N log N）= O(N log N)，空间复杂度总为O(1)）。\n"
   ]
  },
  {
   "cell_type": "code",
   "execution_count": 33,
   "metadata": {},
   "outputs": [
    {
     "name": "stdout",
     "output_type": "stream",
     "text": [
      "[11, 4]\n"
     ]
    }
   ],
   "source": [
    "# binary search method, the O(nlogn) dont meet the requiremnt \n",
    "def function(li, target):\n",
    "    for i in range(len(li)):\n",
    "        low, high = i, len(li)-1\n",
    "        while low <= high:\n",
    "            middle = (low+high)//2\n",
    "            if li[middle]+li[i]==target: return [li[middle], li[i]]\n",
    "            if li[middle]+li[i]>target: high-=1\n",
    "            else: low+=1\n",
    "                \n",
    "    return None\n",
    "\n",
    "list = [1, 2, 4, 7, 11, 15]\n",
    "print(function(list, 15))"
   ]
  },
  {
   "cell_type": "markdown",
   "metadata": {},
   "source": [
    "#### 解法一"
   ]
  },
  {
   "cell_type": "markdown",
   "metadata": {},
   "source": [
    "根据前面的分析，a[i]在序列中，如果a[i]+a[k]=sum的话，那么sum-a[i]（a[k])也必然在序列中。 \n",
    "\n",
    "举个例子，如下： 原始序列：\n",
    "1、 2、 4、 7、11、15\n",
    "\n",
    "用输入数字15减一下各个数，得到对应的序列为：\n",
    "14、13、11、8、4、 0\n",
    "\n",
    "第一个数组以一指针i 从数组最左端开始向右扫描，第二个数组以一指针j 从数组最右端开始向左扫描，如果第一个数组出现了和第二个数组一样的数，即a[i]=a[j]，就找出这俩个数来了。 \n",
    "\n",
    "如上，i，j最终在第一个，和第二个序列中找到了相同的数4和11，所以符合条件的两个数，即为4+11=15。 怎么样，两端同时查找，时间复杂度瞬间缩短到了O(N)，但却同时需要O(N)的空间存储第二个数组。"
   ]
  },
  {
   "cell_type": "code",
   "execution_count": 37,
   "metadata": {},
   "outputs": [
    {
     "name": "stdout",
     "output_type": "stream",
     "text": [
      "None\n"
     ]
    }
   ],
   "source": [
    "def function(li, target):\n",
    "    li_compared = [target-i for i in li]\n",
    "    \n",
    "    l, r = 0, len(li)-1\n",
    "    while l<=r:\n",
    "        if li[l] == li_compared[r]: return [li[l], li[r]]\n",
    "        if li[l]>li_compared[r]: r-=1\n",
    "        else: l+=1\n",
    "            \n",
    "    return None\n",
    "list = [1, 2, 4, 7, 10, 15]\n",
    "print(function(list, 15))"
   ]
  },
  {
   "cell_type": "markdown",
   "metadata": {},
   "source": [
    "#### 解法二\n"
   ]
  },
  {
   "cell_type": "markdown",
   "metadata": {},
   "source": [
    "当题目对时间复杂度要求比较严格时，我们可以考虑下用空间换时间，上述解法一即是此思想，此外，构造hash表也是典型的用空间换时间的处理办法。\n",
    "\n",
    "即给定一个数字，根据hash映射查找另一个数字是否也在数组中，只需用O(1)的时间，前提是经过O(N)时间的预处理，和用O(N)的空间构造hash表。\n",
    "\n",
    "但能否做到在时间复杂度为O(N)的情况下，空间复杂度能进一步降低达到O(1)呢？"
   ]
  },
  {
   "cell_type": "markdown",
   "metadata": {},
   "source": [
    "#### 解法三"
   ]
  },
  {
   "cell_type": "markdown",
   "metadata": {},
   "source": [
    "如果数组是无序的，先排序(N log N)，然后用两个指针i，j，各自指向数组的首尾两端，\n",
    "\n",
    "令i=0，j=n-1，然后i++，j--，逐次判断a[i]+a[j]?=sum，\n",
    "\n",
    "    如果某一刻a[i]+a[j] > sum，则要想办法让sum的值减小，所以此刻i不动，j--；\n",
    "    如果某一刻a[i]+a[j] < sum，则要想办法让sum的值增大，所以此刻i++，j不动。\n",
    "所以，数组无序的时候，时间复杂度最终为O(N log N + N)=O(N log N)。\n",
    "\n",
    "如果原数组是有序的，则不需要事先的排序，直接用两指针分别从头和尾向中间扫描，O(N)搞定，且空间复杂度还是O(1)。\n"
   ]
  },
  {
   "cell_type": "markdown",
   "metadata": {},
   "source": [
    "跟解法1非常接近，但是节约了空间复杂度"
   ]
  },
  {
   "cell_type": "markdown",
   "metadata": {},
   "source": [
    "### 举一反三"
   ]
  },
  {
   "cell_type": "markdown",
   "metadata": {},
   "source": [
    "##### 1. 有一个数组a，设有一个值n。在数组中找到两个元素a[i]和a[j]，使得a[i]+a[j]等于n，求出所有满足以上条件的i和j。"
   ]
  },
  {
   "cell_type": "markdown",
   "metadata": {},
   "source": [
    "##### 2. 3-sum and 4-sum problem"
   ]
  },
  {
   "cell_type": "markdown",
   "metadata": {},
   "source": [
    "## 3. 寻找和为定值的多个数（leetcode 39）"
   ]
  },
  {
   "cell_type": "markdown",
   "metadata": {},
   "source": [
    "输入两个整数n和sum，从数列1，2，3.......n 中随意取几个数，使其和等于sum，要求将其中所有的可能组合列出来。\n"
   ]
  },
  {
   "cell_type": "markdown",
   "metadata": {},
   "source": [
    "### 0-1背包问题"
   ]
  },
  {
   "cell_type": "markdown",
   "metadata": {},
   "source": [
    "0-1背包问题是最基础的背包问题，其具体描述为：有N件物品和一个容量为V的背包。放入第i件物品耗费的费用是Ci，得到的价值是Wi。求解将哪些物品装入背包可使价值总和最大。\n",
    "\n",
    "简单分析下：这是最基础的背包问题，特点是每种物品仅有一件，可以选择放或不放。用子问题定义状态：即F[i, v]表示前i件物品恰放入一个容量为v的背包可以获得的最大价值。则其状态转移方程便是：\n",
    "\n",
    "    F[i, v] = max{F[i-1, v], F[i-1, v-Ci ] + Wi}\n",
    "根据前面的分析，我们不难理解这个方程的意义：“将前i件物品放入容量为v的背包中”这个子问题，若只考虑第i件物品的策略（放或不放），那么就可以转化为一个只和前 i-1 件物品相关的问题。即：\n",
    "\n",
    "    如果不放第i件物品，那么问题就转化为“前i-1件物品放入容量为v的背包中”，价值为 F[i-1, v ]；\n",
    "    \n",
    "    如果放第i件物品，那么问题就转化为“前i-1件物品放入剩下的容量为v-Ci的背包中”，此时能获得的最大价值就是F[i-1, v-Ci]再加上通过放入第i件物品获得的价值Wi。"
   ]
  },
  {
   "cell_type": "markdown",
   "metadata": {},
   "source": [
    "Pseudocode"
   ]
  },
  {
   "cell_type": "code",
   "execution_count": null,
   "metadata": {},
   "outputs": [],
   "source": [
    "F[0,0...V] ← 0\n",
    "for i ← 1 to N\n",
    "    for v ← Ci to V\n",
    "        F[i, v] ← max{F[i-1, v], F[i-1, v-Ci] + Wi }"
   ]
  },
  {
   "cell_type": "markdown",
   "metadata": {},
   "source": [
    "这段代码的时间和空间复杂度均为 O(VN)，其中时间复杂度应该已经不能再优化了，但空间复杂度却可以优化到O(V)。"
   ]
  },
  {
   "cell_type": "code",
   "execution_count": 72,
   "metadata": {},
   "outputs": [
    {
     "name": "stdout",
     "output_type": "stream",
     "text": [
      "220\n"
     ]
    }
   ],
   "source": [
    "def solve(vlist,wlist,totalWeight,totalLength):\n",
    "    dp = [[0 for k in range(totalWeight+1)] for h in range(totalLength+1)]\n",
    "    for i in range(totalLength+1):\n",
    "        for j in range(totalWeight+1):\n",
    "            if i!=0 and j!=0:\n",
    "                if w[i] <= j:\n",
    "                    dp[i][j] = max(dp[i-1][j-wlist[i]]+vlist[i], dp[i-1][j])\n",
    "                else:\n",
    "                    dp[i][j] = dp[i-1][j]\n",
    "    return dp[-1][-1]\n",
    "if __name__ == '__main__':\n",
    "    v = [0,60,100,120]\n",
    "    w = [0,10,20,30]\n",
    "    weight = 50\n",
    "    n = 3\n",
    "    result = solve(v,w,weight,n)\n",
    "    print(result)\n",
    "\n"
   ]
  },
  {
   "cell_type": "code",
   "execution_count": 68,
   "metadata": {},
   "outputs": [
    {
     "name": "stdout",
     "output_type": "stream",
     "text": [
      "0 4\n",
      "1\n",
      "1 4\n",
      "0\n",
      "2 4\n",
      "1\n",
      "3 4\n",
      "2\n",
      "4 4\n",
      "2\n"
     ]
    },
    {
     "data": {
      "text/plain": [
       "'aaa'"
      ]
     },
     "execution_count": 68,
     "metadata": {},
     "output_type": "execute_result"
    }
   ],
   "source": [
    "def longestCommonSub(str1, str2):\n",
    "    len1 = len(str1)\n",
    "    len2 = len(str2)\n",
    "    dp = [[0 for k in range(len2+1)] for h in range(len1+1)]\n",
    "\n",
    "    res = 0\n",
    "    start = 0\n",
    "\n",
    "    for i in range(len1+1):\n",
    "        for j in range(len2+1):\n",
    "            if str1[i-1] == str2[j-1]:\n",
    "                dp[i][j] = dp[i-1][j-1] + 1\n",
    "                if dp[i][j] > res:\n",
    "                    res = dp[i][j]\n",
    "                    start = i\n",
    "            else:\n",
    "                dp[i][j] = 0\n",
    "        print(i,j)\n",
    "        print(dp[i][j])\n",
    "\n",
    "    return str1[start-res:start]\n",
    "\n",
    "str1 = \"caaa\"\n",
    "str2 = \"abaa\"\n",
    "longestCommonSub(str1, str2)"
   ]
  },
  {
   "cell_type": "code",
   "execution_count": 65,
   "metadata": {},
   "outputs": [
    {
     "data": {
      "text/plain": [
       "6"
      ]
     },
     "execution_count": 65,
     "metadata": {},
     "output_type": "execute_result"
    }
   ],
   "source": [
    "a = [[0 for k in range(10+1)] for h in range(5+1)]\n",
    "len(a)"
   ]
  },
  {
   "cell_type": "code",
   "execution_count": 66,
   "metadata": {},
   "outputs": [
    {
     "data": {
      "text/plain": [
       "'a'"
      ]
     },
     "execution_count": 66,
     "metadata": {},
     "output_type": "execute_result"
    }
   ],
   "source": [
    "\"caba\"[-1]"
   ]
  },
  {
   "cell_type": "markdown",
   "metadata": {},
   "source": []
  },
  {
   "cell_type": "markdown",
   "metadata": {},
   "source": []
  },
  {
   "cell_type": "markdown",
   "metadata": {},
   "source": []
  },
  {
   "cell_type": "markdown",
   "metadata": {},
   "source": []
  },
  {
   "cell_type": "markdown",
   "metadata": {},
   "source": []
  },
  {
   "cell_type": "markdown",
   "metadata": {},
   "source": []
  },
  {
   "cell_type": "markdown",
   "metadata": {},
   "source": []
  },
  {
   "cell_type": "markdown",
   "metadata": {},
   "source": []
  },
  {
   "cell_type": "markdown",
   "metadata": {},
   "source": []
  },
  {
   "cell_type": "markdown",
   "metadata": {},
   "source": []
  },
  {
   "cell_type": "markdown",
   "metadata": {},
   "source": []
  },
  {
   "cell_type": "markdown",
   "metadata": {},
   "source": []
  },
  {
   "cell_type": "markdown",
   "metadata": {},
   "source": []
  },
  {
   "cell_type": "markdown",
   "metadata": {},
   "source": []
  },
  {
   "cell_type": "markdown",
   "metadata": {},
   "source": []
  },
  {
   "cell_type": "markdown",
   "metadata": {},
   "source": []
  },
  {
   "cell_type": "markdown",
   "metadata": {},
   "source": []
  },
  {
   "cell_type": "markdown",
   "metadata": {},
   "source": []
  },
  {
   "cell_type": "markdown",
   "metadata": {},
   "source": []
  },
  {
   "cell_type": "markdown",
   "metadata": {},
   "source": []
  },
  {
   "cell_type": "markdown",
   "metadata": {},
   "source": []
  },
  {
   "cell_type": "markdown",
   "metadata": {},
   "source": []
  },
  {
   "cell_type": "markdown",
   "metadata": {},
   "source": []
  },
  {
   "cell_type": "markdown",
   "metadata": {},
   "source": []
  },
  {
   "cell_type": "markdown",
   "metadata": {},
   "source": []
  }
 ],
 "metadata": {
  "kernelspec": {
   "display_name": "Python 3",
   "language": "python",
   "name": "python3"
  },
  "language_info": {
   "codemirror_mode": {
    "name": "ipython",
    "version": 3
   },
   "file_extension": ".py",
   "mimetype": "text/x-python",
   "name": "python",
   "nbconvert_exporter": "python",
   "pygments_lexer": "ipython3",
   "version": "3.6.4"
  }
 },
 "nbformat": 4,
 "nbformat_minor": 2
}
