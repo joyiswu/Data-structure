{
 "cells": [
  {
   "cell_type": "markdown",
   "metadata": {},
   "source": [
    "## 1. 旋转字符串"
   ]
  },
  {
   "cell_type": "markdown",
   "metadata": {},
   "source": [
    "给定一个字符串，要求把字符串前面的若干个字符移动到字符串的尾部，如把字符串“abcdef”前面的2个字符'a'和'b'移动到字符串的尾部，使得原字符串变成字符串“cdefab”。请写一个函数完成此功能，要求对长度为n的字符串操作的时间复杂度为 O(n)，空间复杂度为 O(1)。"
   ]
  },
  {
   "cell_type": "code",
   "execution_count": 8,
   "metadata": {},
   "outputs": [],
   "source": [
    "def LeftRotateString(input_str, num):\n",
    "    \n",
    "    input_str = input_str[num:]+input_str[:num]\n",
    "    \n",
    "    return input_str"
   ]
  },
  {
   "cell_type": "code",
   "execution_count": 10,
   "metadata": {},
   "outputs": [
    {
     "data": {
      "text/plain": [
       "'zicheniloveu'"
      ]
     },
     "execution_count": 10,
     "metadata": {},
     "output_type": "execute_result"
    }
   ],
   "source": [
    "a = 'iloveuzichen'\n",
    "b = LeftRotateString(a, 6)\n",
    "b"
   ]
  },
  {
   "cell_type": "markdown",
   "metadata": {},
   "source": [
    "##### 解法二：三步反转法"
   ]
  },
  {
   "cell_type": "markdown",
   "metadata": {},
   "source": [
    "例如，字符串 abcdef ，若要让def翻转到abc的前头，只要按照下述3个步骤操作即可：\n",
    "\n",
    "首先将原字符串分为两个部分，即X:abc，Y:def；\n",
    "\n",
    "将X反转，X->X^T，即得：abc->cba；将Y反转，Y->Y^T，即得：def->fed。\n",
    "\n",
    "反转上述步骤得到的结果字符串X^TY^T，即反转字符串cbafed的两部分（cba和fed）给予反转，cbafed得到defabc，形式化表示为(X^TY^T)^T=YX，这就实现了整个反转。"
   ]
  },
  {
   "cell_type": "markdown",
   "metadata": {},
   "source": [
    "## 2. 字符串包含\n"
   ]
  },
  {
   "cell_type": "markdown",
   "metadata": {},
   "source": [
    "给定两个分别由字母组成的字符串A和字符串B，字符串B的长度比字符串A短。请问，如何最快地判断字符串B中所有字母是否都在字符串A里？\n",
    "\n",
    "为了简单起见，我们规定输入的字符串只包含大写英文字母，请实现函数bool StringContains(string &A, string &B)"
   ]
  },
  {
   "cell_type": "markdown",
   "metadata": {},
   "source": [
    "#### 解法一\n"
   ]
  },
  {
   "cell_type": "markdown",
   "metadata": {},
   "source": [
    "判断string2中的字符是否在string1中?最直观也是最简单的思路是，针对string2中每一个字符，逐个与string1中每个字符比较，看它是否在String1中。"
   ]
  },
  {
   "cell_type": "code",
   "execution_count": 23,
   "metadata": {},
   "outputs": [
    {
     "name": "stdout",
     "output_type": "stream",
     "text": [
      "True\n"
     ]
    }
   ],
   "source": [
    "def StringContain(a, b):\n",
    "    \n",
    "    length = len(b)\n",
    "    \n",
    "    for i in range(len(b)):\n",
    "        for j in range(len(a)):\n",
    "            if a[j] == b[i]: \n",
    "                length-=1\n",
    "                break\n",
    "    if length == 0: return True\n",
    "    else: return False\n",
    "    \n",
    "print(StringContain('ABCD', 'BAC'))"
   ]
  },
  {
   "cell_type": "markdown",
   "metadata": {},
   "source": [
    "#### 解法二"
   ]
  },
  {
   "cell_type": "markdown",
   "metadata": {},
   "source": [
    "\n",
    "如果允许排序的话，我们可以考虑下排序。比如可先对这两个字符串的字母进行排序，然后再同时对两个字串依次轮询。两个字串的排序需要(常规情况)O(m log m) + O(n log n)次操作，之后的线性扫描需要O(m+n)次操作。"
   ]
  },
  {
   "cell_type": "code",
   "execution_count": 37,
   "metadata": {},
   "outputs": [
    {
     "name": "stdout",
     "output_type": "stream",
     "text": [
      "True\n"
     ]
    }
   ],
   "source": [
    "def StringContain(a, b):\n",
    "    \n",
    "    a, b = sorted(a), sorted(b)\n",
    "    \n",
    "    while len(a)>0 and len(b)>0:\n",
    "        \n",
    "        if a[0] == b[0]: b.pop(0)\n",
    "        a.pop(0)\n",
    "         \n",
    "    if len(b) == 0: return True\n",
    "    else: return False\n",
    "print(StringContain('ABCD', 'BAC'))"
   ]
  },
  {
   "cell_type": "markdown",
   "metadata": {},
   "source": [
    "#### 解法三"
   ]
  },
  {
   "cell_type": "markdown",
   "metadata": {},
   "source": [
    "思路总结如下：\n",
    "\n",
    "按照从小到大的顺序，用26个素数分别与字符'A'到'Z'一一对应。\n",
    "\n",
    "遍历长字符串，求得每个字符对应素数的乘积。\n",
    "\n",
    "遍历短字符串，判断乘积能否被短字符串中的字符对应的素数整除。\n",
    "\n",
    "输出结果。"
   ]
  },
  {
   "cell_type": "markdown",
   "metadata": {},
   "source": [
    "问题：此种素数相乘的方法看似完美，但缺点是素数相乘的结果容易导致整数溢出。"
   ]
  },
  {
   "cell_type": "markdown",
   "metadata": {},
   "source": [
    "#### 解法四"
   ]
  },
  {
   "cell_type": "markdown",
   "metadata": {},
   "source": [
    "事实上，可以先把长字符串a中的所有字符都放入一个Hashtable里，然后轮询短字符串b，看短字符串b的每个字符是否都在Hashtable里，如果都存在，说明长字符串a包含短字符串b，否则，说明不包含。\n",
    "再进一步，我们可以对字符串A，用位运算（26bit整数表示)计算出一个“签名”，再用B中的字符到A里面进行查找。"
   ]
  },
  {
   "cell_type": "markdown",
   "metadata": {},
   "source": [
    "## 3. 字符串转换成整数"
   ]
  },
  {
   "cell_type": "markdown",
   "metadata": {},
   "source": [
    "输入一个由数字组成的字符串，把它转换成整数并输出。例如：输入字符串\"123\"，输出整数123。\n"
   ]
  },
  {
   "cell_type": "code",
   "execution_count": 65,
   "metadata": {},
   "outputs": [],
   "source": [
    "def strtoint(str):\n",
    "    return"
   ]
  },
  {
   "cell_type": "markdown",
   "metadata": {},
   "source": [
    "## 4. 回文判断\n"
   ]
  },
  {
   "cell_type": "markdown",
   "metadata": {},
   "source": [
    "回文，英文palindrome，指一个顺着读和反过来读都一样的字符串，比如madam、我爱我，这样的短句在智力性、趣味性和艺术性上都颇有特色，中国历史上还有很多有趣的回文诗。\n",
    "\n"
   ]
  },
  {
   "cell_type": "markdown",
   "metadata": {},
   "source": [
    "#### 解法一: 首尾扫描"
   ]
  },
  {
   "cell_type": "code",
   "execution_count": 93,
   "metadata": {},
   "outputs": [
    {
     "name": "stdout",
     "output_type": "stream",
     "text": [
      "True\n"
     ]
    }
   ],
   "source": [
    "def IsPalindrome(input_str):\n",
    "    \n",
    "    front, back = 0, len(input_str)-1\n",
    "    while back-front > 0:\n",
    "        if input_str[front] == input_str[back]:\n",
    "            front+=1\n",
    "            back-=1\n",
    "        else: return False\n",
    "        \n",
    "    return True\n",
    "\n",
    "print(IsPalindrome('aa'))\n",
    "            "
   ]
  },
  {
   "cell_type": "markdown",
   "metadata": {},
   "source": [
    "#### 解法二： 中间开始往两边扫描"
   ]
  },
  {
   "cell_type": "markdown",
   "metadata": {},
   "source": [
    "Problem：\n",
    "\n",
    "1、判断一条单向链表是不是“回文”\n",
    "\n",
    "分析：对于单链表结构，可以用两个指针从两端或者中间遍历并判断对应字符是否相等。但这里的关键就是如何朝两个方向遍历。由于单链表是单向的，所以要向两个方向遍历的话，可以采取经典的快慢指针的方法，即先位到链表的中间位置，再将链表的后半逆置，最后用两个指针同时从链表头部和中间开始同时遍历并比较即可。\n",
    "\n",
    "2、判断一个栈是不是“回文”\n",
    "\n",
    "分析：对于栈的话，只需要将字符串全部压入栈，然后依次将各字符出栈，这样得到的就是原字符串的逆置串，分别和原字符串各个字符比较，就可以判断了。"
   ]
  },
  {
   "cell_type": "markdown",
   "metadata": {},
   "source": [
    "## 5. 最长回文子串"
   ]
  },
  {
   "cell_type": "markdown",
   "metadata": {},
   "source": [
    "给定一个字符串，求它的最长回文子串的长度。"
   ]
  },
  {
   "cell_type": "code",
   "execution_count": 174,
   "metadata": {},
   "outputs": [
    {
     "name": "stdout",
     "output_type": "stream",
     "text": [
      "result: nn\n",
      "result: nn\n"
     ]
    }
   ],
   "source": [
    "class Solution:\n",
    "    \n",
    "#     def judgePalindrome(self, input_str) :\n",
    "\n",
    "#         front, back = 0, len(input_str)-1\n",
    "#         while back-front > 0:\n",
    "#             if input_str[front] == input_str[back]:\n",
    "#                 front+=1\n",
    "#                 back-=1\n",
    "#             else: return 0\n",
    "\n",
    "#         return len(input_str)\n",
    "    \n",
    "    def judgePalindrome(self, input_str) :\n",
    "\n",
    "        if len(input_str)==1: return 1\n",
    "        num = len(input_str)//2\n",
    "        if len(input_str)%2 == 0:\n",
    "            if input_str[:num] == input_str[num:][::-1]:\n",
    "                return len(input_str)\n",
    "        else:\n",
    "            if input_str[:num] == input_str[num+1:][::-1]:\n",
    "                return len(input_str)\n",
    "        return 0\n",
    "    \n",
    "    # Method 1: Brute method\n",
    "    def longestPalindrome(self, s):\n",
    "        \"\"\"\n",
    "        :type s: str\n",
    "        :rtype: str\n",
    "        \"\"\"\n",
    "        max_len = 0\n",
    "        max_s = ''\n",
    "        for i in range(len(s)):\n",
    "            for j in range(i, len(s)):\n",
    "                cur_len = self.judgePalindrome(s[i:j+1])\n",
    "\n",
    "                if cur_len > max_len:\n",
    "                    max_s = s[i:j+1]\n",
    "                    max_len = cur_len\n",
    "#                 print('str:',s[i:j+1], cur_len, max_len,'max_s:', max_s)\n",
    "        return max_s\n",
    "\n",
    "    # Method 2: 中心枚举\n",
    "    def longestPalindrome_middle_point(self, s):\n",
    "        if len(s)<=1: return s\n",
    "\n",
    "        max_len = 0\n",
    "        max_s = ''\n",
    "        for i in range(len(s)):\n",
    "\n",
    "            # odd\n",
    "            l, r = i-1, i+1\n",
    "            while l>=0 and r<len(s):\n",
    "                if s[l] == s[r]:\n",
    "                    l-=1\n",
    "                    r+=1\n",
    "                else: break\n",
    "            if len(s[l+1:r])>=max_len: \n",
    "                max_len = len(s[l+1:r])\n",
    "                max_s = s[l+1:r]\n",
    "#             print('odd', s[l+1:r])\n",
    "                                \n",
    "            # even\n",
    "            l, r = i, i+1\n",
    "            while l>=0 and r<len(s):\n",
    "                if s[l] == s[r]:\n",
    "                    l-=1\n",
    "                    r+=1\n",
    "                else: break\n",
    "            if len(s[l+1:r])>=max_len: \n",
    "                max_len = len(s[l+1:r])\n",
    "                max_s = s[l+1:r]\n",
    "#             print('odd', s[l+1:r])\n",
    "        return max_s\n",
    "        \n",
    "\n",
    "\n",
    "    \n",
    "fun = Solution()\n",
    "print('result:', fun.longestPalindrome(\"nn\"))\n",
    "print('result:', fun.longestPalindrome_middle_point(\"nn\"))\n",
    "\n"
   ]
  },
  {
   "cell_type": "markdown",
   "metadata": {},
   "source": [
    "####  Manacher’s Algorithm\n"
   ]
  },
  {
   "attachments": {
    "image.png": {
     "image/png": "[encoded data removed]"
    }
   },
   "cell_type": "markdown",
   "metadata": {},
   "source": [
    "复杂度o(n)\n",
    "有两个主要的步骤:\n",
    "\n",
    "\n",
    "1. 将所有可能的奇数/偶数长度的回文子串都转换成了奇数长度：在每个字符的两边都插入一个特殊的符号。abba => #a#b#b#a#， aba => #a#b#a#\n",
    "\n",
    "2. 用数组 P[i] 来记录以字符S[i]为中心的最长回文子串向左/右扩张的长度，并增加两个辅助变量id和mx，其中 id 为已知的 {右边界最大} 的回文子串的中心，mx则为id+P[id]，也就是这个子串的右边界。 \n",
    "\n",
    "mx−i>p[j]:p[i]=p[j]\n",
    "\n",
    "mx−i<=p[j]:p[i]=mx−i\n",
    "\n",
    "![image.png](attachment:image.png)\n"
   ]
  },
  {
   "cell_type": "code",
   "execution_count": 177,
   "metadata": {},
   "outputs": [
    {
     "name": "stdout",
     "output_type": "stream",
     "text": [
      "result: #n#n#\n"
     ]
    }
   ],
   "source": [
    "class Solution:\n",
    "    \n",
    "    # Method 2: 中心枚举\n",
    "    def manacher(self, s):\n",
    "        # 字符串处理，用特殊字符隔离字符串，方便处理偶数子串\n",
    "        s = '#'+'#'.join(s)+'#'\n",
    "        \n",
    "        f = []    # 辅助列表：f[i]表示i作中心的最长回文子串的长度\n",
    "        maxid = 0  # 记录对i右边影响最大的字符位置j\n",
    "        maxl = 0  # 记录j影响范围的右边界\n",
    "        maxd = 0  # 记录最长的回文子串长度\n",
    "        \n",
    "        return s\n",
    "    \n",
    "fun = Solution()\n",
    "print('result:', fun.manacher(\"nn\"))\n",
    "\n",
    "\n"
   ]
  },
  {
   "cell_type": "markdown",
   "metadata": {},
   "source": [
    "## 6. 字符串的全排列\n"
   ]
  },
  {
   "cell_type": "markdown",
   "metadata": {},
   "source": [
    "输入一个字符串，打印出该字符串中字符的所有排列。\n",
    "\n",
    "例如输入字符串abc，则输出由字符a、b、c 所能排列出来的所有字符串\n",
    "\n",
    "abc、acb、bac、bca、cab 和 cba。"
   ]
  },
  {
   "cell_type": "markdown",
   "metadata": {},
   "source": [
    "#### 解法一、递归实现\n",
    "\n"
   ]
  },
  {
   "cell_type": "markdown",
   "metadata": {},
   "source": [
    "从集合中依次选出每一个元素，作为排列的第一个元素，然后对剩余的元素进行全排列，如此递归处理，从而得到所有元素的全排列。以对字符串abc进行全排列为例，我们可以这么做：以abc为例\n",
    "\n",
    "1. 固定a，求后面bc的排列：abc，acb，求好后，a和b交换，得到bac\n",
    "2. 固定b，求后面ac的排列：bac，bca，求好后，c放到第一位置，得到cba\n",
    "3. 固定c，求后面ba的排列：cba，cab。"
   ]
  },
  {
   "cell_type": "code",
   "execution_count": 196,
   "metadata": {},
   "outputs": [
    {
     "name": "stdout",
     "output_type": "stream",
     "text": [
      "result: ['abcdf', 'abcfd', 'abdcf', 'abdfc', 'abfcd', 'abfdc', 'acbdf', 'acbfd', 'acdbf', 'acdfb', 'acfbd', 'acfdb', 'adbcf', 'adbfc', 'adcbf', 'adcfb', 'adfbc', 'adfcb', 'afbcd', 'afbdc', 'afcbd', 'afcdb', 'afdbc', 'afdcb', 'bacdf', 'bacfd', 'badcf', 'badfc', 'bafcd', 'bafdc', 'bcadf', 'bcafd', 'bcdaf', 'bcdfa', 'bcfad', 'bcfda', 'bdacf', 'bdafc', 'bdcaf', 'bdcfa', 'bdfac', 'bdfca', 'bfacd', 'bfadc', 'bfcad', 'bfcda', 'bfdac', 'bfdca', 'cabdf', 'cabfd', 'cadbf', 'cadfb', 'cafbd', 'cafdb', 'cbadf', 'cbafd', 'cbdaf', 'cbdfa', 'cbfad', 'cbfda', 'cdabf', 'cdafb', 'cdbaf', 'cdbfa', 'cdfab', 'cdfba', 'cfabd', 'cfadb', 'cfbad', 'cfbda', 'cfdab', 'cfdba', 'dabcf', 'dabfc', 'dacbf', 'dacfb', 'dafbc', 'dafcb', 'dbacf', 'dbafc', 'dbcaf', 'dbcfa', 'dbfac', 'dbfca', 'dcabf', 'dcafb', 'dcbaf', 'dcbfa', 'dcfab', 'dcfba', 'dfabc', 'dfacb', 'dfbac', 'dfbca', 'dfcab', 'dfcba', 'fabcd', 'fabdc', 'facbd', 'facdb', 'fadbc', 'fadcb', 'fbacd', 'fbadc', 'fbcad', 'fbcda', 'fbdac', 'fbdca', 'fcabd', 'fcadb', 'fcbad', 'fcbda', 'fcdab', 'fcdba', 'fdabc', 'fdacb', 'fdbac', 'fdbca', 'fdcab', 'fdcba']\n"
     ]
    }
   ],
   "source": [
    "def CalcAllPermutation(s):\n",
    "    result = []\n",
    "    if len(s)<=1: return [s]\n",
    "    for i in range(len(s)):\n",
    "        for j in CalcAllPermutation(s[:i]+s[i+1:]):\n",
    "            result.append(s[i]+j)\n",
    "    return result\n",
    "        \n",
    "        \n",
    "print('result:', CalcAllPermutation(\"abcdf\"))"
   ]
  },
  {
   "cell_type": "markdown",
   "metadata": {},
   "source": [
    "#### 类似问题"
   ]
  },
  {
   "cell_type": "markdown",
   "metadata": {},
   "source": [
    "1、已知字符串里的字符是互不相同的，现在任意组合，比如ab，则输出aa，ab，ba，bb，编程按照字典序输出所有的组合。"
   ]
  },
  {
   "cell_type": "code",
   "execution_count": 215,
   "metadata": {},
   "outputs": [
    {
     "ename": "RecursionError",
     "evalue": "maximum recursion depth exceeded in comparison",
     "output_type": "error",
     "traceback": [
      "\u001b[0;31m---------------------------------------------------------------------------\u001b[0m",
      "\u001b[0;31mRecursionError\u001b[0m                            Traceback (most recent call last)",
      "\u001b[0;32m<ipython-input-215-90d4c8391558>\u001b[0m in \u001b[0;36m<module>\u001b[0;34m()\u001b[0m\n\u001b[1;32m      9\u001b[0m \u001b[0;34m\u001b[0m\u001b[0m\n\u001b[1;32m     10\u001b[0m \u001b[0;34m\u001b[0m\u001b[0m\n\u001b[0;32m---> 11\u001b[0;31m \u001b[0mprint\u001b[0m\u001b[0;34m(\u001b[0m\u001b[0;34m'result:'\u001b[0m\u001b[0;34m,\u001b[0m \u001b[0mfunction\u001b[0m\u001b[0;34m(\u001b[0m\u001b[0;34m\"ab\"\u001b[0m\u001b[0;34m)\u001b[0m\u001b[0;34m)\u001b[0m\u001b[0;34m\u001b[0m\u001b[0m\n\u001b[0m",
      "\u001b[0;32m<ipython-input-215-90d4c8391558>\u001b[0m in \u001b[0;36mfunction\u001b[0;34m(s)\u001b[0m\n\u001b[1;32m      3\u001b[0m     \u001b[0;32mif\u001b[0m \u001b[0mlen\u001b[0m\u001b[0;34m(\u001b[0m\u001b[0ms\u001b[0m\u001b[0;34m)\u001b[0m\u001b[0;34m<=\u001b[0m\u001b[0;36m1\u001b[0m\u001b[0;34m:\u001b[0m \u001b[0;32mreturn\u001b[0m \u001b[0;34m[\u001b[0m\u001b[0ms\u001b[0m\u001b[0;34m]\u001b[0m\u001b[0;34m\u001b[0m\u001b[0m\n\u001b[1;32m      4\u001b[0m     \u001b[0;32mfor\u001b[0m \u001b[0mi\u001b[0m \u001b[0;32min\u001b[0m \u001b[0ms\u001b[0m\u001b[0;34m:\u001b[0m\u001b[0;34m\u001b[0m\u001b[0m\n\u001b[0;32m----> 5\u001b[0;31m         \u001b[0;32mfor\u001b[0m \u001b[0mj\u001b[0m \u001b[0;32min\u001b[0m \u001b[0mfunction\u001b[0m\u001b[0;34m(\u001b[0m\u001b[0ms\u001b[0m\u001b[0;34m)\u001b[0m\u001b[0;34m:\u001b[0m\u001b[0;34m\u001b[0m\u001b[0m\n\u001b[0m\u001b[1;32m      6\u001b[0m             \u001b[0;32mif\u001b[0m \u001b[0mlen\u001b[0m\u001b[0;34m(\u001b[0m\u001b[0mi\u001b[0m\u001b[0;34m+\u001b[0m\u001b[0mj\u001b[0m\u001b[0;34m)\u001b[0m \u001b[0;34m==\u001b[0m \u001b[0mlen\u001b[0m\u001b[0;34m(\u001b[0m\u001b[0ms\u001b[0m\u001b[0;34m)\u001b[0m\u001b[0;34m:\u001b[0m\u001b[0;34m\u001b[0m\u001b[0m\n\u001b[1;32m      7\u001b[0m                 \u001b[0mresult\u001b[0m\u001b[0;34m.\u001b[0m\u001b[0mappend\u001b[0m\u001b[0;34m(\u001b[0m\u001b[0mi\u001b[0m\u001b[0;34m+\u001b[0m\u001b[0mj\u001b[0m\u001b[0;34m)\u001b[0m\u001b[0;34m\u001b[0m\u001b[0m\n",
      "... last 1 frames repeated, from the frame below ...\n",
      "\u001b[0;32m<ipython-input-215-90d4c8391558>\u001b[0m in \u001b[0;36mfunction\u001b[0;34m(s)\u001b[0m\n\u001b[1;32m      3\u001b[0m     \u001b[0;32mif\u001b[0m \u001b[0mlen\u001b[0m\u001b[0;34m(\u001b[0m\u001b[0ms\u001b[0m\u001b[0;34m)\u001b[0m\u001b[0;34m<=\u001b[0m\u001b[0;36m1\u001b[0m\u001b[0;34m:\u001b[0m \u001b[0;32mreturn\u001b[0m \u001b[0;34m[\u001b[0m\u001b[0ms\u001b[0m\u001b[0;34m]\u001b[0m\u001b[0;34m\u001b[0m\u001b[0m\n\u001b[1;32m      4\u001b[0m     \u001b[0;32mfor\u001b[0m \u001b[0mi\u001b[0m \u001b[0;32min\u001b[0m \u001b[0ms\u001b[0m\u001b[0;34m:\u001b[0m\u001b[0;34m\u001b[0m\u001b[0m\n\u001b[0;32m----> 5\u001b[0;31m         \u001b[0;32mfor\u001b[0m \u001b[0mj\u001b[0m \u001b[0;32min\u001b[0m \u001b[0mfunction\u001b[0m\u001b[0;34m(\u001b[0m\u001b[0ms\u001b[0m\u001b[0;34m)\u001b[0m\u001b[0;34m:\u001b[0m\u001b[0;34m\u001b[0m\u001b[0m\n\u001b[0m\u001b[1;32m      6\u001b[0m             \u001b[0;32mif\u001b[0m \u001b[0mlen\u001b[0m\u001b[0;34m(\u001b[0m\u001b[0mi\u001b[0m\u001b[0;34m+\u001b[0m\u001b[0mj\u001b[0m\u001b[0;34m)\u001b[0m \u001b[0;34m==\u001b[0m \u001b[0mlen\u001b[0m\u001b[0;34m(\u001b[0m\u001b[0ms\u001b[0m\u001b[0;34m)\u001b[0m\u001b[0;34m:\u001b[0m\u001b[0;34m\u001b[0m\u001b[0m\n\u001b[1;32m      7\u001b[0m                 \u001b[0mresult\u001b[0m\u001b[0;34m.\u001b[0m\u001b[0mappend\u001b[0m\u001b[0;34m(\u001b[0m\u001b[0mi\u001b[0m\u001b[0;34m+\u001b[0m\u001b[0mj\u001b[0m\u001b[0;34m)\u001b[0m\u001b[0;34m\u001b[0m\u001b[0m\n",
      "\u001b[0;31mRecursionError\u001b[0m: maximum recursion depth exceeded in comparison"
     ]
    }
   ],
   "source": [
    "def function(s,result,length):\n",
    "    result = []\n",
    "    if cur_l == length: s\n",
    "    for i in s:\n",
    "        for j in function(s):\n",
    "            if len(i+j) == len(s):\n",
    "                result.append(i+j)\n",
    "    return result\n",
    "        \n",
    "        \n",
    "print('result:', function(\"ab\"))"
   ]
  },
  {
   "cell_type": "markdown",
   "metadata": {},
   "source": []
  },
  {
   "cell_type": "markdown",
   "metadata": {},
   "source": []
  },
  {
   "cell_type": "markdown",
   "metadata": {},
   "source": []
  },
  {
   "cell_type": "markdown",
   "metadata": {},
   "source": []
  }
 ],
 "metadata": {
  "kernelspec": {
   "display_name": "Python 3",
   "language": "python",
   "name": "python3"
  },
  "language_info": {
   "codemirror_mode": {
    "name": "ipython",
    "version": 3
   },
   "file_extension": ".py",
   "mimetype": "text/x-python",
   "name": "python",
   "nbconvert_exporter": "python",
   "pygments_lexer": "ipython3",
   "version": "3.6.4"
  }
 },
 "nbformat": 4,
 "nbformat_minor": 2
}
