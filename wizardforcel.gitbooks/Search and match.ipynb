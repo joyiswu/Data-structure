{
 "cells": [
  {
   "cell_type": "markdown",
   "metadata": {},
   "source": [
    "# 1.有序数组的查找(二分查找)"
   ]
  },
  {
   "cell_type": "markdown",
   "metadata": {},
   "source": [
    "给定一个有序的数组，查找某个数是否在数组中，请编程实现。"
   ]
  },
  {
   "cell_type": "markdown",
   "metadata": {},
   "source": [
    "一看到数组本身已经有序，我想你可能反应出了要用二分查找，毕竟二分查找的适用条件就是有序的。那什么是二分查找呢？\n",
    "\n",
    "二分查找可以解决（预排序数组的查找）问题：只要数组中包含T（即要查找的值），那么通过不断缩小包含T的范围，最终就可以找到它。其算法流程如下：\n",
    "\n",
    "    一开始，范围覆盖整个数组。\n",
    "    \n",
    "    将数组的中间项与T进行比较，如果T比数组的中间项要小，则到数组的前半部分继续查找，反之，则到数组的后半部分继续查找。\n",
    "    \n",
    "    如此，每次查找可以排除一半元素，范围缩小一半。就这样反复比较，反复缩小范围，最终就会在数组中找到T，或者确定原以为T所在的范围实际为空。\n",
    "\n",
    "对于包含N个元素的表，整个查找过程大约要经过log(2)N次比较。"
   ]
  },
  {
   "cell_type": "code",
   "execution_count": 35,
   "metadata": {},
   "outputs": [
    {
     "name": "stdout",
     "output_type": "stream",
     "text": [
      "running time: bin_search_loop 2.6941299438476562e-05\n",
      "9999999\n",
      "running time: bin_search 9.5367431640625e-07\n",
      "running time: bin_search 4.00543212890625e-05\n",
      "running time: bin_search 0.00012493133544921875\n",
      "running time: bin_search 0.0001957416534423828\n",
      "running time: bin_search 0.00043582916259765625\n",
      "running time: bin_search 0.0004942417144775391\n",
      "running time: bin_search 0.0006000995635986328\n",
      "running time: bin_search 0.0006380081176757812\n",
      "running time: bin_search 0.0007758140563964844\n",
      "running time: bin_search 0.0008280277252197266\n",
      "running time: bin_search 0.0008728504180908203\n",
      "running time: bin_search 0.0009500980377197266\n",
      "running time: bin_search 0.0011949539184570312\n",
      "running time: bin_search 0.0012600421905517578\n",
      "running time: bin_search 0.0013859272003173828\n",
      "running time: bin_search 0.0014469623565673828\n",
      "running time: bin_search 0.0015490055084228516\n",
      "running time: bin_search 0.0015969276428222656\n",
      "running time: bin_search 0.001672983169555664\n",
      "running time: bin_search 0.0019071102142333984\n",
      "running time: bin_search 0.0019321441650390625\n",
      "running time: bin_search 0.001955747604370117\n",
      "running time: bin_search 0.001981973648071289\n",
      "9999999\n"
     ]
    }
   ],
   "source": [
    "import time \n",
    "\n",
    "def cal_time(func): #装饰器\n",
    "    def wrapper(*args, **kwargs):\n",
    "        t1 = time.time()\n",
    "        result = func(*args, **kwargs)\n",
    "        t2 = time.time()\n",
    "        print(\"running time:\",func.__name__, t2 - t1)\n",
    "        return result\n",
    "    return wrapper\n",
    "\n",
    "@cal_time\n",
    "def bin_search_loop(data_set,val):\n",
    "    #low 和high代表下标 最小下标，最大下标\n",
    "    low=0\n",
    "    high=len(data_set)-1\n",
    "    while low <=high:# 只有当low小于High的时候证明中间有数\n",
    "        mid=(low+high)//2\n",
    "        if data_set[mid]==val:\n",
    "            return mid  #返回他的下标\n",
    "        elif data_set[mid]>val:\n",
    "            high=mid-1\n",
    "        else:\n",
    "            low=mid+1\n",
    "    return # return null证明没有找到\n",
    "\n",
    "\n",
    "def bin_search_rec(data_set,val):\n",
    "    #low 和high代表下标 最小下标，最大下标\n",
    "    low=0\n",
    "    high=len(data_set)-1\n",
    "    mid=(low+high)//2\n",
    "    \n",
    "    if data_set[mid] == val: return data_set[mid]\n",
    "    if data_set[mid] > val:\n",
    "        return bin_search(data_set[:mid], val)\n",
    "    else: return bin_search(data_set[mid+1:], val)\n",
    "    \n",
    "@cal_time\n",
    "def bin_search(data_set,val):\n",
    "    return bin_search_rec(data_set,val)\n",
    "\n",
    "data_set = range(100000000)\n",
    "print(bin_search_loop(data_set, 9999999))\n",
    "print(bin_search(data_set, 9999999))"
   ]
  },
  {
   "cell_type": "markdown",
   "metadata": {},
   "source": [
    "# 2. 行列递增矩阵的查找"
   ]
  },
  {
   "cell_type": "markdown",
   "metadata": {},
   "source": [
    "在一个m行n列二维数组中，每一行都按照从左到右递增的顺序排序，每一列都按照从上到下递增的顺序排序。请完成一个函数，输入这样的一个二维数组和一个整数，判断数组中是否含有该整数。\n",
    "\n",
    "例如下面的二维数组就是每行、每列都递增排序。如果在这个数组中查找数字6，则返回true；如果查找数字5，由于数组不含有该数字，则返回false。"
   ]
  },
  {
   "cell_type": "markdown",
   "metadata": {},
   "source": [
    "#### 解法 1"
   ]
  },
  {
   "cell_type": "markdown",
   "metadata": {},
   "source": [
    "这种行和列分别递增的矩阵，有一个专有名词叫做杨氏矩阵，由剑桥大学数学家杨表在1900年推提出，在这个矩阵中的查找，俗称杨氏矩阵查找。\n",
    "\n",
    "以查找数字6为例，因为矩阵的行和列都是递增的，所以整个矩阵的对角线上的数字也是递增的，故我们可以在对角线上进行二分查找，如果要找的数是6介于对角线上相邻的两个数4、10，可以排除掉左上和右下的两个矩形，而在左下和右上的两个矩形继续递归查找，如下图所示："
   ]
  },
  {
   "cell_type": "markdown",
   "metadata": {},
   "source": [
    "#### 解法 2"
   ]
  },
  {
   "cell_type": "markdown",
   "metadata": {},
   "source": [
    "首先直接定位到最右上角的元素，再配以二分查找，比要找的数（6）大就往左走，比要找数（6）的小就往下走，直到找到要找的数字（6）为止，这个方法的时间复杂度O（m+n）。如下图所示："
   ]
  },
  {
   "cell_type": "markdown",
   "metadata": {},
   "source": [
    "# 3. 出现次数超过一半的数字"
   ]
  },
  {
   "cell_type": "markdown",
   "metadata": {},
   "source": [
    "数组中有一个数字出现的次数超过了数组长度的一半，找出这个数字。\n"
   ]
  },
  {
   "cell_type": "markdown",
   "metadata": {},
   "source": []
  },
  {
   "cell_type": "markdown",
   "metadata": {},
   "source": []
  },
  {
   "cell_type": "markdown",
   "metadata": {},
   "source": []
  },
  {
   "cell_type": "markdown",
   "metadata": {},
   "source": []
  },
  {
   "cell_type": "markdown",
   "metadata": {},
   "source": []
  },
  {
   "cell_type": "markdown",
   "metadata": {},
   "source": []
  },
  {
   "cell_type": "markdown",
   "metadata": {},
   "source": []
  },
  {
   "cell_type": "markdown",
   "metadata": {},
   "source": []
  },
  {
   "cell_type": "markdown",
   "metadata": {},
   "source": []
  },
  {
   "cell_type": "markdown",
   "metadata": {},
   "source": []
  },
  {
   "cell_type": "markdown",
   "metadata": {},
   "source": []
  },
  {
   "cell_type": "markdown",
   "metadata": {},
   "source": []
  },
  {
   "cell_type": "markdown",
   "metadata": {},
   "source": []
  },
  {
   "cell_type": "markdown",
   "metadata": {},
   "source": []
  },
  {
   "cell_type": "markdown",
   "metadata": {},
   "source": []
  },
  {
   "cell_type": "markdown",
   "metadata": {},
   "source": []
  },
  {
   "cell_type": "markdown",
   "metadata": {},
   "source": []
  },
  {
   "cell_type": "markdown",
   "metadata": {},
   "source": []
  },
  {
   "cell_type": "markdown",
   "metadata": {},
   "source": []
  },
  {
   "cell_type": "markdown",
   "metadata": {},
   "source": []
  },
  {
   "cell_type": "markdown",
   "metadata": {},
   "source": []
  },
  {
   "cell_type": "markdown",
   "metadata": {},
   "source": []
  },
  {
   "cell_type": "markdown",
   "metadata": {},
   "source": []
  },
  {
   "cell_type": "markdown",
   "metadata": {},
   "source": []
  },
  {
   "cell_type": "markdown",
   "metadata": {},
   "source": []
  },
  {
   "cell_type": "markdown",
   "metadata": {},
   "source": []
  },
  {
   "cell_type": "markdown",
   "metadata": {},
   "source": []
  },
  {
   "cell_type": "markdown",
   "metadata": {},
   "source": []
  },
  {
   "cell_type": "markdown",
   "metadata": {},
   "source": []
  },
  {
   "cell_type": "markdown",
   "metadata": {},
   "source": []
  },
  {
   "cell_type": "markdown",
   "metadata": {},
   "source": []
  },
  {
   "cell_type": "markdown",
   "metadata": {},
   "source": []
  },
  {
   "cell_type": "markdown",
   "metadata": {},
   "source": []
  },
  {
   "cell_type": "markdown",
   "metadata": {},
   "source": []
  },
  {
   "cell_type": "markdown",
   "metadata": {},
   "source": []
  },
  {
   "cell_type": "markdown",
   "metadata": {},
   "source": []
  }
 ],
 "metadata": {
  "kernelspec": {
   "display_name": "Python 3",
   "language": "python",
   "name": "python3"
  },
  "language_info": {
   "codemirror_mode": {
    "name": "ipython",
    "version": 3
   },
   "file_extension": ".py",
   "mimetype": "text/x-python",
   "name": "python",
   "nbconvert_exporter": "python",
   "pygments_lexer": "ipython3",
   "version": "3.6.4"
  }
 },
 "nbformat": 4,
 "nbformat_minor": 2
}
