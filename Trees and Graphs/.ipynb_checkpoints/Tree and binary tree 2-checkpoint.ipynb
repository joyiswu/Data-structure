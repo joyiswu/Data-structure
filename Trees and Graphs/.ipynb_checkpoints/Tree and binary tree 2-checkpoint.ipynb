{
 "cells": [
  {
   "cell_type": "markdown",
   "metadata": {},
   "source": [
    "题目：https://blog.csdn.net/wstcjf/article/details/78070404\n",
    "\n",
    "讲解： https://blog.csdn.net/yi_zz/article/details/7401112"
   ]
  },
  {
   "cell_type": "markdown",
   "metadata": {},
   "source": [
    "are_equivalent_triangles([[1.0 , 2.0], [3.0, 5.0], [2.0, 7.0]], [[0.0, 1.0], [2.0, 5.0], [1.0, 6.0]])"
   ]
  },
  {
   "cell_type": "markdown",
   "metadata": {},
   "source": []
  }
 ],
 "metadata": {
  "kernelspec": {
   "display_name": "Python 3",
   "language": "python",
   "name": "python3"
  },
  "language_info": {
   "codemirror_mode": {
    "name": "ipython",
    "version": 3
   },
   "file_extension": ".py",
   "mimetype": "text/x-python",
   "name": "python",
   "nbconvert_exporter": "python",
   "pygments_lexer": "ipython3",
   "version": "3.6.4"
  }
 },
 "nbformat": 4,
 "nbformat_minor": 2
}
