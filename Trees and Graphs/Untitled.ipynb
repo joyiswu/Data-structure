{
 "cells": [
  {
   "cell_type": "code",
   "execution_count": 17,
   "metadata": {},
   "outputs": [
    {
     "name": "stdout",
     "output_type": "stream",
     "text": [
      "123\n",
      "[1, 1, 2, 3]\n"
     ]
    }
   ],
   "source": [
    "n = input()\n",
    "\n",
    "ls = [1] * (len(n) + 1)\n",
    "\n",
    "if len(n) == 0: print(0)\n",
    "else: ls[1] = 1\n",
    "    \n",
    "for i in range(1, len(ls)-1):\n",
    "    if 10 < int(n[i-1:i+1])<=26:\n",
    "        ls[i+1] = ls[i] + ls[i-1]\n",
    "    else:        \n",
    "\n",
    "        ls[i+1] = ls[i]\n",
    "\n",
    "        \n",
    "print(ls)"
   ]
  },
  {
   "cell_type": "code",
   "execution_count": 166,
   "metadata": {},
   "outputs": [
    {
     "data": {
      "text/plain": [
       "3"
      ]
     },
     "execution_count": 166,
     "metadata": {},
     "output_type": "execute_result"
    }
   ],
   "source": [
    "\n",
    "a = [[[1,2],[1,2]],[[1,2],[1,2]]]\n",
    "\n",
    "sum(a[0][:][1])"
   ]
  },
  {
   "cell_type": "code",
   "execution_count": 124,
   "metadata": {},
   "outputs": [
    {
     "ename": "KeyboardInterrupt",
     "evalue": "",
     "output_type": "error",
     "traceback": [
      "\u001b[0;31m---------------------------------------------------------------------------\u001b[0m",
      "\u001b[0;31mKeyboardInterrupt\u001b[0m                         Traceback (most recent call last)",
      "\u001b[0;32m/anaconda3/lib/python3.6/site-packages/ipykernel/kernelbase.py\u001b[0m in \u001b[0;36m_input_request\u001b[0;34m(self, prompt, ident, parent, password)\u001b[0m\n\u001b[1;32m    728\u001b[0m             \u001b[0;32mtry\u001b[0m\u001b[0;34m:\u001b[0m\u001b[0;34m\u001b[0m\u001b[0m\n\u001b[0;32m--> 729\u001b[0;31m                 \u001b[0mident\u001b[0m\u001b[0;34m,\u001b[0m \u001b[0mreply\u001b[0m \u001b[0;34m=\u001b[0m \u001b[0mself\u001b[0m\u001b[0;34m.\u001b[0m\u001b[0msession\u001b[0m\u001b[0;34m.\u001b[0m\u001b[0mrecv\u001b[0m\u001b[0;34m(\u001b[0m\u001b[0mself\u001b[0m\u001b[0;34m.\u001b[0m\u001b[0mstdin_socket\u001b[0m\u001b[0;34m,\u001b[0m \u001b[0;36m0\u001b[0m\u001b[0;34m)\u001b[0m\u001b[0;34m\u001b[0m\u001b[0m\n\u001b[0m\u001b[1;32m    730\u001b[0m             \u001b[0;32mexcept\u001b[0m \u001b[0mException\u001b[0m\u001b[0;34m:\u001b[0m\u001b[0;34m\u001b[0m\u001b[0m\n",
      "\u001b[0;32m/anaconda3/lib/python3.6/site-packages/jupyter_client/session.py\u001b[0m in \u001b[0;36mrecv\u001b[0;34m(self, socket, mode, content, copy)\u001b[0m\n\u001b[1;32m    802\u001b[0m         \u001b[0;32mtry\u001b[0m\u001b[0;34m:\u001b[0m\u001b[0;34m\u001b[0m\u001b[0m\n\u001b[0;32m--> 803\u001b[0;31m             \u001b[0mmsg_list\u001b[0m \u001b[0;34m=\u001b[0m \u001b[0msocket\u001b[0m\u001b[0;34m.\u001b[0m\u001b[0mrecv_multipart\u001b[0m\u001b[0;34m(\u001b[0m\u001b[0mmode\u001b[0m\u001b[0;34m,\u001b[0m \u001b[0mcopy\u001b[0m\u001b[0;34m=\u001b[0m\u001b[0mcopy\u001b[0m\u001b[0;34m)\u001b[0m\u001b[0;34m\u001b[0m\u001b[0m\n\u001b[0m\u001b[1;32m    804\u001b[0m         \u001b[0;32mexcept\u001b[0m \u001b[0mzmq\u001b[0m\u001b[0;34m.\u001b[0m\u001b[0mZMQError\u001b[0m \u001b[0;32mas\u001b[0m \u001b[0me\u001b[0m\u001b[0;34m:\u001b[0m\u001b[0;34m\u001b[0m\u001b[0m\n",
      "\u001b[0;32m/anaconda3/lib/python3.6/site-packages/zmq/sugar/socket.py\u001b[0m in \u001b[0;36mrecv_multipart\u001b[0;34m(self, flags, copy, track)\u001b[0m\n\u001b[1;32m    394\u001b[0m         \"\"\"\n\u001b[0;32m--> 395\u001b[0;31m         \u001b[0mparts\u001b[0m \u001b[0;34m=\u001b[0m \u001b[0;34m[\u001b[0m\u001b[0mself\u001b[0m\u001b[0;34m.\u001b[0m\u001b[0mrecv\u001b[0m\u001b[0;34m(\u001b[0m\u001b[0mflags\u001b[0m\u001b[0;34m,\u001b[0m \u001b[0mcopy\u001b[0m\u001b[0;34m=\u001b[0m\u001b[0mcopy\u001b[0m\u001b[0;34m,\u001b[0m \u001b[0mtrack\u001b[0m\u001b[0;34m=\u001b[0m\u001b[0mtrack\u001b[0m\u001b[0;34m)\u001b[0m\u001b[0;34m]\u001b[0m\u001b[0;34m\u001b[0m\u001b[0m\n\u001b[0m\u001b[1;32m    396\u001b[0m         \u001b[0;31m# have first part already, only loop while more to receive\u001b[0m\u001b[0;34m\u001b[0m\u001b[0;34m\u001b[0m\u001b[0m\n",
      "\u001b[0;32mzmq/backend/cython/socket.pyx\u001b[0m in \u001b[0;36mzmq.backend.cython.socket.Socket.recv\u001b[0;34m()\u001b[0m\n",
      "\u001b[0;32mzmq/backend/cython/socket.pyx\u001b[0m in \u001b[0;36mzmq.backend.cython.socket.Socket.recv\u001b[0;34m()\u001b[0m\n",
      "\u001b[0;32mzmq/backend/cython/socket.pyx\u001b[0m in \u001b[0;36mzmq.backend.cython.socket._recv_copy\u001b[0;34m()\u001b[0m\n",
      "\u001b[0;32m/anaconda3/lib/python3.6/site-packages/zmq/backend/cython/checkrc.pxd\u001b[0m in \u001b[0;36mzmq.backend.cython.checkrc._check_rc\u001b[0;34m()\u001b[0m\n",
      "\u001b[0;31mKeyboardInterrupt\u001b[0m: ",
      "\nDuring handling of the above exception, another exception occurred:\n",
      "\u001b[0;31mKeyboardInterrupt\u001b[0m                         Traceback (most recent call last)",
      "\u001b[0;32m<ipython-input-124-950bfe46445d>\u001b[0m in \u001b[0;36m<module>\u001b[0;34m()\u001b[0m\n\u001b[1;32m      1\u001b[0m \u001b[0;32mimport\u001b[0m \u001b[0mnumpy\u001b[0m \u001b[0;32mas\u001b[0m \u001b[0mnp\u001b[0m\u001b[0;34m\u001b[0m\u001b[0m\n\u001b[1;32m      2\u001b[0m \u001b[0;34m\u001b[0m\u001b[0m\n\u001b[0;32m----> 3\u001b[0;31m \u001b[0mm\u001b[0m\u001b[0;34m,\u001b[0m\u001b[0mn\u001b[0m\u001b[0;34m=\u001b[0m\u001b[0mmap\u001b[0m\u001b[0;34m(\u001b[0m\u001b[0mint\u001b[0m\u001b[0;34m,\u001b[0m\u001b[0minput\u001b[0m\u001b[0;34m(\u001b[0m\u001b[0;34m)\u001b[0m\u001b[0;34m.\u001b[0m\u001b[0msplit\u001b[0m\u001b[0;34m(\u001b[0m\u001b[0;34m)\u001b[0m\u001b[0;34m)\u001b[0m\u001b[0;34m\u001b[0m\u001b[0m\n\u001b[0m\u001b[1;32m      4\u001b[0m \u001b[0;34m\u001b[0m\u001b[0m\n\u001b[1;32m      5\u001b[0m \u001b[0mimg_ls\u001b[0m \u001b[0;34m=\u001b[0m \u001b[0;34m[\u001b[0m\u001b[0;34m[\u001b[0m\u001b[0;36m1\u001b[0m\u001b[0;34m]\u001b[0m\u001b[0;34m*\u001b[0m\u001b[0mn\u001b[0m \u001b[0;32mfor\u001b[0m \u001b[0mi\u001b[0m \u001b[0;32min\u001b[0m \u001b[0mrange\u001b[0m\u001b[0;34m(\u001b[0m\u001b[0mm\u001b[0m\u001b[0;34m)\u001b[0m\u001b[0;34m]\u001b[0m\u001b[0;34m\u001b[0m\u001b[0m\n",
      "\u001b[0;32m/anaconda3/lib/python3.6/site-packages/ipykernel/kernelbase.py\u001b[0m in \u001b[0;36mraw_input\u001b[0;34m(self, prompt)\u001b[0m\n\u001b[1;32m    702\u001b[0m             \u001b[0mself\u001b[0m\u001b[0;34m.\u001b[0m\u001b[0m_parent_ident\u001b[0m\u001b[0;34m,\u001b[0m\u001b[0;34m\u001b[0m\u001b[0m\n\u001b[1;32m    703\u001b[0m             \u001b[0mself\u001b[0m\u001b[0;34m.\u001b[0m\u001b[0m_parent_header\u001b[0m\u001b[0;34m,\u001b[0m\u001b[0;34m\u001b[0m\u001b[0m\n\u001b[0;32m--> 704\u001b[0;31m             \u001b[0mpassword\u001b[0m\u001b[0;34m=\u001b[0m\u001b[0;32mFalse\u001b[0m\u001b[0;34m,\u001b[0m\u001b[0;34m\u001b[0m\u001b[0m\n\u001b[0m\u001b[1;32m    705\u001b[0m         )\n\u001b[1;32m    706\u001b[0m \u001b[0;34m\u001b[0m\u001b[0m\n",
      "\u001b[0;32m/anaconda3/lib/python3.6/site-packages/ipykernel/kernelbase.py\u001b[0m in \u001b[0;36m_input_request\u001b[0;34m(self, prompt, ident, parent, password)\u001b[0m\n\u001b[1;32m    732\u001b[0m             \u001b[0;32mexcept\u001b[0m \u001b[0mKeyboardInterrupt\u001b[0m\u001b[0;34m:\u001b[0m\u001b[0;34m\u001b[0m\u001b[0m\n\u001b[1;32m    733\u001b[0m                 \u001b[0;31m# re-raise KeyboardInterrupt, to truncate traceback\u001b[0m\u001b[0;34m\u001b[0m\u001b[0;34m\u001b[0m\u001b[0m\n\u001b[0;32m--> 734\u001b[0;31m                 \u001b[0;32mraise\u001b[0m \u001b[0mKeyboardInterrupt\u001b[0m\u001b[0;34m\u001b[0m\u001b[0m\n\u001b[0m\u001b[1;32m    735\u001b[0m             \u001b[0;32melse\u001b[0m\u001b[0;34m:\u001b[0m\u001b[0;34m\u001b[0m\u001b[0m\n\u001b[1;32m    736\u001b[0m                 \u001b[0;32mbreak\u001b[0m\u001b[0;34m\u001b[0m\u001b[0m\n",
      "\u001b[0;31mKeyboardInterrupt\u001b[0m: "
     ]
    }
   ],
   "source": [
    "import numpy as np\n",
    "\n",
    "m,n=map(int,input().split())\n",
    "\n",
    "img_ls = [[1]*n for i in range(m)]\n",
    "for i in range(m):\n",
    "    img_ls[i][:] = map(int,input().split())\n",
    "    "
   ]
  },
  {
   "cell_type": "code",
   "execution_count": 125,
   "metadata": {},
   "outputs": [
    {
     "data": {
      "text/plain": [
       "[[1, 0, 0, 1, 0, 0],\n",
       " [0, 0, 1, 0, 1, 0],\n",
       " [1, 1, 1, 1, 1, 0],\n",
       " [1, 0, 0, 1, 1, 1],\n",
       " [1, 1, 1, 1, 1, 1]]"
      ]
     },
     "execution_count": 125,
     "metadata": {},
     "output_type": "execute_result"
    }
   ],
   "source": [
    "img_ls = [[1, 0, 0, 1, 0, 0],\n",
    " [0, 0, 1, 0, 1, 0],\n",
    " [1, 1, 1, 1, 1, 0],\n",
    " [1, 0, 0, 1, 1, 1],\n",
    " [1, 1, 1, 1, 1, 1]]\n",
    "\n",
    "img_ls"
   ]
  },
  {
   "cell_type": "code",
   "execution_count": 126,
   "metadata": {},
   "outputs": [],
   "source": [
    "# up to down, left to right \n",
    "for i in range(1,m-1):\n",
    "    for j in range(1, n-1):\n",
    "        if img_ls[i][j] == 0:\n",
    "            if img_ls[i][j-1] + img_ls[i-1][j] > 1:\n",
    "                img_ls[i][j] = 0.6"
   ]
  },
  {
   "cell_type": "code",
   "execution_count": 127,
   "metadata": {},
   "outputs": [
    {
     "data": {
      "text/plain": [
       "[[1, 0, 0, 1, 0, 0],\n",
       " [0, 0, 1, 0.6, 1, 0],\n",
       " [1, 1, 1, 1, 1, 0],\n",
       " [1, 0.6, 0.6, 1, 1, 1],\n",
       " [1, 1, 1, 1, 1, 1]]"
      ]
     },
     "execution_count": 127,
     "metadata": {},
     "output_type": "execute_result"
    }
   ],
   "source": [
    "img_ls"
   ]
  },
  {
   "cell_type": "code",
   "execution_count": 128,
   "metadata": {},
   "outputs": [
    {
     "data": {
      "text/plain": [
       "[[1, 0, 0, 1, 0, 0],\n",
       " [0, 0, 1, 1, 1, 0],\n",
       " [1, 1, 1, 1, 1, 0],\n",
       " [1, 1, 1, 1, 1, 1],\n",
       " [1, 1, 1, 1, 1, 1]]"
      ]
     },
     "execution_count": 128,
     "metadata": {},
     "output_type": "execute_result"
    }
   ],
   "source": [
    "# down to up and right to left\n",
    "for i in range(m-2, 0, -1):\n",
    "    for j in range(n-2, 0, -1):\n",
    "        if img_ls[i][j] == 0.6:\n",
    "            if img_ls[i][j+1] + img_ls[i+1][j] == 2:\n",
    "                img_ls[i][j] = 1\n",
    "            else: img_ls[i][j] = 0\n",
    "                \n",
    "img_ls"
   ]
  },
  {
   "cell_type": "code",
   "execution_count": 131,
   "metadata": {},
   "outputs": [
    {
     "data": {
      "text/plain": [
       "[[0, 0, 1, 0, 0, 1, 0, 0, 0, 0],\n",
       " [0, 0, 0, 0, 1, 1, 1, 0, 0, 0],\n",
       " [0, 0, 1, 1, 1, 1, 1, 0, 0, 0],\n",
       " [0, 0, 1, 1, 1, 1, 1, 1, 0, 0],\n",
       " [0, 0, 1, 1, 1, 1, 1, 1, 0, 0]]"
      ]
     },
     "execution_count": 131,
     "metadata": {},
     "output_type": "execute_result"
    }
   ],
   "source": [
    "# padding zeros\n",
    "for i in range(m):\n",
    "    img_ls[i] = [0] + img_ls[i] + [0]\n",
    "    \n",
    "img_ls"
   ]
  },
  {
   "cell_type": "code",
   "execution_count": 106,
   "metadata": {},
   "outputs": [
    {
     "data": {
      "text/plain": [
       "array([[0, 1, 0, 0, 1, 0, 0, 0],\n",
       "       [0, 0, 0, 1, 1, 1, 0, 0],\n",
       "       [0, 1, 1, 1, 1, 1, 0, 0],\n",
       "       [0, 1, 0, 0, 1, 1, 1, 0],\n",
       "       [0, 1, 1, 1, 1, 1, 1, 0]])"
      ]
     },
     "execution_count": 106,
     "metadata": {},
     "output_type": "execute_result"
    }
   ],
   "source": [
    "\n",
    "padding_img = np.hstack((np.array([[0] for i in range(m)]),img))\n",
    "padding_img = np.hstack((padding_img, np.array([[0] for i in range(m)])))\n",
    "\n",
    "padding_img\n"
   ]
  },
  {
   "cell_type": "code",
   "execution_count": 133,
   "metadata": {},
   "outputs": [
    {
     "name": "stdout",
     "output_type": "stream",
     "text": [
      "0 2\n"
     ]
    }
   ],
   "source": [
    "# 找出相连陆地面积，把不相连的陆地像素设为0\n",
    "padding_img = img_ls\n",
    "for i in range(m-2,-1,-1):\n",
    "    for j in range(1,n+1):\n",
    "        if padding_img[i][j] == 1 and sum(padding_img[i+1][j-1:j+2])==0:\n",
    "            padding_img[i][j] = 0\n"
   ]
  },
  {
   "cell_type": "code",
   "execution_count": 140,
   "metadata": {},
   "outputs": [
    {
     "data": {
      "text/plain": [
       "21"
      ]
     },
     "execution_count": 140,
     "metadata": {},
     "output_type": "execute_result"
    }
   ],
   "source": [
    "sum([sum(padding_img[i]) for i in range(m)])"
   ]
  },
  {
   "cell_type": "code",
   "execution_count": 197,
   "metadata": {},
   "outputs": [
    {
     "name": "stdout",
     "output_type": "stream",
     "text": [
      "2.0 2.0\n",
      "0.0 0.0\n"
     ]
    }
   ],
   "source": [
    "# number of k\n",
    "k = 2\n",
    "\n",
    "ls = [[i+1, i-1] for i in range(10000)]\n",
    "\n",
    "for i in range(5000):\n",
    "    ls[i] = [0, 0] \n",
    "for i in range(5000,10000):\n",
    "    ls[i] = [2, 2] \n",
    "center_point = [ls[i] for i in range(k)]\n",
    "distance = [1 for i in range(k)]\n",
    "cluster_point = [[] for i in range(k)]\n",
    "\n",
    "\n",
    "\n",
    "while(1):\n",
    "    \n",
    "    # cluseter\n",
    "    cluster_point = [[] for i in range(k)]\n",
    "    new_distance = [0 for i in range(k)]\n",
    "    \n",
    "    for point in ls:\n",
    "        dis = []\n",
    "        for i in range(k):\n",
    "            dis.append(abs(point[0] - center_point[i][0]) + abs(point[1] - center_point[i][1]))\n",
    "        cluster_point[dis.index(min(dis))].append(point)\n",
    "        # calculate new distance \n",
    "        new_distance[dis.index(min(dis))] += min(dis)\n",
    "    \n",
    "    if new_distance == distance: \n",
    "        break\n",
    "    else: distance = new_distance \n",
    "    \n",
    "    # get new center point\n",
    "    for i in range(k):\n",
    "#         print(i, cluster_point[i])\n",
    "        if len(cluster_point[i])>0:\n",
    "            x = sum([a[0] for a in cluster_point[i]])/len(cluster_point[i])\n",
    "            y = sum([a[1] for a in cluster_point[i]])/len(cluster_point[i])\n",
    "        else: x, y = 0, 0\n",
    "        center_point[i] = [x,y]\n",
    "# output\n",
    "for i in center_point: print(i[0], i[1])"
   ]
  },
  {
   "cell_type": "code",
   "execution_count": 187,
   "metadata": {},
   "outputs": [
    {
     "data": {
      "text/plain": [
       "3"
      ]
     },
     "execution_count": 187,
     "metadata": {},
     "output_type": "execute_result"
    }
   ],
   "source": [
    "a = [[1, -1],[2, 1]]\n",
    "\n",
    "sum([i[0] for i in a])"
   ]
  },
  {
   "cell_type": "markdown",
   "metadata": {},
   "source": [
    "链接：https://www.nowcoder.com/questionTerminal/0399d363fb594970bae7ad8a3978f86a?orderByHotValue=1&page=1&onlyReference=false\n",
    "来源：牛客网\n",
    "\n",
    "给定k个有序数组, 每个数组有个N个元素，找出一个最小的闭区间，使其包含每个数组中的至少一个元素。 \n",
    "给定两个区间[a,b], [c,d]： \n",
    "如果 b-a < d-c，则认为[a, b]是更小的区间；\n",
    "如果 b-a == d-c，且a < c，则认为[a, b]是更小的区间。"
   ]
  },
  {
   "cell_type": "code",
   "execution_count": null,
   "metadata": {},
   "outputs": [],
   "source": [
    "k = int(input())\n",
    "n = int(input())\n",
    "\n",
    "ls = [[1] * n for i in range(k)]\n",
    "for i in range(k): ls[i][:] = map(int,input().split())\n",
    "    \n",
    "result = [min(ls[0]), max(ls[0])]\n",
    "\n",
    "pointer = [0] * k\n",
    "while max(pointer)<= n-1:\n",
    "    cur_ls = []\n",
    "    for i in range(k):\n",
    "        cur_ls.append(ls[i][pointer[i]])\n",
    "    \n",
    "    max_num, min_num = max(cur_ls), min(cur_ls)\n",
    "    if max_num - min_num < result[1] - result[0]:\n",
    "        result = [min_num, max_num]\n",
    "        \n",
    "    min_index = cur_ls.index(min_num)\n",
    "    pointer[min_index] += 1\n",
    "    \n",
    "print(result[0], result[1])\n",
    "        \n"
   ]
  },
  {
   "cell_type": "code",
   "execution_count": 200,
   "metadata": {},
   "outputs": [
    {
     "name": "stdout",
     "output_type": "stream",
     "text": [
      "4 4 \n",
      "100 234 342 234\n",
      "123 213 343 3\n",
      "23 34 45 34\n",
      "21 34 213 34\n"
     ]
    },
    {
     "data": {
      "text/plain": [
       "[[100, 234, 342, 234], [123, 213, 343, 3], [23, 34, 45, 34], [21, 34, 213, 34]]"
      ]
     },
     "execution_count": 200,
     "metadata": {},
     "output_type": "execute_result"
    }
   ],
   "source": [
    "# input\n",
    "m,n=map(int,input().split())\n",
    "img_ls = [[0]*n for i in range(m)]\n",
    "for i in range(m):\n",
    "    img_ls[i][:] = map(int,input().split())\n",
    "    \n",
    "img_ls"
   ]
  },
  {
   "cell_type": "code",
   "execution_count": 202,
   "metadata": {},
   "outputs": [
    {
     "name": "stdout",
     "output_type": "stream",
     "text": [
      "5 5\n",
      "1 1 1 1 1\n",
      "1 1 1 1 1\n",
      "1 1 1 1 1\n",
      "1 1 1 1 1\n",
      "1 1 1 1 1\n"
     ]
    },
    {
     "data": {
      "text/plain": [
       "[[1, 1, 1, 1, 1],\n",
       " [1, 1, 1, 1, 1],\n",
       " [1, 1, 1, 1, 1],\n",
       " [1, 1, 1, 1, 1],\n",
       " [1, 1, 1, 1, 1]]"
      ]
     },
     "execution_count": 202,
     "metadata": {},
     "output_type": "execute_result"
    }
   ],
   "source": [
    "w,h=map(int,input().split())\n",
    "kernel = [[0]*w for i in range(h)]\n",
    "for i in range(h):\n",
    "    kernel[i][:] = map(int,input().split())\n",
    "    \n",
    "kernel"
   ]
  },
  {
   "cell_type": "code",
   "execution_count": 233,
   "metadata": {},
   "outputs": [
    {
     "data": {
      "text/plain": [
       "[[0, 0, 0, 0, 0, 0, 0, 0],\n",
       " [0, 0, 0, 0, 0, 0, 0, 0],\n",
       " [0, 0, 100, 234, 342, 234, 0, 0],\n",
       " [0, 0, 123, 213, 343, 3, 0, 0],\n",
       " [0, 0, 23, 34, 45, 34, 0, 0],\n",
       " [0, 0, 21, 34, 213, 34, 0, 0],\n",
       " [0, 0, 0, 0, 0, 0, 0, 0],\n",
       " [0, 0, 0, 0, 0, 0, 0, 0]]"
      ]
     },
     "execution_count": 233,
     "metadata": {},
     "output_type": "execute_result"
    }
   ],
   "source": [
    "# padding \n",
    "padding_m = h//2\n",
    "padding_n = w//2\n",
    "\n",
    "padding_image = [[0]*(n+h-1) for i in range(m+w-1)]\n",
    "padding_image\n",
    "\n",
    "for i in range(m):\n",
    "    padding_image[i+padding_m] = [0]*padding_n + img_ls[i] + [0]*padding_n\n",
    "    \n",
    "padding_image"
   ]
  },
  {
   "cell_type": "code",
   "execution_count": 234,
   "metadata": {},
   "outputs": [
    {
     "data": {
      "text/plain": [
       "[[213, 123, 123, 213, 343, 3, 3, 343],\n",
       " [234, 100, 100, 234, 342, 234, 234, 342],\n",
       " [234, 100, 100, 234, 342, 234, 234, 342],\n",
       " [213, 123, 123, 213, 343, 3, 3, 343],\n",
       " [34, 23, 23, 34, 45, 34, 34, 45],\n",
       " [34, 21, 21, 34, 213, 34, 34, 213],\n",
       " [34, 21, 21, 34, 213, 34, 34, 213],\n",
       " [34, 23, 23, 34, 45, 34, 34, 45]]"
      ]
     },
     "execution_count": 234,
     "metadata": {},
     "output_type": "execute_result"
    }
   ],
   "source": [
    "for i in range(m):\n",
    "    padding_image[i+padding_m] = img_ls[i][0:padding_m][::-1] + img_ls[i] + img_ls[i][-padding_m:][::-1]\n",
    "    \n",
    "    \n",
    "for i in range(padding_m):\n",
    "    for j in range(n):\n",
    "        padding_image[i][j+padding_n] = padding_image[2*padding_m-1-i][j+padding_n]\n",
    "        \n",
    "for i in range(padding_m):\n",
    "    for j in range(n):\n",
    "        padding_image[padding_m+m+i][j+padding_n] = padding_image[padding_m+m-i-1][j+padding_n]\n",
    "       \n",
    "# corner \n",
    "for i in range(padding_m):\n",
    "    for j in range(padding_n):\n",
    "        padding_image[i][j] = padding_image[2*padding_m-1-i][2*padding_n-1-j]\n",
    "        \n",
    "        padding_image[i+padding_m+m][j] = padding_image[padding_m+m-i-1][2*padding_n-1-j]\n",
    "        \n",
    "        padding_image[i][padding_n+n+j] = padding_image[2*padding_m-1-i][padding_n+n-j-1]\n",
    "        \n",
    "        padding_image[i+padding_m+m][padding_n+n+j] = padding_image[padding_m+m-i-1][padding_n+n-j-1]\n",
    "        \n",
    "    \n",
    "padding_image"
   ]
  },
  {
   "cell_type": "code",
   "execution_count": 238,
   "metadata": {},
   "outputs": [
    {
     "name": "stdout",
     "output_type": "stream",
     "text": [
      "[[4209, 4209, 4209, 4209], [3517, 3517, 3517, 3517], [2830, 2830, 2830, 2830], [1979, 1979, 1979, 1979]]\n"
     ]
    }
   ],
   "source": [
    "result_image = [[0]*n for i in range(m)]\n",
    "\n",
    "for i in range(m):\n",
    "    for j in range(n):\n",
    "        x = i + padding_m\n",
    "        y = j + padding_n\n",
    "        mat = padding_image[x-padding_m:x+padding_m+1]\n",
    "        v = 0\n",
    "        for p in range(h):\n",
    "            for q in range(w):\n",
    "                v+= mat[p][q]*kernel[p][q]\n",
    "        result_image[i][j] = int(v)\n",
    "        \n",
    "print(result_image)"
   ]
  },
  {
   "cell_type": "code",
   "execution_count": 243,
   "metadata": {},
   "outputs": [
    {
     "name": "stdout",
     "output_type": "stream",
     "text": [
      "4209 4209 4209 4209\n",
      "3517 3517 3517 3517\n",
      "2830 2830 2830 2830\n",
      "1979 1979 1979 1979\n"
     ]
    }
   ],
   "source": [
    "for i in result_image: \n",
    "    string = ''\n",
    "    for j in i:\n",
    "        string+= str(j) + ' '\n",
    "    print(string[:-1])"
   ]
  },
  {
   "cell_type": "code",
   "execution_count": 251,
   "metadata": {},
   "outputs": [],
   "source": [
    "import numpy as np"
   ]
  },
  {
   "cell_type": "code",
   "execution_count": 256,
   "metadata": {},
   "outputs": [
    {
     "name": "stdout",
     "output_type": "stream",
     "text": [
      "[[100 100 100 100 100]\n",
      " [100 100 100 100 100]\n",
      " [200 200 200 200 200]\n",
      " [  0   0   0   0   0]\n",
      " [  0   0   0   0   0]]\n",
      "[[100 100 100 100 100]\n",
      " [100 100 100 100 100]\n",
      " [200 200 200 200 200]]\n",
      "[[100 100 100 100 100]\n",
      " [100 100 100 100 100]\n",
      " [200 200 200 200 200]]\n",
      "[[100 100 100 100 100]\n",
      " [100 100 100 100 100]\n",
      " [200 200 200 200 200]]\n",
      "[[100 100 100 100 100]\n",
      " [200 200 200 200 200]\n",
      " [  0   0   0   0   0]]\n",
      "[[100 100 100 100 100]\n",
      " [200 200 200 200 200]\n",
      " [  0   0   0   0   0]]\n",
      "[[100 100 100 100 100]\n",
      " [200 200 200 200 200]\n",
      " [  0   0   0   0   0]]\n",
      "[[200 200 200 200 200]\n",
      " [  0   0   0   0   0]\n",
      " [  0   0   0   0   0]]\n",
      "[[200 200 200 200 200]\n",
      " [  0   0   0   0   0]\n",
      " [  0   0   0   0   0]]\n",
      "[[200 200 200 200 200]\n",
      " [  0   0   0   0   0]\n",
      " [  0   0   0   0   0]]\n",
      "130 130 130\n",
      "110 110 110\n",
      "60 60 60\n"
     ]
    }
   ],
   "source": [
    "# input\n",
    "# n,m=map(int,input().split())\n",
    "# img_ls = [[0]*n for i in range(m)]\n",
    "# for i in range(m):\n",
    "#     img_ls[i][:] = map(int,input().split())\n",
    "    \n",
    "# w,h=map(int,input().split())\n",
    "# kernel = [[0]*w for i in range(h)]\n",
    "# for i in range(h):\n",
    "#     kernel[i][:] = map(float,input().split())\n",
    "    \n",
    "# padding \n",
    "padding_m = h//2\n",
    "padding_n = w//2\n",
    "\n",
    "padding_image = [[0]*(n+h-1) for i in range(m+w-1)]\n",
    "\n",
    "for i in range(m):\n",
    "    padding_image[i+padding_m] = [0]*padding_n + img_ls[i] + [0]*padding_n\n",
    "for i in range(m):    \n",
    "    padding_image[i+padding_m] = img_ls[i][0:padding_m][::-1] + img_ls[i] + img_ls[i][-padding_m:][::-1]\n",
    "    \n",
    "\n",
    "for i in range(padding_m):\n",
    "    for j in range(n):\n",
    "        padding_image[i][j+padding_n] = padding_image[2*padding_m-1-i][j+padding_n]\n",
    "        \n",
    "        padding_image[padding_m+m+i][j+padding_n] = padding_image[padding_m+m-i-1][j+padding_n]\n",
    "     \n",
    "# corner \n",
    "for i in range(padding_m):\n",
    "    for j in range(padding_n):\n",
    "        padding_image[i][j] = padding_image[2*padding_m-1-i][2*padding_n-1-j]\n",
    "        \n",
    "        padding_image[i+padding_m+m][j] = padding_image[padding_m+m-i-1][2*padding_n-1-j]\n",
    "        \n",
    "        padding_image[i][padding_n+n+j] = padding_image[2*padding_m-1-i][padding_n+n-j-1]\n",
    "        \n",
    "        padding_image[i+padding_m+m][padding_n+n+j] = padding_image[padding_m+m-i-1][padding_n+n-j-1]\n",
    "print(np.array(padding_image))        \n",
    "result_image = [[0]*n for i in range(m)]\n",
    "\n",
    "for i in range(m):\n",
    "    for j in range(n):\n",
    "        x = i + padding_m\n",
    "        y = j + padding_n\n",
    "        mat = padding_image[x-padding_m:x+padding_m+1]\n",
    "        v = 0\n",
    "        print(np.array(mat))    \n",
    "        for p in range(h):\n",
    "            for q in range(w):\n",
    "                v+= mat[p][q]*kernel[p][q]\n",
    "        result_image[i][j] = int(v)\n",
    "        \n",
    "for i in result_image: \n",
    "    string = ''\n",
    "    for j in i:\n",
    "        string+= str(j) + ' '\n",
    "    print(string[:-1])"
   ]
  },
  {
   "cell_type": "markdown",
   "metadata": {},
   "source": [
    "\n",
    "3 3\n",
    "100 100 100\n",
    "200 200 200\n",
    "0 0 0\n",
    "3 3\n",
    "0.09 0.12 0.09\n",
    "0.12 0.16 0.12\n",
    "0.09 0.12 0.09"
   ]
  },
  {
   "cell_type": "code",
   "execution_count": 1,
   "metadata": {},
   "outputs": [
    {
     "name": "stdout",
     "output_type": "stream",
     "text": [
      "4 4\n",
      "3 3 3 3\n"
     ]
    }
   ],
   "source": [
    "n,k=map(int,input().split())\n",
    "\n",
    "ls = [0]*n\n",
    "\n",
    "ls = map(int,input().split())"
   ]
  },
  {
   "cell_type": "code",
   "execution_count": 22,
   "metadata": {},
   "outputs": [
    {
     "name": "stdout",
     "output_type": "stream",
     "text": [
      "[1, 1, 1, 1] [3, 3, 3, 3]\n"
     ]
    }
   ],
   "source": [
    "ls = list(ls)\n",
    "\n",
    "result = [1] * n\n",
    "\n",
    "ls = [3]*4\n",
    "print(result,ls)"
   ]
  },
  {
   "cell_type": "code",
   "execution_count": 23,
   "metadata": {},
   "outputs": [
    {
     "name": "stdout",
     "output_type": "stream",
     "text": [
      "0 1\n",
      "0 2\n",
      "0 3\n",
      "1 1\n",
      "1 2\n",
      "1 3\n",
      "2 1\n",
      "2 2\n",
      "2 3\n",
      "3 1\n",
      "3 2\n",
      "3 3\n",
      "4\n"
     ]
    }
   ],
   "source": [
    "for i in range(n):\n",
    "    for j in range(1,ls[i]+1):\n",
    "        print(i, j)\n",
    "        if i - j >= 0: result[i - j]+=1\n",
    "        if i + j <= n-1: result[i + j]+=1\n",
    "\n",
    "ans = 0\n",
    "for i in result:\n",
    "    if i >= k: ans+=1\n",
    "        \n",
    "\n",
    "\n",
    "    \n",
    "print(ans)"
   ]
  },
  {
   "cell_type": "code",
   "execution_count": 24,
   "metadata": {},
   "outputs": [
    {
     "name": "stdout",
     "output_type": "stream",
     "text": [
      "4 4\n",
      "3 3 3 3\n",
      "0 1\n",
      "0 2\n",
      "0 3\n",
      "1 1\n",
      "1 2\n",
      "1 3\n",
      "2 1\n",
      "2 2\n",
      "2 3\n",
      "3 1\n",
      "3 2\n",
      "3 3\n",
      "4\n"
     ]
    }
   ],
   "source": [
    "n,k=map(int,input().split())\n",
    "\n",
    "ls = [0]*n\n",
    "\n",
    "ls[:] = map(int,input().split())\n",
    "result = [1] * n\n",
    "\n",
    "for i in range(n):\n",
    "    for j in range(1,ls[i]+1):\n",
    "        print(i, j)\n",
    "        if i - j >= 0: result[i - j]+=1\n",
    "        if i + j <= n-1: result[i + j]+=1\n",
    "\n",
    "ans = 0\n",
    "for i in result:\n",
    "    if i >= k: ans+=1\n",
    "        \n",
    "print(ans)"
   ]
  },
  {
   "cell_type": "code",
   "execution_count": 26,
   "metadata": {},
   "outputs": [
    {
     "name": "stdout",
     "output_type": "stream",
     "text": [
      "5\n",
      "1 5\n",
      "2 4\n",
      "2 3\n",
      "1 4\n",
      "2 5\n"
     ]
    }
   ],
   "source": [
    "n = int(input())\n",
    "\n",
    "ls = [[1] * 2 for i in range(n)]\n",
    "for i in range(n): ls[i][:] = map(int,input().split())\n",
    "    "
   ]
  },
  {
   "cell_type": "code",
   "execution_count": null,
   "metadata": {},
   "outputs": [],
   "source": [
    "5\n",
    "1 5\n",
    "2 4\n",
    "2 3\n",
    "1 4\n",
    "2 5"
   ]
  },
  {
   "cell_type": "code",
   "execution_count": 43,
   "metadata": {},
   "outputs": [
    {
     "data": {
      "text/plain": [
       "[[2, 5]]"
      ]
     },
     "execution_count": 43,
     "metadata": {},
     "output_type": "execute_result"
    }
   ],
   "source": [
    "\n",
    "\n",
    "ls_n = [ls[-1]]\n",
    "ls_n"
   ]
  },
  {
   "cell_type": "code",
   "execution_count": 47,
   "metadata": {},
   "outputs": [
    {
     "name": "stdout",
     "output_type": "stream",
     "text": [
      "[1, 4] [[2, 5], [1, 4], [1, 5]]\n",
      "[1, 5] [[2, 5], [1, 4], [1, 5]]\n"
     ]
    }
   ],
   "source": [
    "cmp = ls[-1]\n",
    "\n",
    "for i in range(n-2,-1,-1): \n",
    "    flag = True \n",
    "    if ls[i][0] >= cmp[0] and ls[i][1] <= cmp[1]:\n",
    "        continue\n",
    "    \n",
    "    for num in ls_n:\n",
    "        if ls[i][0] >= num[0] and ls[i][1] <= num[1]:\n",
    "            flag = False\n",
    "            break\n",
    "    if flag: \n",
    "        ls_n.append(ls[i])\n",
    "        if ls[i][0] <= cmp[0] and ls[i][1] >= num[1]:\n",
    "            cmp = ls[i]\n",
    "    print(ls[i], ls_n)"
   ]
  },
  {
   "cell_type": "code",
   "execution_count": 55,
   "metadata": {},
   "outputs": [
    {
     "name": "stdout",
     "output_type": "stream",
     "text": [
      "2\n",
      "2 3\n",
      "3 4\n"
     ]
    }
   ],
   "source": [
    "n = int(input())\n",
    "\n",
    "lr = [[0 for i in range(2)] for j in range(n)]\n",
    "\n",
    "for i in range(n):\n",
    "    lr[i][0], lr[i][1] = map(int, input().split())"
   ]
  },
  {
   "cell_type": "code",
   "execution_count": 63,
   "metadata": {},
   "outputs": [
    {
     "name": "stdout",
     "output_type": "stream",
     "text": [
      "2\n"
     ]
    }
   ],
   "source": [
    "n = 5\n",
    "lr = [[1,5],[2,4],[2,3],[1,4],[2,5]]\n",
    "\n",
    "remove = 0\n",
    "for i in range(n):\n",
    "    left = lr[i][0]\n",
    "    right = lr[i][1]\n",
    "    for j in range(i+1, n):\n",
    "        if left >= lr[j][0] and right <= lr[j][1]:\n",
    "            remove += 1\n",
    "            break\n",
    "        \n",
    "print(remove)"
   ]
  },
  {
   "cell_type": "code",
   "execution_count": 74,
   "metadata": {},
   "outputs": [
    {
     "name": "stdout",
     "output_type": "stream",
     "text": [
      "True\n"
     ]
    }
   ],
   "source": [
    "def match_parentheses(s):\n",
    "\n",
    "    ls = []\n",
    "    parentheses = \"()[]{}\"\n",
    "    for i in range(len(s)):\n",
    "        cur = s[i]\n",
    "\n",
    "        if parentheses.find(cur) == -1:\n",
    "            continue\n",
    "        if cur in ['(', '[', '{']:\n",
    "            ls.append(cur)\n",
    "            continue\n",
    "        if len(ls) == 0:\n",
    "            return False\n",
    "\n",
    "        p = ls.pop()\n",
    "        if (p == '(' and cur == ')') or (p == '[' and cur == ']') or (p == '{' and cur == '}'):\n",
    "            continue\n",
    "        else:\n",
    "            return False\n",
    "\n",
    "    if len(ls) > 0:\n",
    "        return False\n",
    "    return True\n",
    "\n",
    "\n",
    "if __name__ == '__main__':\n",
    "#     s = input()\n",
    "    s = \"{abc}\"\n",
    "    result = match_parentheses(s)\n",
    "    print(result)\n",
    "\n"
   ]
  },
  {
   "cell_type": "code",
   "execution_count": null,
   "metadata": {},
   "outputs": [],
   "source": [
    "2.  寻找最长递增子序列\n",
    "     input ：int  list  \n",
    "     example: [1,3,5,2,4,6,7,8]  -> 6 \n",
    "     return length"
   ]
  },
  {
   "cell_type": "code",
   "execution_count": 90,
   "metadata": {},
   "outputs": [
    {
     "name": "stdout",
     "output_type": "stream",
     "text": [
      "1\n"
     ]
    }
   ],
   "source": [
    "def LIS(B, d, n):\n",
    "    left = right = mid = l = 1\n",
    "    B[0] = d[0]   \n",
    "    for i in range(1, n):\n",
    "        left = 0\n",
    "        right = l \n",
    "        while(left <= right):\n",
    "            mid = (left + right) // 2\n",
    "            if(B[mid] < d[i]):\n",
    "                left = mid + 1\n",
    "            else:\n",
    "                right = mid - 1\n",
    "        B[left] = d[i] \n",
    "        if(left > l) :\n",
    "            l += 1\n",
    "    return l\n",
    " \n",
    "if '__name__ = __main__' :\n",
    "    \n",
    "    d = [1,3,5,2,4,6,7,8]\n",
    "    B=[0]*len(d) \n",
    "    print(LIS(B, d, len(d)))"
   ]
  },
  {
   "cell_type": "code",
   "execution_count": 100,
   "metadata": {},
   "outputs": [
    {
     "name": "stdout",
     "output_type": "stream",
     "text": [
      "6\n"
     ]
    }
   ],
   "source": [
    "def lis(li):\n",
    "    \n",
    "    d = [1] * len(li)\n",
    "    res = 1\n",
    "    for i in range(len(li)):\n",
    "        for j in range(i):\n",
    "            if li[i] > li[j]:\n",
    "                d[i] = max(d[i], d[j]+1)\n",
    "            if d[i] > res: res = d[i]\n",
    "    \n",
    "    return res\n",
    "\n",
    "li = [1,3,5,2,4,6,7,8]\n",
    "print(lis(li))"
   ]
  },
  {
   "cell_type": "code",
   "execution_count": 64,
   "metadata": {},
   "outputs": [
    {
     "name": "stdout",
     "output_type": "stream",
     "text": [
      "1.3\n"
     ]
    },
    {
     "data": {
      "text/plain": [
       "'1.3'"
      ]
     },
     "execution_count": 64,
     "metadata": {},
     "output_type": "execute_result"
    }
   ],
   "source": [
    "k=input()\n",
    "k"
   ]
  },
  {
   "cell_type": "code",
   "execution_count": 13,
   "metadata": {},
   "outputs": [],
   "source": [
    "dic = {'a':1,'b':1,'c':1}"
   ]
  },
  {
   "cell_type": "code",
   "execution_count": 45,
   "metadata": {},
   "outputs": [],
   "source": [
    "dic = []\n",
    "val = []\n",
    "for i in k:\n",
    "    if i in dic:\n",
    "        val[dic.index(i)] += 1\n",
    "    else: \n",
    "        dic.append(i)\n",
    "        val.append(1)\n",
    "     \n",
    "\n"
   ]
  },
  {
   "cell_type": "code",
   "execution_count": 46,
   "metadata": {},
   "outputs": [
    {
     "name": "stdout",
     "output_type": "stream",
     "text": [
      "7\n"
     ]
    }
   ],
   "source": [
    "val[val.index(min(val))] -= 1\n",
    "val[val.index(max(val))] += 1\n",
    "\n",
    "result = 0\n",
    "for i in val:\n",
    "    result += i*i\n",
    "print(result)"
   ]
  },
  {
   "cell_type": "code",
   "execution_count": 53,
   "metadata": {},
   "outputs": [
    {
     "data": {
      "text/plain": [
       "1.23"
      ]
     },
     "execution_count": 53,
     "metadata": {},
     "output_type": "execute_result"
    }
   ],
   "source": [
    "a = '121211'\n",
    "a.find('.')\n",
    "\n",
    "float(1.23)"
   ]
  },
  {
   "cell_type": "code",
   "execution_count": 59,
   "metadata": {},
   "outputs": [],
   "source": [
    "def str2num(s):\n",
    "    \n",
    "    if s.find('.') == -1 or s.find('.') + 1 == len(s):\n",
    "        return float(s)\n",
    "    else:\n",
    "        \n",
    "        big = s[:s.find('.')]\n",
    "        small = s[s.find('.')+1:]\n",
    "        if small.find('.') == -1: return float(s)\n",
    "        else:\n",
    "        \n",
    "            return float(s[:len(big)+small.find('.')+1])"
   ]
  },
  {
   "cell_type": "code",
   "execution_count": 84,
   "metadata": {},
   "outputs": [
    {
     "name": "stdout",
     "output_type": "stream",
     "text": [
      "BBBABBB\n"
     ]
    }
   ],
   "source": [
    "n = 7\n",
    "k = 3\n",
    "\n",
    "result = ''\n",
    "if k > n -1: print('-')\n",
    "else:\n",
    "    for i in range(n-k-1):\n",
    "        result += 'B'\n",
    "        \n",
    "\n",
    "    result = result + 'A'\n",
    "    \n",
    "    for i in range(k):\n",
    "        result += 'B'\n",
    "        \n",
    "    print(result)"
   ]
  },
  {
   "cell_type": "code",
   "execution_count": 95,
   "metadata": {},
   "outputs": [
    {
     "name": "stdout",
     "output_type": "stream",
     "text": [
      "5 4\n",
      "1 1 2 3 3\n"
     ]
    }
   ],
   "source": [
    "m,n=map(int,input().split())\n",
    "\n",
    "ls = [0]*m\n",
    "\n",
    "ls[:] = map(int,input().split())"
   ]
  },
  {
   "cell_type": "code",
   "execution_count": 96,
   "metadata": {},
   "outputs": [
    {
     "name": "stdout",
     "output_type": "stream",
     "text": [
      "[1, 2, 3] [2, 1, 2]\n"
     ]
    }
   ],
   "source": [
    "dic = []\n",
    "val = []\n",
    "for i in ls:\n",
    "    if i in dic:\n",
    "        val[dic.index(i)] += 1\n",
    "    else: \n",
    "        dic.append(i)\n",
    "        val.append(1)\n",
    "print(dic, val) "
   ]
  },
  {
   "cell_type": "code",
   "execution_count": 98,
   "metadata": {},
   "outputs": [
    {
     "name": "stdout",
     "output_type": "stream",
     "text": [
      "3\n"
     ]
    }
   ],
   "source": [
    "result = 4000\n",
    "\n",
    "\n",
    "for i in range(len(dic)):\n",
    "    left = n-val[i]\n",
    "    if sum(val[:i]) >= left:\n",
    "        current_result = 0\n",
    "        point = i\n",
    "        level = 1\n",
    "        while left > 0:\n",
    "            point -= 1\n",
    "            if left >=val[point]:\n",
    "                current_result += level * val[point]\n",
    "                left = left - val[point]\n",
    "                level += 1\n",
    "            else: \n",
    "                current_result += level * left\n",
    "                break\n",
    "        \n",
    "        if current_result < result:\n",
    "            result = current_result\n",
    "print(result)"
   ]
  }
 ],
 "metadata": {
  "kernelspec": {
   "display_name": "Python 3",
   "language": "python",
   "name": "python3"
  },
  "language_info": {
   "codemirror_mode": {
    "name": "ipython",
    "version": 3
   },
   "file_extension": ".py",
   "mimetype": "text/x-python",
   "name": "python",
   "nbconvert_exporter": "python",
   "pygments_lexer": "ipython3",
   "version": "3.6.4"
  }
 },
 "nbformat": 4,
 "nbformat_minor": 2
}
