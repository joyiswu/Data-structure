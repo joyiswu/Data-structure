{
 "cells": [
  {
   "cell_type": "markdown",
   "metadata": {},
   "source": [
    "# Problem\n",
    "Divide two integers without using multiplication, division and mod operator.\n",
    "\n",
    "If it is overflow, return MAX_INT."
   ]
  },
  {
   "cell_type": "markdown",
   "metadata": {},
   "source": [
    "用减法写出出发，并且考虑运行时间，如果暴力dividend除以divisor,那么运行时间则会超时"
   ]
  },
  {
   "cell_type": "markdown",
   "metadata": {},
   "source": [
    "### Solution\n",
    "暴力解法（错误：运行时间超过）"
   ]
  },
  {
   "cell_type": "code",
   "execution_count": 5,
   "metadata": {},
   "outputs": [
    {
     "name": "stdout",
     "output_type": "stream",
     "text": [
      "17\n"
     ]
    }
   ],
   "source": [
    "class Solution:\n",
    "    def divide(self, dividend, divisor):\n",
    "        \"\"\"\n",
    "        :type dividend: int\n",
    "        :type divisor: int\n",
    "        :rtype: int\n",
    "        \"\"\"\n",
    "        \n",
    "        # if dividend > pow(2, 31)-1 or divisor > pow(2, 31)-1:\n",
    "        #     return\n",
    "        result = 0\n",
    "        \n",
    "        dividend_abs, divisor_abs = abs(dividend), abs(divisor)\n",
    "        while(dividend_abs >= divisor_abs):\n",
    "            dividend_abs = dividend_abs-divisor_abs \n",
    "            result += 1\n",
    "        \n",
    "        if (dividend < 0 and divisor > 0) or (dividend > 0 and divisor < 0):\n",
    "            result = result - result - result\n",
    "            \n",
    "        return result\n",
    "        \n",
    "\n",
    "a = Solution().divide(34, 2)\n",
    "print(a)"
   ]
  },
  {
   "cell_type": "markdown",
   "metadata": {},
   "source": [
    "用除法原始计算方法，从最高位往最低位算。"
   ]
  },
  {
   "cell_type": "code",
   "execution_count": 44,
   "metadata": {},
   "outputs": [
    {
     "name": "stdout",
     "output_type": "stream",
     "text": [
      "-2147483648\n"
     ]
    }
   ],
   "source": [
    "class Solution:\n",
    "    \n",
    "    def time_ten(self, num):\n",
    "        num_2 = num + num\n",
    "        num_4 = num_2 + num_2\n",
    "        num_8 = num_4 + num_4\n",
    "        num_10 = num_8 + num_2\n",
    "        return num_10\n",
    "        \n",
    "    def divide(self, dividend, divisor):\n",
    "        \"\"\"\n",
    "        :type dividend: int\n",
    "        :type divisor: int\n",
    "        :rtype: int\n",
    "        \"\"\"\n",
    "        \n",
    "        # if dividend > pow(2, 31)-1 or divisor > pow(2, 31)-1:\n",
    "        #     return\n",
    "        result = \"\"\n",
    "        remainder = 0\n",
    "        \n",
    "        dividend_abs, divisor_abs = abs(dividend), abs(divisor)\n",
    "        for num in str(dividend_abs):\n",
    "            cur_result = 0\n",
    "            current = int(num) + self.time_ten(remainder)\n",
    "            while(current >= divisor_abs):\n",
    "                current = current-divisor_abs \n",
    "                cur_result += 1\n",
    "            \n",
    "            result += str(cur_result)\n",
    "            # update remainder    \n",
    "            remainder = current\n",
    "            \n",
    "        result = int(result)\n",
    "\n",
    "        # convert abs value to signed value\n",
    "        if (dividend < 0 and divisor > 0) or (dividend > 0 and divisor < 0):\n",
    "            result = result - result - result\n",
    "            \n",
    "        # 32 bits int\n",
    "        return max(min(result,pow(2,31)-1),-pow(2,31)) \n",
    "        \n",
    "\n",
    "a = Solution().divide(-2147483648, 1)\n",
    "b = Solution().time_ten(10)\n",
    "\n",
    "print(a)"
   ]
  },
  {
   "cell_type": "code",
   "execution_count": 38,
   "metadata": {},
   "outputs": [
    {
     "data": {
      "text/plain": [
       "2147483648"
      ]
     },
     "execution_count": 38,
     "metadata": {},
     "output_type": "execute_result"
    }
   ],
   "source": [
    "pow(2,31)"
   ]
  }
 ],
 "metadata": {
  "kernelspec": {
   "display_name": "Python 3",
   "language": "python",
   "name": "python3"
  },
  "language_info": {
   "codemirror_mode": {
    "name": "ipython",
    "version": 3
   },
   "file_extension": ".py",
   "mimetype": "text/x-python",
   "name": "python",
   "nbconvert_exporter": "python",
   "pygments_lexer": "ipython3",
   "version": "3.6.4"
  }
 },
 "nbformat": 4,
 "nbformat_minor": 2
}
