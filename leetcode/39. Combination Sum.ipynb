{
 "cells": [
  {
   "cell_type": "markdown",
   "metadata": {},
   "source": [
    "# Problem"
   ]
  },
  {
   "cell_type": "markdown",
   "metadata": {},
   "source": [
    "Given a set of candidate numbers (C) (without duplicates) and a target number (T), find all unique combinations in C where the candidate numbers sums to T.\n",
    "\n",
    "The same repeated number may be chosen from C unlimited number of times.\n",
    "\n",
    "Note:\n",
    "All numbers (including target) will be positive integers.\n",
    "The solution set must not contain duplicate combinations.\n",
    "given candidate set [2, 3, 6, 7] and target 7, "
   ]
  },
  {
   "cell_type": "markdown",
   "metadata": {},
   "source": [
    "### Example"
   ]
  },
  {
   "cell_type": "markdown",
   "metadata": {},
   "source": [
    "given candidate set [2, 3, 6, 7] and target 7, \n",
    "A solution set is: "
   ]
  },
  {
   "cell_type": "code",
   "execution_count": 3,
   "metadata": {},
   "outputs": [
    {
     "data": {
      "text/plain": [
       "[[7], [2, 2, 3]]"
      ]
     },
     "execution_count": 3,
     "metadata": {},
     "output_type": "execute_result"
    }
   ],
   "source": [
    "[\n",
    "  [7],\n",
    "  [2, 2, 3]\n",
    "]\n"
   ]
  },
  {
   "cell_type": "markdown",
   "metadata": {},
   "source": [
    "## Solution"
   ]
  },
  {
   "cell_type": "code",
   "execution_count": 76,
   "metadata": {
    "scrolled": false
   },
   "outputs": [
    {
     "name": "stdout",
     "output_type": "stream",
     "text": [
      "[[6, 6], [3, 3, 6], [3, 4, 5], [5, 7], [4, 8], [3, 3, 3, 3], [12], [4, 4, 4]]\n"
     ]
    }
   ],
   "source": [
    "class Solution:\n",
    "    \n",
    "    # candidates and target are combinationSum input \n",
    "    # result is final result\n",
    "    # current is currently int value to compare with target\n",
    "    # current_result is current result list\n",
    "    def listsum(self, candidates, result, current_result, \n",
    "                target):\n",
    "        for cand_number in candidates:   \n",
    "            if sum(current_result)+cand_number == target:\n",
    "                if sorted(current_result + [cand_number]) not in result:\n",
    "                    result.append(sorted(current_result + [cand_number]))\n",
    "\n",
    "            if sum(current_result)+cand_number < target:\n",
    "                self.listsum( \n",
    "                             candidates,\n",
    "                             result,\n",
    "                             current_result + [cand_number],\n",
    "                             target)\n",
    "\n",
    "    def combinationSum(self, candidates, target):\n",
    "        \"\"\"\n",
    "        :type candidates: List[int]\n",
    "        :type target: int\n",
    "        :rtype: List[List[int]]\n",
    "        \"\"\"\n",
    "        result = []\n",
    "        self.listsum(candidates, result, [], target)\n",
    "\n",
    "        return result\n",
    "    \n",
    "a = Solution().combinationSum([11,6,5,8,3,12,7,4],12)\n",
    "print(a)"
   ]
  },
  {
   "cell_type": "markdown",
   "metadata": {},
   "source": [
    "虽然自己写出来了，但是run time非常不好，在程序开始应该先排序，跟从小到大的序列解决问题"
   ]
  }
 ],
 "metadata": {
  "kernelspec": {
   "display_name": "Python 3",
   "language": "python",
   "name": "python3"
  },
  "language_info": {
   "codemirror_mode": {
    "name": "ipython",
    "version": 3
   },
   "file_extension": ".py",
   "mimetype": "text/x-python",
   "name": "python",
   "nbconvert_exporter": "python",
   "pygments_lexer": "ipython3",
   "version": "3.6.4"
  }
 },
 "nbformat": 4,
 "nbformat_minor": 2
}
